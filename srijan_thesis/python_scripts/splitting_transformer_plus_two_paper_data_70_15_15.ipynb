{
    "cells": [
        {
            "cell_type": "code",
            "execution_count": null,
            "metadata": {},
            "outputs": [],
            "source": [
                "#######################################################################################\n",
                "# Author: Srijan Verma                                                              #\n",
                "# School of Pharmacy                                                                #\n",
                "# Sirimulla Research Group [http://www.sirimullaresearchgroup.com/]                 #\n",
                "# The University of Texas at El Paso, TX, USA                                       #\n",
                "# Last modified: 19/12/2019                                                         #\n",
                "# Copyright (c) 2019 Srijan Verma and Sirimulla Research Group, under MIT license   #\n",
                "#######################################################################################"
            ]
        },
        {
            "cell_type": "code",
            "execution_count": 2,
            "metadata": {},
            "outputs": [],
            "source": [
                "from sklearn.preprocessing import LabelEncoder\n",
                "import sys\n",
                "import pandas as pd\n",
                "import numpy as np\n",
                "from glob import glob\n",
                "from tqdm import tqdm_notebook\n",
                "import os\n",
                "from sklearn.preprocessing import MinMaxScaler\n",
                "import time\n",
                "from sklearn import model_selection\n",
                "seed = 7\n",
                "_val_size = 0.15\n",
                "_test_size = 0.15"
            ]
        },
        {
            "cell_type": "code",
            "execution_count": 3,
            "metadata": {},
            "outputs": [
                {
                    "data": {
                        "application/vnd.jupyter.widget-view+json": {
                            "model_id": "826f3780c4454ec5b40cf3b8fab7d934",
                            "version_major": 2,
                            "version_minor": 0
                        },
                        "text/plain": [
                            "HBox(children=(IntProgress(value=0, max=3), HTML(value='')))"
                        ]
                    },
                    "metadata": {},
                    "output_type": "display_data"
                },
                {
                    "name": "stdout",
                    "output_type": "stream",
                    "text": [
                        "\n"
                    ]
                }
            ],
            "source": [
                "data_type = ['inhib_data','sub_data','inducer_data']\n",
                "c=  0\n",
                "for _type in tqdm_notebook(data_type):\n",
                "    \n",
                "    for csv in (glob('../dataset/two_paper_plus_transformer_combined/'+_type+'/*csv')):\n",
                "        df = pd.read_csv(csv, index_col = 0)\n",
                "        \n",
                "        if len(df[df.Label == 'positive']) >= 15:\n",
                "            c = c + 1\n",
                "            df.reset_index(drop=True, inplace=True)\n",
                "            X = df[['Canonical_Smiles','drug_name','drug_type']].values\n",
                "            labelencoder = LabelEncoder()                       \n",
                "            Y = df['Label'].values\n",
                "            \n",
                "            X_train, X_test, y_train, y_test = model_selection.train_test_split(X, Y, test_size=_test_size, random_state=seed, stratify=Y)\n",
                "            X_train, X_val, y_train, y_val = model_selection.train_test_split(X_train, y_train, test_size=(round((_val_size/(1-_test_size)), 3)), random_state=seed, stratify=y_train)\n",
                "\n",
                "            df_tr = pd.DataFrame(X_train,columns=['Canonical_Smiles','drug_name','drug_type'])\n",
                "            df_va = pd.DataFrame(X_val,columns=['Canonical_Smiles','drug_name','drug_type'])\n",
                "            df_te = pd.DataFrame(X_test,columns=['Canonical_Smiles','drug_name','drug_type'])\n",
                "            df_tr['Label'] = y_train\n",
                "            df_va['Label'] = y_val\n",
                "            df_te['Label'] = y_test\n",
                "\n",
                "            out = os.path.splitext(os.path.basename(csv))[0]\n",
                "            df_tr.to_csv('../dataset/two_paper_plus_transformer_combined/splitted_csv_files/'+out+'_tr.csv')\n",
                "            df_va.to_csv('../dataset/two_paper_plus_transformer_combined/splitted_csv_files/'+out+'_va.csv')\n",
                "            df_te.to_csv('../dataset/two_paper_plus_transformer_combined/splitted_csv_files/'+out+'_te.csv')\n",
                "            \n",
                "            continue\n",
                "        \n",
                "        else:\n",
                "            continue"
            ]
        },
        {
            "cell_type": "code",
            "execution_count": 4,
            "metadata": {},
            "outputs": [
                {
                    "data": {
                        "text/plain": [
                            "87"
                        ]
                    },
                    "execution_count": 4,
                    "metadata": {},
                    "output_type": "execute_result"
                }
            ],
            "source": [
                "c"
            ]
        },
        {
            "cell_type": "code",
            "execution_count": 8,
            "metadata": {},
            "outputs": [],
            "source": [
                "_dtype = np.float16"
            ]
        },
        {
            "cell_type": "code",
            "execution_count": 9,
            "metadata": {},
            "outputs": [],
            "source": [
                "long_fps = {'laval', 'lecfp4', 'lecfp6', 'lfcfp4', 'lfcfp6'}"
            ]
        },
        {
            "cell_type": "code",
            "execution_count": 10,
            "metadata": {},
            "outputs": [
                {
                    "data": {
                        "text/plain": [
                            "set"
                        ]
                    },
                    "execution_count": 10,
                    "metadata": {},
                    "output_type": "execute_result"
                }
            ],
            "source": [
                "type(long_fps)"
            ]
        },
        {
            "cell_type": "code",
            "execution_count": null,
            "metadata": {},
            "outputs": [],
            "source": []
        }
    ],
    "metadata": {
        "kernelspec": {
            "display_name": "Python [conda env:seqcomhol]",
            "language": "python",
            "name": "conda-env-seqcomhol-py"
        },
        "language_info": {
            "codemirror_mode": {
                "name": "ipython",
                "version": 3
            },
            "file_extension": ".py",
            "mimetype": "text/x-python",
            "name": "python",
            "nbconvert_exporter": "python",
            "pygments_lexer": "ipython3",
            "version": "3.6.5"
        }
    },
    "nbformat": 4,
    "nbformat_minor": 2
}