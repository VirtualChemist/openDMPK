{
    "cells": [
        {
            "cell_type": "code",
            "execution_count": null,
            "metadata": {},
            "outputs": [],
            "source": [
                "#######################################################################################\n",
                "# Author: Srijan Verma                                                              #\n",
                "# School of Pharmacy                                                                #\n",
                "# Sirimulla Research Group [http://www.sirimullaresearchgroup.com/]                 #\n",
                "# The University of Texas at El Paso, TX, USA                                       #\n",
                "# Last modified: 19/12/2019                                                         #\n",
                "# Copyright (c) 2019 Srijan Verma and Sirimulla Research Group, under MIT license   #\n",
                "#######################################################################################"
            ]
        },
        {
            "cell_type": "code",
            "execution_count": 29,
            "metadata": {},
            "outputs": [],
            "source": [
                "import pandas as pd\n",
                "from tqdm import tqdm_notebook\n",
                "from glob import glob\n",
                "from bs4 import BeautifulSoup\n",
                "import requests\n",
                "from tqdm import tqdm_notebook\n",
                "import pandas as pd\n",
                "from glob import glob\n",
                "import time\n",
                "import os"
            ]
        },
        {
            "cell_type": "code",
            "execution_count": 5,
            "metadata": {},
            "outputs": [
                {
                    "data": {
                        "application/vnd.jupyter.widget-view+json": {
                            "model_id": "455f3c01467c47e7951adb8b7369da61",
                            "version_major": 2,
                            "version_minor": 0
                        },
                        "text/plain": [
                            "HBox(children=(IntProgress(value=0, max=3), HTML(value='')))"
                        ]
                    },
                    "metadata": {},
                    "output_type": "display_data"
                },
                {
                    "name": "stdout",
                    "output_type": "stream",
                    "text": [
                        "\n"
                    ]
                },
                {
                    "name": "stderr",
                    "output_type": "stream",
                    "text": [
                        "/Users/pankajverma/anaconda3/envs/seqcomhol/lib/python3.6/site-packages/pandas/core/frame.py:4097: SettingWithCopyWarning: \n",
                        "A value is trying to be set on a copy of a slice from a DataFrame\n",
                        "\n",
                        "See the caveats in the documentation: http://pandas.pydata.org/pandas-docs/stable/user_guide/indexing.html#returning-a-view-versus-a-copy\n",
                        "  errors=errors,\n"
                    ]
                }
            ],
            "source": [
                "enzyme = ['3a4', '2d6', '2c9']\n",
                "for enz in tqdm_notebook(enzyme):\n",
                "    interesting_files = glob(\"../dataset/sub_inhib_2005_paper_data/data_with_smiles/\"+enz+\"/*.csv\")  \n",
                "    df = pd.concat((pd.read_csv(f, header = 0, index_col = 0) for f in (interesting_files))) \n",
                "#     print(len(df))\n",
                "    df_deduplicated = df.drop_duplicates() \n",
                "    df_deduplicated.reset_index(drop=True,inplace=True)\n",
                "    df_deduplicated.drop(['Class', 'Set'], axis=1, inplace=True)\n",
                "    df_deduplicated.columns = ['drug_name', 'Smiles', 'drug_type']\n",
                "    df_deduplicated = df_deduplicated[['drug_name', 'drug_type', 'Smiles']]\n",
                "    df_deduplicated.to_csv('../dataset/sub_inhib_2005_paper_data/data_with_smiles/'+enz+'.csv')\n"
            ]
        },
        {
            "cell_type": "code",
            "execution_count": 30,
            "metadata": {},
            "outputs": [],
            "source": [
                "df_tran = pd.read_csv('../dataset/transformer_plus_paper_data/data_with_smiles/2D6.csv', index_col=0)\n",
                "df_paper = pd.read_csv('../dataset/sub_inhib_2005_paper_data/data_with_smiles/2d6.csv', index_col=0)\n",
                "df = pd.concat([df_tran , df_paper], axis=0)\n",
                "df = df.drop_duplicates() \n",
                "df.reset_index(drop=True,inplace=True)\n",
                "df.to_csv('../dataset/two_paper_plus_transformer_combined/combined_data_with_smiles/2D6.csv')"
            ]
        },
        {
            "cell_type": "code",
            "execution_count": 31,
            "metadata": {},
            "outputs": [],
            "source": [
                "df_tran = pd.read_csv('../dataset/transformer_plus_paper_data/data_with_smiles/2C9.csv', index_col=0)\n",
                "df_paper = pd.read_csv('../dataset/sub_inhib_2005_paper_data/data_with_smiles/2c9.csv', index_col=0)\n",
                "df = pd.concat([df_tran , df_paper], axis=0)\n",
                "df = df.drop_duplicates() \n",
                "df.reset_index(drop=True,inplace=True)\n",
                "df.to_csv('../dataset/two_paper_plus_transformer_combined/combined_data_with_smiles/2C9.csv')"
            ]
        },
        {
            "cell_type": "code",
            "execution_count": 32,
            "metadata": {},
            "outputs": [],
            "source": [
                "df_tran = pd.read_csv('../dataset/transformer_plus_paper_data/data_with_smiles/3A4.csv', index_col=0)\n",
                "df_paper = pd.read_csv('../dataset/sub_inhib_2005_paper_data/data_with_smiles/3a4.csv', index_col=0)\n",
                "df = pd.concat([df_tran , df_paper], axis=0)\n",
                "df = df.drop_duplicates() \n",
                "df.reset_index(drop=True,inplace=True)\n",
                "df.to_csv('../dataset/two_paper_plus_transformer_combined/combined_data_with_smiles/3A4.csv')"
            ]
        },
        {
            "cell_type": "code",
            "execution_count": 6,
            "metadata": {},
            "outputs": [],
            "source": [
                "# df['drug_type'] = df['drug_type'] +  '-'\n",
                "# df"
            ]
        },
        {
            "cell_type": "code",
            "execution_count": 18,
            "metadata": {},
            "outputs": [
                {
                    "data": {
                        "application/vnd.jupyter.widget-view+json": {
                            "model_id": "1e0ca401d17441c0bc6f4fb598fd3441",
                            "version_major": 2,
                            "version_minor": 0
                        },
                        "text/plain": [
                            "HBox(children=(IntProgress(value=0, max=131), HTML(value='')))"
                        ]
                    },
                    "metadata": {},
                    "output_type": "display_data"
                },
                {
                    "name": "stdout",
                    "output_type": "stream",
                    "text": [
                        "\n"
                    ]
                }
            ],
            "source": [
                "for csv in tqdm_notebook(glob('../dataset/two_paper_plus_transformer_combined/combined_data_with_smiles/*csv')):\n",
                "    out = os.path.splitext(os.path.basename(csv))[0]\n",
                "    df = pd.read_csv(csv, index_col = 0)\n",
                "    \n",
                "    for i in range(len(df)):\n",
                "        if df['drug_type'][i] == '-':\n",
                "            continue\n",
                "        else:\n",
                "            df['drug_type'][i] = out + '-' + df['drug_type'][i]\n",
                "            \n",
                "    df.to_csv('../dataset/two_paper_plus_transformer_combined/correct_label_with_smiles/'+out+'.csv')"
            ]
        },
        {
            "cell_type": "code",
            "execution_count": 19,
            "metadata": {},
            "outputs": [
                {
                    "data": {
                        "application/vnd.jupyter.widget-view+json": {
                            "model_id": "cc5efd3d9c524bc7a4a13f01a580b2d9",
                            "version_major": 2,
                            "version_minor": 0
                        },
                        "text/plain": [
                            "HBox(children=(IntProgress(value=0, max=131), HTML(value='')))"
                        ]
                    },
                    "metadata": {},
                    "output_type": "display_data"
                },
                {
                    "name": "stdout",
                    "output_type": "stream",
                    "text": [
                        "\n"
                    ]
                }
            ],
            "source": [
                "interesting_files = glob(\"../dataset/two_paper_plus_transformer_combined/correct_label_with_smiles/*.csv\")  \n",
                "df = pd.concat((pd.read_csv(f, header = 0, index_col=0) for f in tqdm_notebook(interesting_files))) \n",
                "df_deduplicated = df.drop_duplicates() \n",
                "df_deduplicated.reset_index(drop=True, inplace=True)\n",
                "df_deduplicated.to_csv('../dataset/two_paper_plus_transformer_combined/cleaned_v1.csv')"
            ]
        },
        {
            "cell_type": "code",
            "execution_count": 36,
            "metadata": {},
            "outputs": [],
            "source": [
                "df_deduplicated = pd.read_csv('../dataset/two_paper_plus_transformer_combined/cleaned_v1.csv',index_col=0)"
            ]
        },
        {
            "cell_type": "code",
            "execution_count": 37,
            "metadata": {},
            "outputs": [],
            "source": [
                "target_list = list(df_deduplicated['drug_type'].unique())"
            ]
        },
        {
            "cell_type": "code",
            "execution_count": 38,
            "metadata": {},
            "outputs": [
                {
                    "data": {
                        "text/html": [
                            "<div>\n",
                            "<style scoped>\n",
                            "    .dataframe tbody tr th:only-of-type {\n",
                            "        vertical-align: middle;\n",
                            "    }\n",
                            "\n",
                            "    .dataframe tbody tr th {\n",
                            "        vertical-align: top;\n",
                            "    }\n",
                            "\n",
                            "    .dataframe thead th {\n",
                            "        text-align: right;\n",
                            "    }\n",
                            "</style>\n",
                            "<table border=\"1\" class=\"dataframe\">\n",
                            "  <thead>\n",
                            "    <tr style=\"text-align: right;\">\n",
                            "      <th></th>\n",
                            "      <th>drug_name</th>\n",
                            "      <th>drug_type</th>\n",
                            "      <th>Smiles</th>\n",
                            "    </tr>\n",
                            "  </thead>\n",
                            "  <tbody>\n",
                            "    <tr>\n",
                            "      <th>0</th>\n",
                            "      <td>Ciprofibrate</td>\n",
                            "      <td>4A11-Inducer</td>\n",
                            "      <td>CC(C)(OC1=CC=C(C=C1)[C@H]2CC2(Cl)Cl)C(O)=O</td>\n",
                            "    </tr>\n",
                            "    <tr>\n",
                            "      <th>1</th>\n",
                            "      <td>Clofibrate</td>\n",
                            "      <td>4A11-Substrate</td>\n",
                            "      <td>CCOC(=O)C(C)(C)OC1=CC=C(Cl)C=C1</td>\n",
                            "    </tr>\n",
                            "  </tbody>\n",
                            "</table>\n",
                            "</div>"
                        ],
                        "text/plain": [
                            "      drug_name       drug_type                                      Smiles\n",
                            "0  Ciprofibrate    4A11-Inducer  CC(C)(OC1=CC=C(C=C1)[C@H]2CC2(Cl)Cl)C(O)=O\n",
                            "1    Clofibrate  4A11-Substrate             CCOC(=O)C(C)(C)OC1=CC=C(Cl)C=C1"
                        ]
                    },
                    "execution_count": 38,
                    "metadata": {},
                    "output_type": "execute_result"
                }
            ],
            "source": [
                "df_deduplicated.head(2)"
            ]
        },
        {
            "cell_type": "code",
            "execution_count": 39,
            "metadata": {},
            "outputs": [
                {
                    "data": {
                        "text/plain": [
                            "8041"
                        ]
                    },
                    "execution_count": 39,
                    "metadata": {},
                    "output_type": "execute_result"
                }
            ],
            "source": [
                "smi = df_deduplicated['Smiles'].tolist()\n",
                "len(smi)"
            ]
        },
        {
            "cell_type": "code",
            "execution_count": 40,
            "metadata": {},
            "outputs": [
                {
                    "data": {
                        "application/vnd.jupyter.widget-view+json": {
                            "model_id": "b57a26a071044d48a912497924ccba5d",
                            "version_major": 2,
                            "version_minor": 0
                        },
                        "text/plain": [
                            "HBox(children=(IntProgress(value=0, max=8041), HTML(value='')))"
                        ]
                    },
                    "metadata": {},
                    "output_type": "display_data"
                },
                {
                    "name": "stdout",
                    "output_type": "stream",
                    "text": [
                        "\n",
                        "CPU times: user 4.94 s, sys: 80.8 ms, total: 5.02 s\n",
                        "Wall time: 5.7 s\n"
                    ]
                }
            ],
            "source": [
                "%%time\n",
                "not_found = 0\n",
                "can_smi = []\n",
                "from rdkit import Chem\n",
                "for smi in tqdm_notebook(smi):\n",
                "    \n",
                "    try:\n",
                "        mol = Chem.MolFromSmiles(smi)\n",
                "        cans = Chem.MolToSmiles(mol, True)\n",
                "        can_smi.append(cans)\n",
                "        \n",
                "    except:\n",
                "        can_smi.append('-')\n",
                "        not_found = not_found + 1\n",
                "        pass\n",
                "\n",
                "# assert cans[0] == cans[1]"
            ]
        },
        {
            "cell_type": "code",
            "execution_count": 41,
            "metadata": {},
            "outputs": [
                {
                    "data": {
                        "text/plain": [
                            "8"
                        ]
                    },
                    "execution_count": 41,
                    "metadata": {},
                    "output_type": "execute_result"
                }
            ],
            "source": [
                "not_found"
            ]
        },
        {
            "cell_type": "code",
            "execution_count": 42,
            "metadata": {},
            "outputs": [
                {
                    "data": {
                        "text/plain": [
                            "8041"
                        ]
                    },
                    "execution_count": 42,
                    "metadata": {},
                    "output_type": "execute_result"
                }
            ],
            "source": [
                "len(can_smi)"
            ]
        },
        {
            "cell_type": "code",
            "execution_count": 43,
            "metadata": {},
            "outputs": [],
            "source": [
                "df_deduplicated['Canonical_Smiles'] = can_smi"
            ]
        },
        {
            "cell_type": "code",
            "execution_count": 45,
            "metadata": {},
            "outputs": [],
            "source": [
                "df_deduplicated.drop(df_deduplicated.loc[df_deduplicated['Canonical_Smiles']=='-'].index, inplace=True)\n",
                "df_deduplicated.reset_index(drop=True,inplace=True)"
            ]
        },
        {
            "cell_type": "code",
            "execution_count": 46,
            "metadata": {},
            "outputs": [],
            "source": [
                "dr_name = []\n",
                "dr_type = []\n",
                "smi = []\n",
                "# label = []"
            ]
        },
        {
            "cell_type": "code",
            "execution_count": 47,
            "metadata": {},
            "outputs": [
                {
                    "data": {
                        "application/vnd.jupyter.widget-view+json": {
                            "model_id": "bc35f0add38749dcae2ce07fb1d8ba07",
                            "version_major": 2,
                            "version_minor": 0
                        },
                        "text/plain": [
                            "HBox(children=(IntProgress(value=0, max=307), HTML(value='')))"
                        ]
                    },
                    "metadata": {},
                    "output_type": "display_data"
                },
                {
                    "name": "stdout",
                    "output_type": "stream",
                    "text": [
                        "\n"
                    ]
                }
            ],
            "source": [
                "df = df_deduplicated\n",
                "for k in tqdm_notebook(target_list):\n",
                "    \n",
                "    if k == '-':\n",
                "        continue\n",
                "        \n",
                "    else:\n",
                "    \n",
                "        label = []\n",
                "\n",
                "        for i in (range(len(df))):\n",
                "\n",
                "            if df['drug_type'][i] == k:\n",
                "                label.append('positive')\n",
                "                continue\n",
                "\n",
                "            else:\n",
                "                label.append('negative')\n",
                "                continue\n",
                "\n",
                "        df['Label'] = label\n",
                "\n",
                "        df_all = df\n",
                "\n",
                "        df_all.reset_index(drop = True, inplace = True)\n",
                "\n",
                "        drop_index = []\n",
                "\n",
                "        for i in (range(len(df_all))):\n",
                "\n",
                "            if df_all['drug_type'][i] == k:\n",
                "                continue\n",
                "\n",
                "            else:\n",
                "                drop_index.append(i)\n",
                "                continue\n",
                "\n",
                "        df_p = df_all.drop(drop_index, axis = 0, inplace = False)\n",
                "        df_p.reset_index(drop = True, inplace = True)\n",
                "\n",
                "        df_pos = df_p.drop_duplicates(['Canonical_Smiles'])\n",
                "\n",
                "        uni_pos_smiles = set(df_pos['Canonical_Smiles'].tolist())\n",
                "\n",
                "        drop_index = []\n",
                "        for i in (range(len(df_all))):\n",
                "\n",
                "            if df_all['Canonical_Smiles'][i] in uni_pos_smiles:\n",
                "                drop_index.append(i)\n",
                "                continue\n",
                "\n",
                "            else:\n",
                "                continue\n",
                "\n",
                "        df_neg = df_all.drop(drop_index, axis = 0, inplace = False)\n",
                "        df_neg.reset_index(drop = True, inplace = True)\n",
                "\n",
                "        df_neg = df_neg.drop_duplicates(['Canonical_Smiles'])\n",
                "\n",
                "    #########################<GETTING FAM-SMILES-COUNT>####################################\n",
                "        df_neg.reset_index(drop = True, inplace = True)\n",
                "        df_pos.reset_index(drop = True, inplace = True)\n",
                "\n",
                "    #     df_neg_index = df_neg.set_index('Final_Family')\n",
                "    #     df_pos_index = df_pos.set_index('Final_Family')\n",
                "\n",
                "    #     for fam in tqdm_notebook(fin_fam):\n",
                "    #         get_fam_count(k, fam, df_neg_index, df_pos_index) \n",
                "    #######################################################################################\n",
                "\n",
                "        clean_data = pd.concat([df_neg, df_pos], ignore_index=True, sort =True)\n",
                "\n",
                "        if k.split('-')[1] == 'Inhibitor':\n",
                "            clean_data.to_csv('../dataset/two_paper_plus_transformer_combined/inhib_data/' + k.split('-')[0] + '_inh.csv')\n",
                "            continue\n",
                "\n",
                "        elif k.split('-')[1] == 'Substrate':\n",
                "            clean_data.to_csv('../dataset/two_paper_plus_transformer_combined/sub_data/' + k.split('-')[0] + '_sub.csv')\n",
                "            \n",
                "        else:\n",
                "            clean_data.to_csv('../dataset/two_paper_plus_transformer_combined/inducer_data/' + k.split('-')[0] + '_ind.csv')\n",
                "            \n"
            ]
        },
        {
            "cell_type": "code",
            "execution_count": 48,
            "metadata": {},
            "outputs": [
                {
                    "data": {
                        "application/vnd.jupyter.widget-view+json": {
                            "model_id": "91b4b9f12dcc4a1bb7bc1c224e281b95",
                            "version_major": 2,
                            "version_minor": 0
                        },
                        "text/plain": [
                            "HBox(children=(IntProgress(value=0, max=3), HTML(value='')))"
                        ]
                    },
                    "metadata": {},
                    "output_type": "display_data"
                },
                {
                    "name": "stdout",
                    "output_type": "stream",
                    "text": [
                        "\n"
                    ]
                }
            ],
            "source": [
                "stats = ['inhib_data', 'sub_data', 'inducer_data']\n",
                "for st in tqdm_notebook(stats):\n",
                "    target = []\n",
                "    dataset_size = []\n",
                "    actives = []\n",
                "    inactives = []\n",
                "    \n",
                "    for csv in glob('../dataset/two_paper_plus_transformer_combined/'+st+'/*csv'):\n",
                "        target.append(os.path.splitext(os.path.basename(csv))[0])\n",
                "        df = pd.read_csv(csv,index_col = 0)\n",
                "        dataset_size.append(len(df))\n",
                "        actives.append(len(df[df.Label == 'positive']))\n",
                "        inactives.append(len(df[df.Label == 'negative']))\n",
                "    \n",
                "    df = pd.DataFrame(target, columns=['Target'])\n",
                "    df['Dataset_Size'] = dataset_size\n",
                "    df['Actives'] = actives\n",
                "    df['Inactives'] = inactives\n",
                "    \n",
                "    df.sort_values('Target', ascending = True, inplace = True)\n",
                "    df.reset_index(drop=True, inplace=True)\n",
                "    df.to_csv('../dataset/two_paper_plus_transformer_combined/stats/'+st+'_stats.csv')\n",
                "        "
            ]
        },
        {
            "cell_type": "code",
            "execution_count": 49,
            "metadata": {},
            "outputs": [
                {
                    "data": {
                        "application/vnd.jupyter.widget-view+json": {
                            "model_id": "32079e59d1054e24aa477d6c2132c8a4",
                            "version_major": 2,
                            "version_minor": 0
                        },
                        "text/plain": [
                            "HBox(children=(IntProgress(value=0, max=3), HTML(value='')))"
                        ]
                    },
                    "metadata": {},
                    "output_type": "display_data"
                },
                {
                    "name": "stdout",
                    "output_type": "stream",
                    "text": [
                        "\n"
                    ]
                }
            ],
            "source": [
                "interesting_files = glob(\"../dataset/two_paper_plus_transformer_combined/stats/*.csv\")  \n",
                "df = pd.concat((pd.read_csv(f, header = 0, index_col=0) for f in tqdm_notebook(interesting_files))) \n",
                "df_deduplicated = df.drop_duplicates() \n",
                "df_deduplicated.reset_index(drop=True, inplace=True)\n",
                "df_deduplicated.sort_values('Target', ascending = True, inplace = True)\n",
                "df_deduplicated.reset_index(drop=True, inplace=True)\n",
                "df_deduplicated.to_csv('../dataset/two_paper_plus_transformer_combined/stats/inh-sub-ind-combined_stats.csv')"
            ]
        },
        {
            "cell_type": "code",
            "execution_count": 23,
            "metadata": {},
            "outputs": [],
            "source": [
                "# a.drop(a.loc[a['Canonical_Smiles']=='-'].index, inplace=True)"
            ]
        },
        {
            "cell_type": "code",
            "execution_count": 50,
            "metadata": {},
            "outputs": [],
            "source": [
                "a = pd.read_csv('/Users/pankajverma/Desktop/SOP/DixitSirProject/thesis/suman_sir_protein_subcell_project/dataset/pdsp_pharos_combined/individual_files_can_smi/actin_filaments.csv')"
            ]
        },
        {
            "cell_type": "code",
            "execution_count": 51,
            "metadata": {},
            "outputs": [
                {
                    "data": {
                        "text/plain": [
                            "225049"
                        ]
                    },
                    "execution_count": 51,
                    "metadata": {},
                    "output_type": "execute_result"
                }
            ],
            "source": [
                "len(a)"
            ]
        },
        {
            "cell_type": "code",
            "execution_count": null,
            "metadata": {},
            "outputs": [],
            "source": []
        }
    ],
    "metadata": {
        "kernelspec": {
            "display_name": "Python [conda env:seqcomhol]",
            "language": "python",
            "name": "conda-env-seqcomhol-py"
        },
        "language_info": {
            "codemirror_mode": {
                "name": "ipython",
                "version": 3
            },
            "file_extension": ".py",
            "mimetype": "text/x-python",
            "name": "python",
            "nbconvert_exporter": "python",
            "pygments_lexer": "ipython3",
            "version": "3.6.5"
        }
    },
    "nbformat": 4,
    "nbformat_minor": 2
}