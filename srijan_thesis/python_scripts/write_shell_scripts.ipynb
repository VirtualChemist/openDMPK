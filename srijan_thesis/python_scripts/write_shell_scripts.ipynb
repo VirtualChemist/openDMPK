{
    "cells": [
        {
            "cell_type": "code",
            "execution_count": null,
            "metadata": {},
            "outputs": [],
            "source": [
                "#######################################################################################\n",
                "# Author: Srijan Verma                                                              #\n",
                "# School of Pharmacy                                                                #\n",
                "# Sirimulla Research Group [http://www.sirimullaresearchgroup.com/]                 #\n",
                "# The University of Texas at El Paso, TX, USA                                       #\n",
                "# Last modified: 19/12/2019                                                         #\n",
                "# Copyright (c) 2019 Srijan Verma and Sirimulla Research Group, under MIT license   #\n",
                "#######################################################################################"
            ]
        },
        {
            "cell_type": "code",
            "execution_count": 1,
            "metadata": {},
            "outputs": [],
            "source": [
                "from glob import glob\n",
                "import pandas as pd\n",
                "import os\n",
                "from tqdm import tqdm_notebook"
            ]
        },
        {
            "cell_type": "code",
            "execution_count": 4,
            "metadata": {},
            "outputs": [
                {
                    "data": {
                        "application/vnd.jupyter.widget-view+json": {
                            "model_id": "89e88b483b014db8b1e3086af56ec52f",
                            "version_major": 2,
                            "version_minor": 0
                        },
                        "text/plain": [
                            "HBox(children=(IntProgress(value=0, max=47), HTML(value='')))"
                        ]
                    },
                    "metadata": {},
                    "output_type": "display_data"
                },
                {
                    "name": "stdout",
                    "output_type": "stream",
                    "text": [
                        "\n"
                    ]
                }
            ],
            "source": [
                "csv_files = glob('../dataset/cyt_homo_data/filtered/relation_D/*.csv')\n",
                "finger_prints = ['morgan_fp', 'maccs_fp', 'avalon_fp', 'rdk_fp',  \n",
                "                'topological_fp', 'ecfp2_fp', 'ecfp6_fp']\n",
                "commands = []\n",
                "\n",
                "\n",
                "for _file in tqdm_notebook(csv_files):\n",
                "    for _fin in finger_prints:\n",
                "        output_file = os.path.split(_file)[1]\n",
                "        commands.append('python3 generate_fp_v2.py ' + _fin + \n",
                "                        ' ' + _file + ' ../dataset/cyt_homo_data/numpy_files'\n",
                "                        )\n",
                "\n",
                "with open('../shell_scripts/shell_fp.sh', 'w') as f:\n",
                "    for comm in commands:\n",
                "        f.write(comm + '\\n')"
            ]
        },
        {
            "cell_type": "code",
            "execution_count": 5,
            "metadata": {},
            "outputs": [],
            "source": [
                "df = pd.read_csv('../dataset/cyt_homo_data/filtered/relation_D/Cytochrome_P450_26A1.csv')"
            ]
        },
        {
            "cell_type": "code",
            "execution_count": 71,
            "metadata": {},
            "outputs": [],
            "source": [
                "df_stats_fp = pd.read_csv('../dataset/cyt_homo_data/fp_stats/fp_stats_223_files.csv',index_col=0)"
            ]
        },
        {
            "cell_type": "code",
            "execution_count": 72,
            "metadata": {},
            "outputs": [
                {
                    "data": {
                        "application/vnd.jupyter.widget-view+json": {
                            "model_id": "7250e4f00e3642089879b0d2c4eae492",
                            "version_major": 2,
                            "version_minor": 0
                        },
                        "text/plain": [
                            "HBox(children=(IntProgress(value=0, max=223), HTML(value='')))"
                        ]
                    },
                    "metadata": {},
                    "output_type": "display_data"
                },
                {
                    "name": "stdout",
                    "output_type": "stream",
                    "text": [
                        "\n"
                    ]
                }
            ],
            "source": [
                "arr_names = []\n",
                "drop_index = []\n",
                "for i in tqdm_notebook(range(len(df_stats_fp))):\n",
                "    if df_stats_fp['Size'][i] == 28 or df_stats_fp['Size'][i] < 28:\n",
                "#         print(df_stats_fp['Size'][i])\n",
                "        drop_index.append(i)\n",
                "    else:\n",
                "        arr_names.append(df_stats_fp['file_name'][i])"
            ]
        },
        {
            "cell_type": "code",
            "execution_count": 3,
            "metadata": {},
            "outputs": [],
            "source": [
                "model_list = ['RandomForestClassifier', 'DecisionTreeClassifier', \n",
                "              'AdaBoostClassifier', 'MLPClassifier', 'GradientBoostingClassifier', \n",
                "              'LinearDiscriminantAnalysis', 'QuadraticDiscriminantAnalysis', \n",
                "              'LogisticRegression', 'KNeighborsClassifier', 'MultinomialNB', \n",
                "              'XGBClassifier', 'DummyClassifier', 'GaussianNB', 'SVC', 'BaggingClassifier', \n",
                "              'BernoulliNB', 'ComplementNB', 'ExtraTreesClassifier', \n",
                "              'GaussianProcessClassifier', 'HistGradientBoostingClassifier', \n",
                "              'ExtraTreeClassifier', 'LinearSVC', 'NearestCentroid', 'OneVsOneClassifier', \n",
                "              'OneVsRestClassifier', 'OutputCodeClassifier', 'PassiveAggressiveClassifier', \n",
                "              'Perceptron', 'RidgeClassifier', 'SGDClassifier', 'BayesianGaussianMixture', \n",
                "              'GaussianMixture'\n",
                "             ]"
            ]
        },
        {
            "cell_type": "code",
            "execution_count": 5,
            "metadata": {},
            "outputs": [],
            "source": [
                "df = pd.DataFrame(model_list,columns=['Model_Name'])\n",
                "df.to_csv('/Users/pankajverma/Desktop/SOP/DixitSirProject/thesis/model_config/model_config.csv')"
            ]
        },
        {
            "cell_type": "code",
            "execution_count": 3,
            "metadata": {},
            "outputs": [
                {
                    "data": {
                        "text/plain": [
                            "32"
                        ]
                    },
                    "execution_count": 3,
                    "metadata": {},
                    "output_type": "execute_result"
                }
            ],
            "source": [
                "len(model_list)"
            ]
        },
        {
            "cell_type": "markdown",
            "metadata": {},
            "source": [
                "## python model_dev_v6.py AllModels ../../dataset/cyt_homo_data/filtered/morgan_fp-Cytochrome_P450_26A1.npy ../../dataset/cyt_homo_data/filtered 0.15 0.15 default save_model=no"
            ]
        },
        {
            "cell_type": "code",
            "execution_count": 23,
            "metadata": {},
            "outputs": [
                {
                    "data": {
                        "application/vnd.jupyter.widget-view+json": {
                            "model_id": "746084659c614504b5b397dd06aa3f67",
                            "version_major": 2,
                            "version_minor": 0
                        },
                        "text/plain": [
                            "HBox(children=(IntProgress(value=0, max=240), HTML(value='')))"
                        ]
                    },
                    "metadata": {},
                    "output_type": "display_data"
                },
                {
                    "name": "stdout",
                    "output_type": "stream",
                    "text": [
                        "\n"
                    ]
                }
            ],
            "source": [
                "\n",
                "commands = []\n",
                "\n",
                "\n",
                "for _file in tqdm_notebook(glob('../../suman_sir_protein_subcell_project/dataset/pdsp_pharos_combined/np_individual_stats/*csv')):\n",
                "    for _fin in model_list:\n",
                "        output_file = os.path.split(_file)[1][0:-4]\n",
                "        commands.append('python3 model_dev_v6.py ' + _fin + \n",
                "                        ' ../dataset/numpy_files/' + output_file + '.npy' \n",
                "                        + ' ../results 0.15 0.15 default save_model=no'\n",
                "                        )\n",
                "\n",
                "# with open('../../suman_sir_protein_subcell_project/shell_scripts/shell-model_dev_v6_1.sh', 'w') as f:\n",
                "#     for comm in commands:\n",
                "#         f.write(comm + '\\n')"
            ]
        },
        {
            "cell_type": "code",
            "execution_count": 18,
            "metadata": {},
            "outputs": [
                {
                    "data": {
                        "text/plain": [
                            "'python3 model_dev_v6.py RandomForestClassifier ../dataset/numpy_files/morgan_fp-membrane_protein.npy ../results/results_1 0.15 0.15 default save_model=no'"
                        ]
                    },
                    "execution_count": 18,
                    "metadata": {},
                    "output_type": "execute_result"
                }
            ],
            "source": [
                "commands[0]"
            ]
        },
        {
            "cell_type": "code",
            "execution_count": 27,
            "metadata": {},
            "outputs": [],
            "source": [
                "with open('../../suman_sir_protein_subcell_project/shell_scripts/shell-model_dev_v6_4.sh', 'w') as f:\n",
                "    for comm in commands[(1920*3):(1920*4)]:\n",
                "        f.write(comm + '\\n')"
            ]
        },
        {
            "cell_type": "code",
            "execution_count": 2,
            "metadata": {},
            "outputs": [],
            "source": [
                "df = pd.read_csv('../results/two_paper_trans_results/default_models/imp_enzymes_all.csv',index_col=0)"
            ]
        },
        {
            "cell_type": "code",
            "execution_count": 3,
            "metadata": {},
            "outputs": [],
            "source": [
                "imp_enz = df['Output_Target'].tolist()"
            ]
        },
        {
            "cell_type": "code",
            "execution_count": 4,
            "metadata": {},
            "outputs": [
                {
                    "data": {
                        "text/plain": [
                            "['1A1_ind',\n",
                            " '1A1_inh',\n",
                            " '1A1_sub',\n",
                            " '1A2_ind',\n",
                            " '1A2_inh',\n",
                            " '1A2_sub',\n",
                            " '2C19_ind',\n",
                            " '2C19_inh',\n",
                            " '2C19_sub',\n",
                            " '2C8_ind',\n",
                            " '2C8_inh',\n",
                            " '2C8_sub',\n",
                            " '2C9_ind',\n",
                            " '2C9_inh',\n",
                            " '2C9_sub',\n",
                            " '2D6_inh',\n",
                            " '2D6_sub',\n",
                            " '2E1_ind',\n",
                            " '2E1_inh',\n",
                            " '2E1_sub',\n",
                            " '3A4_ind',\n",
                            " '3A4_inh',\n",
                            " '3A4_sub',\n",
                            " '3A5_ind',\n",
                            " '3A5_inh',\n",
                            " '3A5_sub',\n",
                            " 'GST_ind',\n",
                            " 'GST_inh',\n",
                            " 'GST_sub',\n",
                            " 'MET_ind',\n",
                            " 'MET_inh',\n",
                            " 'MET_sub',\n",
                            " 'NAT_ind',\n",
                            " 'NAT_inh',\n",
                            " 'NAT_sub',\n",
                            " 'SUL_ind',\n",
                            " 'SUL_inh',\n",
                            " 'SUL_sub',\n",
                            " 'UGT_ind',\n",
                            " 'UGT_inh',\n",
                            " 'UGT_sub']"
                        ]
                    },
                    "execution_count": 4,
                    "metadata": {},
                    "output_type": "execute_result"
                }
            ],
            "source": [
                "imp_enz"
            ]
        },
        {
            "cell_type": "code",
            "execution_count": 6,
            "metadata": {},
            "outputs": [
                {
                    "data": {
                        "application/vnd.jupyter.widget-view+json": {
                            "model_id": "3437669fde2c417a892b9555a02c0f90",
                            "version_major": 2,
                            "version_minor": 0
                        },
                        "text/plain": [
                            "HBox(children=(IntProgress(value=0, max=41), HTML(value='')))"
                        ]
                    },
                    "metadata": {},
                    "output_type": "display_data"
                },
                {
                    "name": "stdout",
                    "output_type": "stream",
                    "text": [
                        "\n"
                    ]
                }
            ],
            "source": [
                "commands = []\n",
                "\n",
                "\n",
                "for _file in tqdm_notebook(imp_enz):\n",
                "    for val in ('tr','va','te'):\n",
                "#     output_file = os.path.split(_file)[1]\n",
                "        commands.append('python3 generate_fp_v7.py rdkDes_lecfp6_laval_hashap ../dataset/csv_files/splitted_csv_files/' + _file + \n",
                "                    '_'+val+'.csv ' + '../dataset/combined_fp_numpy_files'\n",
                "                    )"
            ]
        },
        {
            "cell_type": "code",
            "execution_count": 7,
            "metadata": {},
            "outputs": [
                {
                    "data": {
                        "text/plain": [
                            "'python3 generate_fp_v7.py rdkDes_lecfp6_laval_hashap ../dataset/csv_files/splitted_csv_files/1A1_ind_tr.csv ../dataset/combined_fp_numpy_files'"
                        ]
                    },
                    "execution_count": 7,
                    "metadata": {},
                    "output_type": "execute_result"
                }
            ],
            "source": [
                "commands[0]"
            ]
        },
        {
            "cell_type": "code",
            "execution_count": 8,
            "metadata": {},
            "outputs": [
                {
                    "data": {
                        "text/plain": [
                            "123"
                        ]
                    },
                    "execution_count": 8,
                    "metadata": {},
                    "output_type": "execute_result"
                }
            ],
            "source": [
                "len(commands)"
            ]
        },
        {
            "cell_type": "code",
            "execution_count": 10,
            "metadata": {},
            "outputs": [],
            "source": [
                "with open('../shell_scripts/shell-gen_fp_comb.sh', 'w') as f:\n",
                "    for comm in commands:\n",
                "        f.write(comm + '\\n')"
            ]
        },
        {
            "cell_type": "code",
            "execution_count": 11,
            "metadata": {},
            "outputs": [],
            "source": [
                "models = ['ExtraTreeClassifier_default',\n",
                " 'AdaBoostClassifier_default',\n",
                " 'MLPClassifier_default',\n",
                " 'MultinomialNB_default',\n",
                " 'LogisticRegression_default',\n",
                " 'RandomForestClassifier_default',\n",
                " 'RidgeClassifier_default',\n",
                " 'BaggingClassifier_default',\n",
                " 'SGDClassifier_default',\n",
                " 'LinearSVC_default',\n",
                " 'NearestCentroid_default',\n",
                " 'Perceptron_default',\n",
                " 'XGBClassifier_default',\n",
                " 'OneVsRestClassifier_default',\n",
                " 'PassiveAggressiveClassifier_default',\n",
                " 'LinearDiscriminantAnalysis_default',\n",
                " 'ComplementNB_default',\n",
                " 'OutputCodeClassifier_default',\n",
                " 'HistGradientBoostingClassifier_default',\n",
                " 'DecisionTreeClassifier_default',\n",
                " 'QuadraticDiscriminantAnalysis_default',\n",
                " 'OneVsOneClassifier_default',\n",
                " 'GaussianNB_default',\n",
                " 'GaussianMixture_default',\n",
                " 'BernoulliNB_default',\n",
                " 'ExtraTreesClassifier_default',\n",
                " 'BayesianGaussianMixture_default',\n",
                " 'DummyClassifier_default',\n",
                " 'NuSVC_default']"
            ]
        },
        {
            "cell_type": "code",
            "execution_count": 20,
            "metadata": {},
            "outputs": [
                {
                    "data": {
                        "application/vnd.jupyter.widget-view+json": {
                            "model_id": "549b5adab75c450695b97ee58d18eed6",
                            "version_major": 2,
                            "version_minor": 0
                        },
                        "text/plain": [
                            "HBox(children=(IntProgress(value=0, max=41), HTML(value='')))"
                        ]
                    },
                    "metadata": {},
                    "output_type": "display_data"
                },
                {
                    "name": "stdout",
                    "output_type": "stream",
                    "text": [
                        "\n"
                    ]
                }
            ],
            "source": [
                "commands = []\n",
                "\n",
                "\n",
                "for _file in tqdm_notebook(imp_enz):\n",
                "    for k in range(len(models)):\n",
                "#     output_file = os.path.split(_file)[1]\n",
                "        commands.append('python3 model_dev_v7.py ' + models[k][0:-8]\n",
                "                   + ' ../dataset/combined_fp_numpy_files/'\n",
                "                   + 'rdkDes_lecfp6_laval_hashap-'+_file+'_tr.npy '\n",
                "                   + '../dataset/combined_fp_numpy_files/rdkDes_lecfp6_laval_hashap-'+_file+'_va.npy '\n",
                "                   + '../dataset/combined_fp_numpy_files/rdkDes_lecfp6_laval_hashap-'+_file+'_te.npy '\n",
                "                   + '../results_com_fp 0.15 0.15 default save_model=yes /scratch/06633/verma/seqcomhol/two_paper_trans/saved_models')"
            ]
        },
        {
            "cell_type": "code",
            "execution_count": 21,
            "metadata": {},
            "outputs": [
                {
                    "data": {
                        "text/plain": [
                            "'python3 model_dev_v7.py OneVsRestClassifier ../dataset/combined_fp_numpy_files/rdkDes_lecfp6_laval_hashap-1A2_ind_tr.npy ../dataset/combined_fp_numpy_files/rdkDes_lecfp6_laval_hashap-1A2_ind_va.npy ../dataset/combined_fp_numpy_files/rdkDes_lecfp6_laval_hashap-1A2_ind_te.npy ../results_com_fp 0.15 0.15 default save_model=yes /scratch/06633/verma/seqcomhol/two_paper_trans/saved_models'"
                        ]
                    },
                    "execution_count": 21,
                    "metadata": {},
                    "output_type": "execute_result"
                }
            ],
            "source": [
                "commands[100]"
            ]
        },
        {
            "cell_type": "code",
            "execution_count": 16,
            "metadata": {},
            "outputs": [
                {
                    "data": {
                        "text/plain": [
                            "1189"
                        ]
                    },
                    "execution_count": 16,
                    "metadata": {},
                    "output_type": "execute_result"
                }
            ],
            "source": [
                "len(commands)"
            ]
        },
        {
            "cell_type": "code",
            "execution_count": 17,
            "metadata": {},
            "outputs": [
                {
                    "data": {
                        "text/plain": [
                            "29"
                        ]
                    },
                    "execution_count": 17,
                    "metadata": {},
                    "output_type": "execute_result"
                }
            ],
            "source": [
                "len(models)"
            ]
        },
        {
            "cell_type": "code",
            "execution_count": 22,
            "metadata": {},
            "outputs": [],
            "source": [
                "with open('../shell_scripts/shell-mod_dev_comb.sh', 'w') as f:\n",
                "    for comm in commands:\n",
                "        f.write(comm + '\\n')"
            ]
        },
        {
            "cell_type": "code",
            "execution_count": null,
            "metadata": {},
            "outputs": [],
            "source": []
        }
    ],
    "metadata": {
        "kernelspec": {
            "display_name": "Python [conda env:seqcomhol]",
            "language": "python",
            "name": "conda-env-seqcomhol-py"
        },
        "language_info": {
            "codemirror_mode": {
                "name": "ipython",
                "version": 3
            },
            "file_extension": ".py",
            "mimetype": "text/x-python",
            "name": "python",
            "nbconvert_exporter": "python",
            "pygments_lexer": "ipython3",
            "version": "3.6.5"
        }
    },
    "nbformat": 4,
    "nbformat_minor": 2
}