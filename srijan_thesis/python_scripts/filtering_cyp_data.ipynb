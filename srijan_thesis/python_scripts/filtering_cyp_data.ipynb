{
    "cells": [
        {
            "cell_type": "code",
            "execution_count": null,
            "metadata": {},
            "outputs": [],
            "source": [
                "#######################################################################################\n",
                "# Author: Srijan Verma                                                              #\n",
                "# School of Pharmacy                                                                #\n",
                "# Sirimulla Research Group [http://www.sirimullaresearchgroup.com/]                 #\n",
                "# The University of Texas at El Paso, TX, USA                                       #\n",
                "# Last modified: 19/12/2019                                                         #\n",
                "# Copyright (c) 2019 Srijan Verma and Sirimulla Research Group, under MIT license   #\n",
                "#######################################################################################"
            ]
        },
        {
            "cell_type": "code",
            "execution_count": 14,
            "metadata": {},
            "outputs": [],
            "source": [
                "import pandas as pd\n",
                "from tqdm import tqdm_notebook\n",
                "import numpy as np\n",
                "from glob import glob\n",
                "import os\n",
                "import math"
            ]
        },
        {
            "cell_type": "code",
            "execution_count": 16,
            "metadata": {},
            "outputs": [
                {
                    "data": {
                        "application/vnd.jupyter.widget-view+json": {
                            "model_id": "0fdb361c87ee40df90dbc7ee3b8eb2be",
                            "version_major": 2,
                            "version_minor": 0
                        },
                        "text/plain": [
                            "HBox(children=(IntProgress(value=0, max=47), HTML(value='')))"
                        ]
                    },
                    "metadata": {},
                    "output_type": "display_data"
                }
            ],
            "source": [
                "for csv in tqdm_notebook(glob('../dataset/cyt_homo_data/sql_data/relation_D/*csv')):\n",
                "\n",
                "    df = pd.read_csv(csv, index_col=0)\n",
                "\n",
                "    a = [\">\", \">=\", \"<\", \"<=\", \"=\", \"~\"]\n",
                "\n",
                "    c = 0\n",
                "    drop_index = []\n",
                "    for i in (range(len(df))):\n",
                "        if df['activity_comment'][i] == \"Active\" or df['activity_comment'][i] == \"active\" or df['activity_comment'][i] == \"inactive\" or df['activity_comment'][i] == \"Not Active\" or df['activity_comment'][i] == \"Not Active (inhibition < 50% 10 uM and thus dose-response curve not measured)\":\n",
                "            continue\n",
                "        if pd.isnull(df['standard_value'][i]):\n",
                "            drop_index.append(i)\n",
                "        if df['standard_relation'][i] not in a:\n",
                "            drop_index.append(i)\n",
                "        if df['standard_units'][i] != 'nM':\n",
                "            drop_index.append(i)\n",
                "        else:\n",
                "            continue\n",
                "\n",
                "\n",
                "    unique_drop_index = list(set(drop_index))\n",
                "\n",
                "    df.reset_index(drop=True, inplace=True)\n",
                "    df.drop(drop_index, axis=0,inplace=True)\n",
                "    df.reset_index(drop=True, inplace=True)\n",
                "\n",
                "    negative_log_ten_values = []\n",
                "    for i in (range(len(df))):\n",
                "\n",
                "        if df['activity_comment'][i] == \"Active\" or df['activity_comment'][i] == \"active\" or df['activity_comment'][i] == \"inactive\" or df['activity_comment'][i] == \"Not Active\" or df['activity_comment'][i] == \"Not Active (inhibition < 50% 10 uM and thus dose-response curve not measured)\":\n",
                "            negative_log_ten_values.append(-1)# -1 = 'Not required'\n",
                "            continue\n",
                "\n",
                "        if df['standard_value'][i] == 0:\n",
                "            negative_log_ten_values.append(-2)\n",
                "            #-2 = 'Log10(0) is not defined'\n",
                "            continue\n",
                "\n",
                "        else:\n",
                "            negative_log_ten_values.append((round(((math.log10(df['standard_value'][i]*0.000000001))*(-1)), 3)))\n",
                "            continue\n",
                "\n",
                "    df['-log10(M) Values'] = negative_log_ten_values\n",
                "\n",
                "    labels = []\n",
                "    unknown_values = []\n",
                "    drop_index = []\n",
                "\n",
                "    for i in (range(len(df))):\n",
                "\n",
                "        if df['activity_comment'][i] == \"Active\" or df['activity_comment'][i] == \"active\":\n",
                "            labels.append('active')\n",
                "            continue\n",
                "\n",
                "        if df['activity_comment'][i] == \"inactive\" or df['activity_comment'][i] == \"Not Active\" or df['activity_comment'][i] == \"Not Active (inhibition < 50% 10 uM and thus dose-response curve not measured)\":\n",
                "            labels.append('inactive')\n",
                "            continue\n",
                "\n",
                "        if df['-log10(M) Values'][i] == -2:\n",
                "            labels.append('Log10(0) is not defined')\n",
                "            continue\n",
                "\n",
                "        if df['-log10(M) Values'][i] >= 5.5 and df['standard_relation'][i] in [\"<\", \"<=\", \"=\", \"~\"]:\n",
                "            labels.append('active')\n",
                "            continue\n",
                "\n",
                "        if df['-log10(M) Values'][i] <=4.5 and df['standard_relation'][i] in [\">\", \">=\", \"=\", \"~\"]:\n",
                "            labels.append('inactive')\n",
                "            continue\n",
                "\n",
                "        if df['-log10(M) Values'][i] > 4.5 and df['-log10(M) Values'][i] < 5.5:\n",
                "            labels.append('indeterminate')\n",
                "            continue\n",
                "\n",
                "        else:\n",
                "            unknown_values.append(i)\n",
                "            labels.append('Contradictory statements btw Log value and standard_relation')\n",
                "            continue\n",
                "\n",
                "    df['Label'] = labels\n",
                "\n",
                "    for i in (range(len(df))):\n",
                "\n",
                "        if df['Label'][i] == \"Contradictory statements btw Log value and standard_relation\" or df['Label'][i] == \"Log10(0) is not defined\":\n",
                "            drop_index.append(i)\n",
                "            continue\n",
                "\n",
                "    df.reset_index(drop=True, inplace=True)\n",
                "    df.drop(drop_index, axis=0,inplace=True)\n",
                "    df.reset_index(drop=True, inplace=True)\n",
                "    base = os.path.splitext(os.path.basename(csv))[0]\n",
                "    base = base.replace('__','_')\n",
                "    df.rename(columns={'smiles':'Smiles'}, inplace=True)\n",
                "    df.to_csv('../dataset/cyt_homo_data/filtered/relation_D/' + base + '.csv')"
            ]
        },
        {
            "cell_type": "code",
            "execution_count": 18,
            "metadata": {},
            "outputs": [
                {
                    "data": {
                        "application/vnd.jupyter.widget-view+json": {
                            "model_id": "fe683dd834d34c7ea08249501dbd71ea",
                            "version_major": 2,
                            "version_minor": 0
                        },
                        "text/plain": [
                            "HBox(children=(IntProgress(value=0, max=47), HTML(value='')))"
                        ]
                    },
                    "metadata": {},
                    "output_type": "display_data"
                }
            ],
            "source": [
                "min_all_relation_filtered = []\n",
                "for csv in tqdm_notebook(glob('../dataset/cyt_homo_data/filtered/all_relation/*csv')):\n",
                "\n",
                "    df = pd.read_csv(csv, index_col=0)\n",
                "    \n",
                "    try:\n",
                "        min_all_relation_filtered.append(min(df['confidence_score']))\n",
                "        \n",
                "    except:\n",
                "        pass"
            ]
        },
        {
            "cell_type": "code",
            "execution_count": 26,
            "metadata": {},
            "outputs": [
                {
                    "name": "stdout",
                    "output_type": "stream",
                    "text": [
                        "9\n",
                        "0\n"
                    ]
                }
            ],
            "source": [
                "print(max(min_all_relation_filtered))\n",
                "print(min(min_all_relation_filtered))"
            ]
        },
        {
            "cell_type": "code",
            "execution_count": 27,
            "metadata": {},
            "outputs": [
                {
                    "data": {
                        "application/vnd.jupyter.widget-view+json": {
                            "model_id": "a61aa73fb4b947d4a9ceadf25826bffb",
                            "version_major": 2,
                            "version_minor": 0
                        },
                        "text/plain": [
                            "HBox(children=(IntProgress(value=0, max=47), HTML(value='')))"
                        ]
                    },
                    "metadata": {},
                    "output_type": "display_data"
                }
            ],
            "source": [
                "min_relation_D_filtered = []\n",
                "for csv in tqdm_notebook(glob('../dataset/cyt_homo_data/filtered/relation_D/*csv')):\n",
                "\n",
                "    df = pd.read_csv(csv, index_col=0)\n",
                "    \n",
                "    try:\n",
                "        min_relation_D_filtered.append(min(df['confidence_score']))\n",
                "        \n",
                "    except:\n",
                "        pass"
            ]
        },
        {
            "cell_type": "code",
            "execution_count": 29,
            "metadata": {},
            "outputs": [
                {
                    "name": "stdout",
                    "output_type": "stream",
                    "text": [
                        "9\n",
                        "5\n"
                    ]
                }
            ],
            "source": [
                "print(max(min_relation_D_filtered))\n",
                "print(min(min_relation_D_filtered))"
            ]
        },
        {
            "cell_type": "code",
            "execution_count": 31,
            "metadata": {},
            "outputs": [
                {
                    "data": {
                        "text/plain": [
                            "36"
                        ]
                    },
                    "execution_count": 31,
                    "metadata": {},
                    "output_type": "execute_result"
                }
            ],
            "source": [
                "len(min_relation_D_filtered)"
            ]
        },
        {
            "cell_type": "code",
            "execution_count": 50,
            "metadata": {},
            "outputs": [
                {
                    "data": {
                        "text/plain": [
                            "0"
                        ]
                    },
                    "execution_count": 50,
                    "metadata": {},
                    "output_type": "execute_result"
                }
            ],
            "source": [
                "df = pd.read_csv('../dataset/cyt_homo_data/filtered/relation_D/Cytochrome_P450_3A.csv')\n",
                "len(df)"
            ]
        },
        {
            "cell_type": "code",
            "execution_count": 51,
            "metadata": {},
            "outputs": [
                {
                    "data": {
                        "application/vnd.jupyter.widget-view+json": {
                            "model_id": "84cd4203f52346979e54ed3a7546dac7",
                            "version_major": 2,
                            "version_minor": 0
                        },
                        "text/plain": [
                            "HBox(children=(IntProgress(value=0, max=47), HTML(value='')))"
                        ]
                    },
                    "metadata": {},
                    "output_type": "display_data"
                }
            ],
            "source": [
                "count = []\n",
                "name = []\n",
                "for csv in tqdm_notebook(glob('../dataset/cyt_homo_data/filtered/relation_D/*csv')):\n",
                "    df = pd.read_csv(csv, index_col=0)\n",
                "    count.append(len(df))\n",
                "    name.append(os.path.splitext(os.path.basename(csv))[0])"
            ]
        },
        {
            "cell_type": "code",
            "execution_count": 53,
            "metadata": {},
            "outputs": [],
            "source": [
                "df_stats_fp = pd.read_csv('../dataset/cyt_homo_data/fp_stats/fp_stats_223_files.csv',index_col=0)"
            ]
        },
        {
            "cell_type": "code",
            "execution_count": 58,
            "metadata": {},
            "outputs": [
                {
                    "data": {
                        "application/vnd.jupyter.widget-view+json": {
                            "model_id": "ad8a8c9c4bb14ef79f8f458d96b6147e",
                            "version_major": 2,
                            "version_minor": 0
                        },
                        "text/plain": [
                            "HBox(children=(IntProgress(value=0, max=223), HTML(value='')))"
                        ]
                    },
                    "metadata": {},
                    "output_type": "display_data"
                }
            ],
            "source": [
                "arr_names = []\n",
                "drop_index = []\n",
                "for i in tqdm_notebook(range(len(df_stats_fp))):\n",
                "    if df_stats_fp['Size'][i] == 28 or df_stats_fp['Size'][i] < 28:\n",
                "#         print(df_stats_fp['Size'][i])\n",
                "        drop_index.append(i)\n",
                "    else:\n",
                "        arr_names.append(df_stats_fp['file_name'][i])"
            ]
        },
        {
            "cell_type": "code",
            "execution_count": 59,
            "metadata": {},
            "outputs": [
                {
                    "data": {
                        "text/plain": [
                            "144"
                        ]
                    },
                    "execution_count": 59,
                    "metadata": {},
                    "output_type": "execute_result"
                }
            ],
            "source": [
                "len(arr_names)"
            ]
        },
        {
            "cell_type": "code",
            "execution_count": 60,
            "metadata": {},
            "outputs": [
                {
                    "data": {
                        "text/plain": [
                            "'rdk_fp-Cytochrome_P450_26A1.npy'"
                        ]
                    },
                    "execution_count": 60,
                    "metadata": {},
                    "output_type": "execute_result"
                }
            ],
            "source": [
                "arr_names[0]"
            ]
        },
        {
            "cell_type": "code",
            "execution_count": 62,
            "metadata": {},
            "outputs": [],
            "source": [
                "fps = []\n",
                "enz = []\n",
                "for i in arr_names:\n",
                "    a = i.split('-')\n",
                "    fps.append(a[0])\n",
                "    enz.append(a[1])"
            ]
        },
        {
            "cell_type": "code",
            "execution_count": 64,
            "metadata": {},
            "outputs": [
                {
                    "data": {
                        "text/plain": [
                            "24"
                        ]
                    },
                    "execution_count": 64,
                    "metadata": {},
                    "output_type": "execute_result"
                }
            ],
            "source": [
                "len(set(enz))"
            ]
        },
        {
            "cell_type": "code",
            "execution_count": null,
            "metadata": {},
            "outputs": [],
            "source": []
        }
    ],
    "metadata": {
        "kernelspec": {
            "display_name": "Python [conda env:seqcomhol]",
            "language": "python",
            "name": "conda-env-seqcomhol-py"
        },
        "language_info": {
            "codemirror_mode": {
                "name": "ipython",
                "version": 3
            },
            "file_extension": ".py",
            "mimetype": "text/x-python",
            "name": "python",
            "nbconvert_exporter": "python",
            "pygments_lexer": "ipython3",
            "version": "3.6.5"
        }
    },
    "nbformat": 4,
    "nbformat_minor": 2
}