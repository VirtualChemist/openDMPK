{
    "cells": [
        {
            "cell_type": "code",
            "execution_count": null,
            "metadata": {},
            "outputs": [],
            "source": [
                "#######################################################################################\n",
                "# Author: Srijan Verma                                                              #\n",
                "# School of Pharmacy                                                                #\n",
                "# Sirimulla Research Group [http://www.sirimullaresearchgroup.com/]                 #\n",
                "# The University of Texas at El Paso, TX, USA                                       #\n",
                "# Last modified: 19/12/2019                                                         #\n",
                "# Copyright (c) 2019 Srijan Verma and Sirimulla Research Group, under MIT license   #\n",
                "#######################################################################################"
            ]
        },
        {
            "cell_type": "code",
            "execution_count": 4,
            "metadata": {},
            "outputs": [],
            "source": [
                "import pandas as pd\n",
                "from tqdm import tqdm_notebook"
            ]
        },
        {
            "cell_type": "code",
            "execution_count": 5,
            "metadata": {},
            "outputs": [],
            "source": [
                "df_all = pd.read_csv('../dataset/whichp450/train_other_data_added.csv',index_col=0)"
            ]
        },
        {
            "cell_type": "code",
            "execution_count": 6,
            "metadata": {},
            "outputs": [],
            "source": [
                "df_all.head(2)\n",
                "smi = df_all['Smiles'].tolist()"
            ]
        },
        {
            "cell_type": "code",
            "execution_count": 7,
            "metadata": {},
            "outputs": [
                {
                    "data": {
                        "application/vnd.jupyter.widget-view+json": {
                            "model_id": "a09b4f158b104a67847686f03052ca0b",
                            "version_major": 2,
                            "version_minor": 0
                        },
                        "text/plain": [
                            "HBox(children=(IntProgress(value=0, max=3713), HTML(value='')))"
                        ]
                    },
                    "metadata": {},
                    "output_type": "display_data"
                },
                {
                    "name": "stdout",
                    "output_type": "stream",
                    "text": [
                        "\n",
                        "CPU times: user 1.94 s, sys: 80.7 ms, total: 2.02 s\n",
                        "Wall time: 2.18 s\n"
                    ]
                }
            ],
            "source": [
                "%%time\n",
                "not_found = 0\n",
                "can_smi = []\n",
                "from rdkit import Chem\n",
                "for smi in tqdm_notebook(smi):\n",
                "    \n",
                "    try:\n",
                "        mol = Chem.MolFromSmiles(smi)\n",
                "        cans = Chem.MolToSmiles(mol, True)\n",
                "        can_smi.append(cans)\n",
                "        \n",
                "    except:\n",
                "        can_smi.append('-')\n",
                "        not_found = not_found + 1\n",
                "        pass\n",
                "\n",
                "# assert cans[0] == cans[1]"
            ]
        },
        {
            "cell_type": "code",
            "execution_count": 8,
            "metadata": {},
            "outputs": [
                {
                    "data": {
                        "text/plain": [
                            "0"
                        ]
                    },
                    "execution_count": 8,
                    "metadata": {},
                    "output_type": "execute_result"
                }
            ],
            "source": [
                "not_found"
            ]
        },
        {
            "cell_type": "code",
            "execution_count": 9,
            "metadata": {},
            "outputs": [],
            "source": [
                "df_all['Canonical_Smiles'] = can_smi"
            ]
        },
        {
            "cell_type": "code",
            "execution_count": 12,
            "metadata": {},
            "outputs": [
                {
                    "data": {
                        "application/vnd.jupyter.widget-view+json": {
                            "model_id": "478edad2903d4b66ac06c3cb94f6d977",
                            "version_major": 2,
                            "version_minor": 0
                        },
                        "text/plain": [
                            "HBox(children=(IntProgress(value=0, max=7), HTML(value='')))"
                        ]
                    },
                    "metadata": {},
                    "output_type": "display_data"
                },
                {
                    "name": "stdout",
                    "output_type": "stream",
                    "text": [
                        "No. of +ves for Enzyme 1A2 is: 314\n",
                        "No. of +ves for Enzyme 2C19 is: 278\n",
                        "No. of +ves for Enzyme 2C8 is: 189\n",
                        "No. of +ves for Enzyme 2C9 is: 329\n",
                        "No. of +ves for Enzyme 2D6 is: 428\n",
                        "No. of +ves for Enzyme 2E1 is: 169\n",
                        "No. of +ves for Enzyme 3A4 is: 707\n",
                        "\n"
                    ]
                }
            ],
            "source": [
                "df = df_all\n",
                "target_list=list(df['drug_type'].unique())\n",
                "from tqdm import tqdm_notebook\n",
                "# df = df_deduplicated\n",
                "for k in tqdm_notebook(target_list):\n",
                "    \n",
                "    if k == '-':\n",
                "        continue\n",
                "        \n",
                "    else:\n",
                "    \n",
                "        label = []\n",
                "\n",
                "        for i in (range(len(df))):\n",
                "\n",
                "            if df['drug_type'][i] == k:\n",
                "                label.append('positive')\n",
                "                continue\n",
                "\n",
                "            else:\n",
                "                label.append('negative')\n",
                "                continue\n",
                "\n",
                "        df['Label'] = label\n",
                "\n",
                "        df_all = df\n",
                "\n",
                "        df_all.reset_index(drop = True, inplace = True)\n",
                "\n",
                "        drop_index = []\n",
                "\n",
                "        for i in (range(len(df_all))):\n",
                "\n",
                "            if df_all['drug_type'][i] == k:\n",
                "                continue\n",
                "\n",
                "            else:\n",
                "                drop_index.append(i)\n",
                "                continue\n",
                "\n",
                "        df_p = df_all.drop(drop_index, axis = 0, inplace = False)\n",
                "        df_p.reset_index(drop = True, inplace = True)\n",
                "\n",
                "        df_pos = df_p.drop_duplicates(['Canonical_Smiles'])\n",
                "\n",
                "        uni_pos_smiles = set(df_pos['Canonical_Smiles'].tolist())\n",
                "\n",
                "        drop_index = []\n",
                "        for i in (range(len(df_all))):\n",
                "\n",
                "            if df_all['Canonical_Smiles'][i] in uni_pos_smiles:\n",
                "                drop_index.append(i)\n",
                "                continue\n",
                "\n",
                "            else:\n",
                "                continue\n",
                "\n",
                "        df_neg = df_all.drop(drop_index, axis = 0, inplace = False)\n",
                "        df_neg.reset_index(drop = True, inplace = True)\n",
                "\n",
                "        df_neg = df_neg.drop_duplicates(['Canonical_Smiles'])\n",
                "\n",
                "    #########################<GETTING FAM-SMILES-COUNT>####################################\n",
                "        df_neg.reset_index(drop = True, inplace = True)\n",
                "        df_pos.reset_index(drop = True, inplace = True)\n",
                "\n",
                "    #     df_neg_index = df_neg.set_index('Final_Family')\n",
                "    #     df_pos_index = df_pos.set_index('Final_Family')\n",
                "\n",
                "    #     for fam in tqdm_notebook(fin_fam):\n",
                "    #         get_fam_count(k, fam, df_neg_index, df_pos_index) \n",
                "    #######################################################################################\n",
                "\n",
                "        clean_data = pd.concat([df_neg, df_pos], ignore_index=True, sort =True)\n",
                "\n",
                "#         if k.split('-')[1] == 'Inhibitor':\n",
                "#             clean_data.to_csv('../dataset/two_paper_plus_transformer_combined/inhib_data/' + k.split('-')[0] + '_inh.csv')\n",
                "#             continue\n",
                "\n",
                "#         elif k.split('-')[1] == 'Substrate':\n",
                "#             clean_data.to_csv('../dataset/two_paper_plus_transformer_combined/sub_data/' + k.split('-')[0] + '_sub.csv')\n",
                "            \n",
                "#         else:\n",
                "        print('No. of +ves for Enzyme '+k+' is: '+str(len(clean_data[clean_data.Label=='positive'])))\n",
                "        clean_data.to_csv('../dataset/whichp450/individual_csv_files_plus_other/' + k+'.csv')\n",
                "            \n"
            ]
        },
        {
            "cell_type": "code",
            "execution_count": null,
            "metadata": {},
            "outputs": [],
            "source": []
        }
    ],
    "metadata": {
        "kernelspec": {
            "display_name": "Python [conda env:seqcomhol]",
            "language": "python",
            "name": "conda-env-seqcomhol-py"
        },
        "language_info": {
            "codemirror_mode": {
                "name": "ipython",
                "version": 3
            },
            "file_extension": ".py",
            "mimetype": "text/x-python",
            "name": "python",
            "nbconvert_exporter": "python",
            "pygments_lexer": "ipython3",
            "version": "3.6.5"
        }
    },
    "nbformat": 4,
    "nbformat_minor": 2
}