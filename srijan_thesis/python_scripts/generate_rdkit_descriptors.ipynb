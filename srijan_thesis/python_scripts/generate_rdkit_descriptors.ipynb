{
    "cells": [
        {
            "cell_type": "code",
            "execution_count": null,
            "metadata": {},
            "outputs": [],
            "source": [
                "#######################################################################################\n",
                "# Author: Srijan Verma                                                              #\n",
                "# School of Pharmacy                                                                #\n",
                "# Sirimulla Research Group [http://www.sirimullaresearchgroup.com/]                 #\n",
                "# The University of Texas at El Paso, TX, USA                                       #\n",
                "# Last modified: 19/12/2019                                                         #\n",
                "# Copyright (c) 2019 Srijan Verma and Sirimulla Research Group, under MIT license   #\n",
                "#######################################################################################"
            ]
        },
        {
            "cell_type": "code",
            "execution_count": 1,
            "metadata": {},
            "outputs": [],
            "source": [
                "from rdkit.Chem import AllChem, Descriptors\n",
                "from rdkit import Chem\n",
                "from tqdm import tqdm\n",
                "from sklearn.preprocessing import LabelEncoder\n",
                "import sys\n",
                "import pandas as pd\n",
                "import numpy as np\n",
                "from rdkit.Chem import MACCSkeys\n",
                "from rdkit.Avalon import pyAvalonTools\n",
                "from rdkit.Chem import RDKFingerprint\n",
                "from rdkit.Chem.AtomPairs import Pairs\n",
                "from rdkit.Chem.AtomPairs import Torsions\n",
                "from rdkit.Chem.Fingerprints import FingerprintMols\n",
                "import os\n",
                "from rdkit.ML.Descriptors import MoleculeDescriptors\n",
                "from sklearn.preprocessing import MinMaxScaler\n",
                "import pandas as pd\n",
                "import numpy as np\n",
                "from tqdm import tqdm_notebook"
            ]
        },
        {
            "cell_type": "code",
            "execution_count": 2,
            "metadata": {},
            "outputs": [],
            "source": [
                "calc = MoleculeDescriptors.MolecularDescriptorCalculator([x[0] for x in Descriptors._descList])\n",
                "m1 = Chem.MolFromSmiles('CCCC')\n",
                "ds = calc.CalcDescriptors(m1)\n",
                "# ds = np.asarray(list(ds))\n",
                "# descriptors.append(ds)"
            ]
        },
        {
            "cell_type": "code",
            "execution_count": 3,
            "metadata": {},
            "outputs": [
                {
                    "data": {
                        "text/plain": [
                            "'0101010011'"
                        ]
                    },
                    "execution_count": 3,
                    "metadata": {},
                    "output_type": "execute_result"
                }
            ],
            "source": [
                "a = '010101'\n",
                "b = '0011'\n",
                "a+b"
            ]
        },
        {
            "cell_type": "code",
            "execution_count": 4,
            "metadata": {},
            "outputs": [],
            "source": [
                "# np.asarray(list(ds))"
            ]
        },
        {
            "cell_type": "code",
            "execution_count": 5,
            "metadata": {},
            "outputs": [],
            "source": [
                "descriptors = []\n",
                "df = pd.read_csv('../dataset/two_paper_plus_transformer_combined/inhib_data/1A1_inh.csv',index_col=0)\n",
                "smiles_list = df['Canonical_Smiles'].tolist()\n",
                "# for i in tqdm_notebook(range(len(smiles))):\n",
                "#     m1 = Chem.MolFromSmiles(smiles[i])\n",
                "#     ds = calc.CalcDescriptors(m1)\n",
                "#     ds = ''.join(map(str, ds))\n",
                "# #     ds = ''.join(str(ds))\n",
                "# #     ds = np.asarray(list(ds))\n",
                "#     descriptors.append(ds)"
            ]
        },
        {
            "cell_type": "code",
            "execution_count": 15,
            "metadata": {},
            "outputs": [
                {
                    "data": {
                        "text/plain": [
                            "'10.935818487735876-1.246205352768679410.9358184877358760.15496971319391940.8615348244596426289.158275.046288.031999667999979800.3469527260260042-0.478304313837370040.478304313837370040.34695272602600421.38888888888888881.88888888888888882.27777777777777772.0716222773934136465.629630102694213.5520417638777910.11349724958081511.6253551416177258.2219806648719375.6244628617476826.3803918077661375.0043024456352456.5466892813606522.99648002975748633.8319113198418461.681379082730112.2419620979937784-0.930000000000000211444.66858188419213.5004725305788334.3186928518744542.7279289663210857115.6560003022549.84339034864075510.0828659467693465.6010508109836880.00.05.9693052879518490.04.7945371840718220.023.2018797804650312.1327341369232237.9644816509274755.9179060461613930.014.63792753271257629.1711850684168820.00.00.036.120606992937770.029.8289197655434360.05.7495118332839054.7368629538000490.05.74951183328390523.2018797804650321.0102376072616834.7945371840718220.031.74965356016564424.265468273846440.00.00.046.5315.9037102124209774.7945371840718220.05.9179060461613935.74951183328390511.98427311462300413.84747439938124812.1327341369232212.132734136923220.033.045270129105794.75476951583102411.97208686000502810.9358184877358768.964113667684193-0.20409320235295736-0.33498614260519017.2076221970269590.74695823622658933.01326593600403130.00.461538461538461561813101101215410123.58980000000000370.579800000000031000000011100000000000000200000000100000010020000000000000000000000000000000000000000'"
                        ]
                    },
                    "execution_count": 15,
                    "metadata": {},
                    "output_type": "execute_result"
                }
            ],
            "source": [
                "descriptors[0]"
            ]
        },
        {
            "cell_type": "code",
            "execution_count": 4,
            "metadata": {},
            "outputs": [
                {
                    "data": {
                        "text/plain": [
                            "tuple"
                        ]
                    },
                    "execution_count": 4,
                    "metadata": {},
                    "output_type": "execute_result"
                }
            ],
            "source": [
                "type(ds)"
            ]
        },
        {
            "cell_type": "code",
            "execution_count": 6,
            "metadata": {},
            "outputs": [
                {
                    "data": {
                        "text/plain": [
                            "-0.06539244288085166"
                        ]
                    },
                    "execution_count": 6,
                    "metadata": {},
                    "output_type": "execute_result"
                }
            ],
            "source": [
                "min(ds)"
            ]
        },
        {
            "cell_type": "code",
            "execution_count": 7,
            "metadata": {},
            "outputs": [],
            "source": [
                "a = ds"
            ]
        },
        {
            "cell_type": "code",
            "execution_count": 8,
            "metadata": {},
            "outputs": [
                {
                    "data": {
                        "text/plain": [
                            "[0.03859720653796217,\n",
                            " 0.023798785812803643,\n",
                            " 0.03859720653796217,\n",
                            " 0.023798785812803643,\n",
                            " 0.008531053164706046,\n",
                            " 1.0,\n",
                            " 0.8267725512017572,\n",
                            " 0.9992137797272087,\n",
                            " 0.44794061853226674,\n",
                            " 0.00112378631457686,\n",
                            " 0.00015394682926202823,\n",
                            " 0.0,\n",
                            " 0.00224757262915372,\n",
                            " 0.0020936257998916924,\n",
                            " 0.018309049092180316,\n",
                            " 0.02260536478658118,\n",
                            " 0.02260536478658118,\n",
                            " 0.03506029584816606,\n",
                            " 0.03549431186978377,\n",
                            " 0.059797943562816105,\n",
                            " 0.059797943562816105,\n",
                            " 0.059797943562816105,\n",
                            " 0.03402004939641092,\n",
                            " 0.03402004939641092,\n",
                            " 0.03402004939641092,\n",
                            " 0.018309049092180313,\n",
                            " 0.018309049092180313,\n",
                            " 0.009716417703378586,\n",
                            " 0.009716417703378586,\n",
                            " 0.00112378631457686,\n",
                            " 0.00112378631457686,\n",
                            " 0.00112378631457686,\n",
                            " 0.11892451741865263,\n",
                            " 0.06986483742499068,\n",
                            " 0.05267957464738723,\n",
                            " 0.03549431186978377,\n",
                            " 0.47945972010769083,\n",
                            " 0.00112378631457686,\n",
                            " 0.00112378631457686,\n",
                            " 0.00112378631457686,\n",
                            " 0.00112378631457686,\n",
                            " 0.00112378631457686,\n",
                            " 0.00112378631457686,\n",
                            " 0.00112378631457686,\n",
                            " 0.00112378631457686,\n",
                            " 0.00112378631457686,\n",
                            " 0.00112378631457686,\n",
                            " 0.45978328635028376,\n",
                            " 0.00112378631457686,\n",
                            " 0.00112378631457686,\n",
                            " 0.00112378631457686,\n",
                            " 0.00112378631457686,\n",
                            " 0.00112378631457686,\n",
                            " 0.00112378631457686,\n",
                            " 0.00112378631457686,\n",
                            " 0.00112378631457686,\n",
                            " 0.45978328635028376,\n",
                            " 0.00112378631457686,\n",
                            " 0.00112378631457686,\n",
                            " 0.00112378631457686,\n",
                            " 0.00112378631457686,\n",
                            " 0.00112378631457686,\n",
                            " 0.00112378631457686,\n",
                            " 0.00112378631457686,\n",
                            " 0.00112378631457686,\n",
                            " 0.00112378631457686,\n",
                            " 0.00112378631457686,\n",
                            " 0.00112378631457686,\n",
                            " 0.45978328635028376,\n",
                            " 0.00112378631457686,\n",
                            " 0.00112378631457686,\n",
                            " 0.00112378631457686,\n",
                            " 0.00112378631457686,\n",
                            " 0.00112378631457686,\n",
                            " 0.00112378631457686,\n",
                            " 0.00112378631457686,\n",
                            " 0.00112378631457686,\n",
                            " 0.00112378631457686,\n",
                            " 0.00112378631457686,\n",
                            " 0.00112378631457686,\n",
                            " 0.22181079999078038,\n",
                            " 0.00112378631457686,\n",
                            " 0.00112378631457686,\n",
                            " 0.23909627267408018,\n",
                            " 0.00112378631457686,\n",
                            " 0.00112378631457686,\n",
                            " 0.00112378631457686,\n",
                            " 0.00112378631457686,\n",
                            " 0.00112378631457686,\n",
                            " 0.00112378631457686,\n",
                            " 0.00112378631457686,\n",
                            " 0.00112378631457686,\n",
                            " 0.04647378531103042,\n",
                            " 0.07607062676134747,\n",
                            " 0.00112378631457686,\n",
                            " 0.018309049092180316,\n",
                            " 0.06986483742499068,\n",
                            " 0.00112378631457686,\n",
                            " 0.00112378631457686,\n",
                            " 0.00112378631457686,\n",
                            " 0.00112378631457686,\n",
                            " 0.00112378631457686,\n",
                            " 0.00112378631457686,\n",
                            " 0.00112378631457686,\n",
                            " 0.00112378631457686,\n",
                            " 0.00112378631457686,\n",
                            " 0.00112378631457686,\n",
                            " 0.00112378631457686,\n",
                            " 0.018309049092180316,\n",
                            " 0.00112378631457686,\n",
                            " 0.00112378631457686,\n",
                            " 0.00112378631457686,\n",
                            " 0.00112378631457686,\n",
                            " 0.03216724499603974,\n",
                            " 0.3548308648032112,\n",
                            " 0.00112378631457686,\n",
                            " 0.00112378631457686,\n",
                            " 0.00112378631457686,\n",
                            " 0.00112378631457686,\n",
                            " 0.00112378631457686,\n",
                            " 0.00112378631457686,\n",
                            " 0.00112378631457686,\n",
                            " 0.00112378631457686,\n",
                            " 0.00112378631457686,\n",
                            " 0.00112378631457686,\n",
                            " 0.00112378631457686,\n",
                            " 0.00112378631457686,\n",
                            " 0.00112378631457686,\n",
                            " 0.00112378631457686,\n",
                            " 0.00112378631457686,\n",
                            " 0.00112378631457686,\n",
                            " 0.00112378631457686,\n",
                            " 0.00112378631457686,\n",
                            " 0.00112378631457686,\n",
                            " 0.00112378631457686,\n",
                            " 0.00112378631457686,\n",
                            " 0.00112378631457686,\n",
                            " 0.00112378631457686,\n",
                            " 0.00112378631457686,\n",
                            " 0.00112378631457686,\n",
                            " 0.00112378631457686,\n",
                            " 0.00112378631457686,\n",
                            " 0.00112378631457686,\n",
                            " 0.00112378631457686,\n",
                            " 0.00112378631457686,\n",
                            " 0.00112378631457686,\n",
                            " 0.00112378631457686,\n",
                            " 0.00112378631457686,\n",
                            " 0.00112378631457686,\n",
                            " 0.00112378631457686,\n",
                            " 0.00112378631457686,\n",
                            " 0.00112378631457686,\n",
                            " 0.00112378631457686,\n",
                            " 0.00112378631457686,\n",
                            " 0.00112378631457686,\n",
                            " 0.00112378631457686,\n",
                            " 0.00112378631457686,\n",
                            " 0.00112378631457686,\n",
                            " 0.00112378631457686,\n",
                            " 0.00112378631457686,\n",
                            " 0.00112378631457686,\n",
                            " 0.00112378631457686,\n",
                            " 0.00112378631457686,\n",
                            " 0.00112378631457686,\n",
                            " 0.00112378631457686,\n",
                            " 0.00112378631457686,\n",
                            " 0.00112378631457686,\n",
                            " 0.00112378631457686,\n",
                            " 0.00112378631457686,\n",
                            " 0.00112378631457686,\n",
                            " 0.00112378631457686,\n",
                            " 0.00112378631457686,\n",
                            " 0.00112378631457686,\n",
                            " 0.00112378631457686,\n",
                            " 0.00112378631457686,\n",
                            " 0.00112378631457686,\n",
                            " 0.00112378631457686,\n",
                            " 0.00112378631457686,\n",
                            " 0.00112378631457686,\n",
                            " 0.00112378631457686,\n",
                            " 0.00112378631457686,\n",
                            " 0.00112378631457686,\n",
                            " 0.00112378631457686,\n",
                            " 0.00112378631457686,\n",
                            " 0.00112378631457686,\n",
                            " 0.00112378631457686,\n",
                            " 0.00112378631457686,\n",
                            " 0.00112378631457686,\n",
                            " 0.00112378631457686,\n",
                            " 0.00112378631457686,\n",
                            " 0.00112378631457686,\n",
                            " 0.00112378631457686,\n",
                            " 0.00112378631457686,\n",
                            " 0.00112378631457686,\n",
                            " 0.00112378631457686,\n",
                            " 0.00112378631457686,\n",
                            " 0.00112378631457686,\n",
                            " 0.00112378631457686,\n",
                            " 0.00112378631457686,\n",
                            " 0.00112378631457686]"
                        ]
                    },
                    "execution_count": 8,
                    "metadata": {},
                    "output_type": "execute_result"
                }
            ],
            "source": [
                "[(float(i)-min(a))/(max(a)-min(a)) for i in a]"
            ]
        },
        {
            "cell_type": "code",
            "execution_count": 108,
            "metadata": {},
            "outputs": [],
            "source": [
                "from rdkit import Chem\n",
                "from rdkit.Chem import MACCSkeys, AllChem\n",
                "from rdkit.Avalon import pyAvalonTools as fpAvalon\n",
                "from rdkit.Chem.AtomPairs import Pairs, Torsions\n",
                "from rdkit.Chem.Fingerprints import FingerprintMols\n",
                "from rdkit.Chem.ChemicalFeatures import BuildFeatureFactory\n",
                "from rdkit.Chem import rdMolDescriptors\n",
                "from tqdm import tqdm\n",
                "from sklearn.preprocessing import LabelEncoder\n",
                "import sys\n",
                "import pandas as pd\n",
                "import numpy as np\n",
                "import os\n",
                "from sklearn.preprocessing import MinMaxScaler\n",
                "import time\n",
                "\n",
                "# implemented fingerprints:\n",
                "# ECFC0 (ecfc0), ECFP0 (ecfp0), MACCS (maccs),\n",
                "# atom pairs (ap), atom pairs bit vector (apbv), topological torsions (tt)\n",
                "# hashed atom pairs (hashap), hashed topological torsions (hashtt) --> with 1024 bits\n",
                "# ECFP4 (ecfp4), ECFP6 (ecfp6), ECFC4 (ecfc4), ECFC6 (ecfc6) --> with 1024 bits\n",
                "# FCFP4 (fcfp4), FCFP6 (fcfp6), FCFC4 (fcfc4), FCFC6 (fcfc6) --> with 1024 bits\n",
                "# Avalon (avalon) --> with 1024 bits\n",
                "# long Avalon (laval) --> with 16384 bits\n",
                "# long ECFP4 (lecfp4), long ECFP6 (lecfp6), long FCFP4 (lfcfp4), long FCFP6 (lfcfp6) --> with 16384 bits\n",
                "# RDKit with path length = 5 (rdk5), with path length = 6 (rdk6), with path length = 7 (rdk7)\n",
                "# 2D pharmacophore (pharm) ?????????????\n",
                "\n",
                "calc = MoleculeDescriptors.MolecularDescriptorCalculator([x[0] for x in Descriptors._descList])\n",
                "nbits = 1024\n",
                "longbits = 16384\n",
                "\n",
                "# dictionary\n",
                "fpdict = {}\n",
                "fpdict['ecfp0'] = lambda m: AllChem.GetMorganFingerprintAsBitVect(m, 0, nBits=nbits)\n",
                "fpdict['ecfp2'] = lambda m: AllChem.GetMorganFingerprintAsBitVect(m, 1, nBits=nbits)\n",
                "fpdict['ecfp4'] = lambda m: AllChem.GetMorganFingerprintAsBitVect(m, 2, nBits=nbits)\n",
                "fpdict['ecfp6'] = lambda m: AllChem.GetMorganFingerprintAsBitVect(m, 3, nBits=nbits)\n",
                "#fpdict['ecfc0'] = lambda m: AllChem.GetMorganFingerprint(m, 0)\n",
                "#fpdict['ecfc2'] = lambda m: AllChem.GetMorganFingerprint(m, 1)\n",
                "#fpdict['ecfc4'] = lambda m: AllChem.GetMorganFingerprint(m, 2)\n",
                "#fpdict['ecfc6'] = lambda m: AllChem.GetMorganFingerprint(m, 3)\n",
                "fpdict['fcfp2'] = lambda m: AllChem.GetMorganFingerprintAsBitVect(m, 1, useFeatures=True, nBits=nbits)\n",
                "fpdict['fcfp4'] = lambda m: AllChem.GetMorganFingerprintAsBitVect(m, 2, useFeatures=True, nBits=nbits)\n",
                "fpdict['fcfp6'] = lambda m: AllChem.GetMorganFingerprintAsBitVect(m, 3, useFeatures=True, nBits=nbits)\n",
                "#fpdict['fcfc2'] = lambda m: AllChem.GetMorganFingerprint(m, 1, useFeatures=True)\n",
                "#fpdict['fcfc4'] = lambda m: AllChem.GetMorganFingerprint(m, 2, useFeatures=True)\n",
                "#fpdict['fcfc6'] = lambda m: AllChem.GetMorganFingerprint(m, 3, useFeatures=True)\n",
                "fpdict['lecfp4'] = lambda m: AllChem.GetMorganFingerprintAsBitVect(m, 2, nBits=longbits)\n",
                "fpdict['lecfp6'] = lambda m: AllChem.GetMorganFingerprintAsBitVect(m, 3, nBits=longbits)\n",
                "fpdict['lfcfp4'] = lambda m: AllChem.GetMorganFingerprintAsBitVect(m, 2, useFeatures=True, nBits=longbits)\n",
                "fpdict['lfcfp6'] = lambda m: AllChem.GetMorganFingerprintAsBitVect(m, 3, useFeatures=True, nBits=longbits)\n",
                "fpdict['maccs'] = lambda m: MACCSkeys.GenMACCSKeys(m)\n",
                "#fpdict['ap'] = lambda m: Pairs.GetAtomPairFingerprint(m)\n",
                "#fpdict['tt'] = lambda m: Torsions.GetTopologicalTorsionFingerprintAsIntVect(m)\n",
                "fpdict['hashap'] = lambda m: rdMolDescriptors.GetHashedAtomPairFingerprintAsBitVect(m, nBits=nbits)\n",
                "fpdict['hashtt'] = lambda m: rdMolDescriptors.GetHashedTopologicalTorsionFingerprintAsBitVect(m, nBits=nbits)\n",
                "fpdict['avalon'] = lambda m: fpAvalon.GetAvalonFP(m, nbits)\n",
                "fpdict['laval'] = lambda m: fpAvalon.GetAvalonFP(m, longbits)\n",
                "fpdict['rdk5'] = lambda m: Chem.RDKFingerprint(m, maxPath=5, fpSize=nbits, nBitsPerHash=2)\n",
                "fpdict['rdk6'] = lambda m: Chem.RDKFingerprint(m, maxPath=6, fpSize=nbits, nBitsPerHash=2)\n",
                "fpdict['rdk7'] = lambda m: Chem.RDKFingerprint(m, maxPath=7, fpSize=nbits, nBitsPerHash=2)\n",
                "fpdict['rdkDes'] = lambda m: calc.CalcDescriptors(m)\n",
                "long_fps = {'laval', 'lecfp4', 'lecfp6', 'lfcfp4', 'lfcfp6'}\n",
                "\n",
                "def CalculateFP(fp_name, smiles):\n",
                "    \n",
                "    m = Chem.MolFromSmiles(smiles)\n",
                "    return fpdict[fp_name](m)\n",
                "\n",
                "#####################################################################################################################\n",
                "def combine_fp(fp_name):\n",
                "    \n",
                "    feat_list = fp_name.split('_')\n",
                "    not_found = []\n",
                "    features = []\n",
                "    descriptors = []\n",
                "    \n",
                "    for i in tqdm_notebook(range(len(smiles_list))):\n",
                "        feat = ''\n",
                "        ds = ''\n",
                "        for j in range(len(feat_list)):\n",
                "\n",
                "            try:\n",
                "                fp = CalculateFP(feat_list[j], smiles_list[i])\n",
                "                if feat_list[j] == 'rdkDes':\n",
                "                    fp = np.asarray(fp)\n",
                "                    \n",
                "                    fp = fp.reshape(1,200)\n",
                "\n",
                "                else:\n",
                "                    fp = fp.ToBitString()\n",
                "                    fp = np.array([(np.fromstring(fp,'u1') - ord('0'))], dtype=np.float16)\n",
                "\n",
                "            except:\n",
                "#                if feat_list[j] == 'rdkDes':\n",
                "#                    descriptors.append(np.nan)\n",
                "#                else:\n",
                "#                    fingerprints.append(np.nan)\n",
                "#                    not_found.append(i)\n",
                "                pass\n",
                "\n",
                "            if j == 0:\n",
                "                feat = fp\n",
                "            \n",
                "            else:\n",
                "                feat = np.concatenate((feat, fp), axis=1)\n",
                "                    \n",
                "        features.append(feat)\n",
                "    return features\n",
                "#        if ds != '':\n",
                "#            descriptors.append(ds)\n",
                "#        else:\n",
                "#\n",
                "#    not_found = list(set(not_found))"
            ]
        },
        {
            "cell_type": "code",
            "execution_count": 129,
            "metadata": {},
            "outputs": [
                {
                    "data": {
                        "application/vnd.jupyter.widget-view+json": {
                            "model_id": "192938e7e5224f7b87c0eb71416092f3",
                            "version_major": 2,
                            "version_minor": 0
                        },
                        "text/plain": [
                            "HBox(children=(IntProgress(value=0, max=1525), HTML(value='')))"
                        ]
                    },
                    "metadata": {},
                    "output_type": "display_data"
                },
                {
                    "name": "stderr",
                    "output_type": "stream",
                    "text": [
                        "/Users/pankajverma/anaconda3/envs/seqcomhol/lib/python3.6/site-packages/ipykernel/__main__.py:93: DeprecationWarning: The binary mode of fromstring is deprecated, as it behaves surprisingly on unicode inputs. Use frombuffer instead\n"
                    ]
                },
                {
                    "name": "stdout",
                    "output_type": "stream",
                    "text": [
                        "\n"
                    ]
                }
            ],
            "source": [
                "a = combine_fp('rdkDes_lecfp6_laval_hashap')"
            ]
        },
        {
            "cell_type": "code",
            "execution_count": 130,
            "metadata": {},
            "outputs": [],
            "source": [
                "a = np.array(a)"
            ]
        },
        {
            "cell_type": "code",
            "execution_count": 44,
            "metadata": {},
            "outputs": [],
            "source": [
                "a = np.asarray(a)"
            ]
        },
        {
            "cell_type": "code",
            "execution_count": 131,
            "metadata": {},
            "outputs": [
                {
                    "data": {
                        "text/plain": [
                            "(1525, 1, 33992)"
                        ]
                    },
                    "execution_count": 131,
                    "metadata": {},
                    "output_type": "execute_result"
                }
            ],
            "source": [
                "a.shape"
            ]
        },
        {
            "cell_type": "code",
            "execution_count": 132,
            "metadata": {},
            "outputs": [],
            "source": [
                "a = a.reshape(a.shape[0],a.shape[2])"
            ]
        },
        {
            "cell_type": "code",
            "execution_count": 133,
            "metadata": {},
            "outputs": [],
            "source": [
                "a=np.nan_to_num(a, copy=True, nan=np.nan, posinf=np.nan, neginf=np.nan)"
            ]
        },
        {
            "cell_type": "code",
            "execution_count": 134,
            "metadata": {},
            "outputs": [],
            "source": [
                "col_mean = np.nanmean(a, axis = 0) \n",
                "inds = np.where(np.isnan(a)) \n",
                "a[inds] = np.take(col_mean, inds[1]) "
            ]
        },
        {
            "cell_type": "code",
            "execution_count": 135,
            "metadata": {},
            "outputs": [],
            "source": [
                "# a = np.vstack(a).astype(np.float64)\n",
                "\n",
                "# \n",
                "scaler = MinMaxScaler()\n",
                "a = scaler.fit_transform(a)  "
            ]
        },
        {
            "cell_type": "code",
            "execution_count": 114,
            "metadata": {},
            "outputs": [
                {
                    "name": "stdout",
                    "output_type": "stream",
                    "text": [
                        "nan nan\n"
                    ]
                }
            ],
            "source": [
                "print(np.max(a), np.min(a))"
            ]
        },
        {
            "cell_type": "code",
            "execution_count": 104,
            "metadata": {},
            "outputs": [
                {
                    "data": {
                        "text/plain": [
                            "True"
                        ]
                    },
                    "execution_count": 104,
                    "metadata": {},
                    "output_type": "execute_result"
                }
            ],
            "source": [
                "np.any(np.isnan(a))"
            ]
        },
        {
            "cell_type": "code",
            "execution_count": 105,
            "metadata": {},
            "outputs": [
                {
                    "data": {
                        "text/plain": [
                            "True"
                        ]
                    },
                    "execution_count": 105,
                    "metadata": {},
                    "output_type": "execute_result"
                }
            ],
            "source": [
                "np.any(np.isfinite(a))"
            ]
        },
        {
            "cell_type": "code",
            "execution_count": 95,
            "metadata": {},
            "outputs": [
                {
                    "data": {
                        "text/plain": [
                            "array([ 1.68593750e+01, -1.98046875e+00,  1.68593750e+01,  6.75659180e-02,\n",
                            "        6.66992188e-01,  3.92500000e+02,  3.63250000e+02,  3.92250000e+02,\n",
                            "        1.54000000e+02,  0.00000000e+00,  1.89941406e-01, -3.89648438e-01,\n",
                            "        3.89648438e-01,  1.89941406e-01,  1.32128906e+00,  2.00000000e+00,\n",
                            "        2.64257812e+00,  1.83789062e+00,  8.04500000e+02,  2.07031250e+01,\n",
                            "        1.66093750e+01,  1.66093750e+01,  1.29609375e+01,  1.01406250e+01,\n",
                            "        1.01406250e+01,  9.75000000e+00,  9.75000000e+00,  8.78906250e+00,\n",
                            "        8.78906250e+00,  7.26171875e+00,  7.26171875e+00, -1.37011719e+00,\n",
                            "                   inf,  1.99218750e+01,  5.83203125e+00,  2.01367188e+00,\n",
                            "        1.63875000e+02,  1.53203125e+01,  1.22109375e+01,  1.72343750e+01,\n",
                            "        0.00000000e+00,  0.00000000e+00,  0.00000000e+00,  9.58593750e+00,\n",
                            "        4.39062500e+00,  0.00000000e+00,  0.00000000e+00,  2.55000000e+01,\n",
                            "        5.65937500e+01,  1.67500000e+01,  6.10546875e+00,  2.92968750e+01,\n",
                            "        1.15703125e+01,  0.00000000e+00,  0.00000000e+00,  2.85781250e+01,\n",
                            "        6.38437500e+01,  6.60546875e+00,  2.37968750e+01,  0.00000000e+00,\n",
                            "        0.00000000e+00,  0.00000000e+00,  4.39062500e+00,  0.00000000e+00,\n",
                            "        0.00000000e+00,  5.08750000e+01,  9.58593750e+00,  2.85781250e+01,\n",
                            "        4.64687500e+01,  2.37968750e+01,  0.00000000e+00,  0.00000000e+00,\n",
                            "        0.00000000e+00,  9.48125000e+01,  5.24375000e+01,  2.49062500e+01,\n",
                            "        4.39062500e+00,  1.81250000e+01,  2.48281250e+01,  0.00000000e+00,\n",
                            "        1.21484375e+01,  2.68437500e+01,  0.00000000e+00,  0.00000000e+00,\n",
                            "        0.00000000e+00,  1.68593750e+01,  0.00000000e+00,  2.43750000e+01,\n",
                            "        3.19687500e+01, -5.16796875e+00, -2.11914062e+00,  0.00000000e+00,\n",
                            "        4.43750000e+00,  4.48046875e+00,  0.00000000e+00,  7.27050781e-01,\n",
                            "        2.80000000e+01,  3.00000000e+00,  5.00000000e+00,  4.00000000e+00,\n",
                            "        0.00000000e+00,  4.00000000e+00,  0.00000000e+00,  0.00000000e+00,\n",
                            "        0.00000000e+00,  5.00000000e+00,  3.00000000e+00,  6.00000000e+00,\n",
                            "        2.00000000e+00,  3.00000000e+00,  0.00000000e+00,  3.00000000e+00,\n",
                            "        4.00000000e+00,  1.89550781e+00,  9.99375000e+01,  0.00000000e+00,\n",
                            "        3.00000000e+00,  2.00000000e+00,  0.00000000e+00,  0.00000000e+00,\n",
                            "        0.00000000e+00,  0.00000000e+00,  0.00000000e+00,  0.00000000e+00,\n",
                            "        0.00000000e+00,  2.00000000e+00,  2.00000000e+00,  0.00000000e+00,\n",
                            "        0.00000000e+00,  0.00000000e+00,  0.00000000e+00,  0.00000000e+00,\n",
                            "        0.00000000e+00,  0.00000000e+00,  0.00000000e+00,  0.00000000e+00,\n",
                            "        0.00000000e+00,  0.00000000e+00,  0.00000000e+00,  0.00000000e+00,\n",
                            "        1.00000000e+00,  4.00000000e+00,  0.00000000e+00,  0.00000000e+00,\n",
                            "        0.00000000e+00,  0.00000000e+00,  0.00000000e+00,  0.00000000e+00,\n",
                            "        0.00000000e+00,  0.00000000e+00,  0.00000000e+00,  5.00000000e+00,\n",
                            "        0.00000000e+00,  0.00000000e+00,  0.00000000e+00,  0.00000000e+00,\n",
                            "        0.00000000e+00,  0.00000000e+00,  0.00000000e+00,  1.00000000e+00,\n",
                            "        0.00000000e+00,  0.00000000e+00,  0.00000000e+00,  0.00000000e+00,\n",
                            "        0.00000000e+00,  0.00000000e+00,  2.00000000e+00,  1.00000000e+00,\n",
                            "        0.00000000e+00,  0.00000000e+00,  0.00000000e+00,  0.00000000e+00,\n",
                            "        0.00000000e+00,  0.00000000e+00,  0.00000000e+00,  0.00000000e+00,\n",
                            "        0.00000000e+00,  0.00000000e+00,  0.00000000e+00,  0.00000000e+00,\n",
                            "        0.00000000e+00,  0.00000000e+00,  0.00000000e+00,  0.00000000e+00,\n",
                            "        0.00000000e+00,  0.00000000e+00,  0.00000000e+00,  0.00000000e+00,\n",
                            "        0.00000000e+00,  0.00000000e+00,  0.00000000e+00,  0.00000000e+00,\n",
                            "        0.00000000e+00,  0.00000000e+00,  0.00000000e+00,  0.00000000e+00,\n",
                            "        0.00000000e+00,  0.00000000e+00,  0.00000000e+00,  0.00000000e+00])"
                        ]
                    },
                    "execution_count": 95,
                    "metadata": {},
                    "output_type": "execute_result"
                }
            ],
            "source": []
        },
        {
            "cell_type": "code",
            "execution_count": 115,
            "metadata": {},
            "outputs": [
                {
                    "data": {
                        "text/plain": [
                            "[(411, 411), (10, 12)]"
                        ]
                    },
                    "execution_count": 115,
                    "metadata": {},
                    "output_type": "execute_result"
                }
            ],
            "source": [
                "list(map(tuple, np.where(np.isinf(a))))"
            ]
        },
        {
            "cell_type": "code",
            "execution_count": 125,
            "metadata": {},
            "outputs": [],
            "source": [
                "inds = np.where(np.isnan(a))"
            ]
        },
        {
            "cell_type": "code",
            "execution_count": 126,
            "metadata": {},
            "outputs": [
                {
                    "data": {
                        "text/plain": [
                            "2"
                        ]
                    },
                    "execution_count": 126,
                    "metadata": {},
                    "output_type": "execute_result"
                }
            ],
            "source": [
                "len(inds)"
            ]
        },
        {
            "cell_type": "code",
            "execution_count": 127,
            "metadata": {},
            "outputs": [
                {
                    "data": {
                        "text/plain": [
                            "(array([], dtype=int64), array([], dtype=int64))"
                        ]
                    },
                    "execution_count": 127,
                    "metadata": {},
                    "output_type": "execute_result"
                }
            ],
            "source": [
                "inds"
            ]
        },
        {
            "cell_type": "code",
            "execution_count": 124,
            "metadata": {},
            "outputs": [
                {
                    "data": {
                        "text/plain": [
                            "array([ 1.52632040e+01, -4.75760219e+00,  1.52632040e+01,  8.21195993e-03,\n",
                            "        3.44812659e-02,  1.49240600e+03,  1.40571800e+03,  1.49146940e+03,\n",
                            "        5.26000000e+02,  0.00000000e+00,  2.36899494e-01, -3.94137066e-01,\n",
                            "        4.19693163e-01,  3.94137066e-01,  7.11340206e-01,  1.32989691e+00,\n",
                            "        1.96907216e+00,  1.21804146e+00,  3.22106346e+03,  6.99687404e+01,\n",
                            "        5.39176246e+01,  5.88462508e+01,  4.65305589e+01,  3.19874047e+01,\n",
                            "        3.85117483e+01,  2.39966599e+01,  3.02149161e+01,  1.62522708e+01,\n",
                            "        2.25730420e+01,  1.09909453e+01,  1.62068751e+01, -7.24987013e+00,\n",
                            "        1.76678804e+23,  7.71070942e+01,  3.93697293e+01,  2.55281879e+01,\n",
                            "        5.77907562e+02,  5.29539813e+01,  1.81255225e+01,  0.00000000e+00,\n",
                            "        2.36287189e+01,  0.00000000e+00,  2.45104752e+02,  2.89650907e+01,\n",
                            "        0.00000000e+00,  0.00000000e+00,  0.00000000e+00,  7.61850996e+01,\n",
                            "        6.96896090e+01,  3.04719575e+01,  3.65858827e+01,  8.17292306e+01,\n",
                            "        1.21463901e+02,  0.00000000e+00,  5.72340380e+01,  1.07260722e+01,\n",
                            "        1.18832970e+02,  9.01049096e+01,  1.01619493e+02,  0.00000000e+00,\n",
                            "        0.00000000e+00,  4.82679763e+01,  5.68738627e+00,  0.00000000e+00,\n",
                            "        2.15877960e+01,  2.79962127e+02,  7.41447643e+01,  0.00000000e+00,\n",
                            "        6.21390214e+01,  8.99215437e+01,  0.00000000e+00,  0.00000000e+00,\n",
                            "        0.00000000e+00,  4.40720000e+02,  1.87220591e+02,  6.35769442e+01,\n",
                            "        9.58907437e+00,  8.30022885e+01,  2.40924810e+01,  3.27146989e+01,\n",
                            "        2.36472939e+01,  4.14463457e+01,  5.45973036e+01,  4.75267136e+01,\n",
                            "        1.42968795e+01,  1.61956137e+01, -4.75760219e+00,  1.62737255e+02,\n",
                            "        6.37816229e+01,  8.76729749e+00, -1.06415987e+01,  1.47066767e+01,\n",
                            "       -8.09807409e-02, -3.57401982e-01,  1.97578485e+00,  5.23809524e-01,\n",
                            "        9.70000000e+01,  1.40000000e+01,  3.10000000e+01,  0.00000000e+00,\n",
                            "        4.00000000e+00,  4.00000000e+00,  3.00000000e+00,  0.00000000e+00,\n",
                            "        3.00000000e+00,  2.50000000e+01,  1.30000000e+01,  3.40000000e+01,\n",
                            "        2.20000000e+01,  0.00000000e+00,  3.00000000e+00,  3.00000000e+00,\n",
                            "        7.00000000e+00, -3.37640000e+00,  3.56804200e+02,  1.00000000e+00,\n",
                            "        3.00000000e+00,  3.00000000e+00,  0.00000000e+00,  0.00000000e+00,\n",
                            "        0.00000000e+00,  0.00000000e+00,  0.00000000e+00,  1.00000000e+00,\n",
                            "        1.00000000e+00,  1.10000000e+01,  1.00000000e+01,  0.00000000e+00,\n",
                            "        0.00000000e+00,  1.00000000e+00,  4.00000000e+00,  8.00000000e+00,\n",
                            "        1.00000000e+00,  0.00000000e+00,  0.00000000e+00,  0.00000000e+00,\n",
                            "        0.00000000e+00,  0.00000000e+00,  0.00000000e+00,  0.00000000e+00,\n",
                            "        0.00000000e+00,  0.00000000e+00,  7.00000000e+00,  0.00000000e+00,\n",
                            "        0.00000000e+00,  0.00000000e+00,  0.00000000e+00,  0.00000000e+00,\n",
                            "        0.00000000e+00,  3.00000000e+00,  0.00000000e+00,  5.00000000e+00,\n",
                            "        0.00000000e+00,  0.00000000e+00,  0.00000000e+00,  0.00000000e+00,\n",
                            "        0.00000000e+00,  0.00000000e+00,  0.00000000e+00,  0.00000000e+00,\n",
                            "        0.00000000e+00,  0.00000000e+00,  0.00000000e+00,  0.00000000e+00,\n",
                            "        0.00000000e+00,  0.00000000e+00,  0.00000000e+00,  0.00000000e+00,\n",
                            "        0.00000000e+00,  0.00000000e+00,  0.00000000e+00,  0.00000000e+00,\n",
                            "        0.00000000e+00,  0.00000000e+00,  0.00000000e+00,  0.00000000e+00,\n",
                            "        0.00000000e+00,  0.00000000e+00,  0.00000000e+00,  1.00000000e+00,\n",
                            "        0.00000000e+00,  0.00000000e+00,  0.00000000e+00,  0.00000000e+00,\n",
                            "        0.00000000e+00,  0.00000000e+00,  0.00000000e+00,  0.00000000e+00,\n",
                            "        0.00000000e+00,  0.00000000e+00,  0.00000000e+00,  0.00000000e+00,\n",
                            "        0.00000000e+00,  0.00000000e+00,  0.00000000e+00,  0.00000000e+00,\n",
                            "        0.00000000e+00,  0.00000000e+00,  1.00000000e+00,  0.00000000e+00])"
                        ]
                    },
                    "execution_count": 124,
                    "metadata": {},
                    "output_type": "execute_result"
                }
            ],
            "source": [
                "a[411]"
            ]
        },
        {
            "cell_type": "code",
            "execution_count": null,
            "metadata": {},
            "outputs": [],
            "source": []
        }
    ],
    "metadata": {
        "kernelspec": {
            "display_name": "Python [conda env:seqcomhol]",
            "language": "python",
            "name": "conda-env-seqcomhol-py"
        },
        "language_info": {
            "codemirror_mode": {
                "name": "ipython",
                "version": 3
            },
            "file_extension": ".py",
            "mimetype": "text/x-python",
            "name": "python",
            "nbconvert_exporter": "python",
            "pygments_lexer": "ipython3",
            "version": "3.6.5"
        }
    },
    "nbformat": 4,
    "nbformat_minor": 2
}