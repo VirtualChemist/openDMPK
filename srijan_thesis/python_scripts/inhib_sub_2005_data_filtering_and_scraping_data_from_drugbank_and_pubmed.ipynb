{
    "cells": [
        {
            "cell_type": "code",
            "execution_count": null,
            "metadata": {},
            "outputs": [],
            "source": [
                "#######################################################################################\n",
                "# Author: Srijan Verma                                                              #\n",
                "# School of Pharmacy                                                                #\n",
                "# Sirimulla Research Group [http://www.sirimullaresearchgroup.com/]                 #\n",
                "# The University of Texas at El Paso, TX, USA                                       #\n",
                "# Last modified: 19/12/2019                                                         #\n",
                "# Copyright (c) 2019 Srijan Verma and Sirimulla Research Group, under MIT license   #\n",
                "#######################################################################################"
            ]
        },
        {
            "cell_type": "code",
            "execution_count": 1,
            "metadata": {},
            "outputs": [],
            "source": [
                "import pandas as pd\n",
                "from tqdm import tqdm_notebook\n",
                "from glob import glob\n",
                "from bs4 import BeautifulSoup\n",
                "import requests\n",
                "from tqdm import tqdm_notebook\n",
                "import pandas as pd\n",
                "from glob import glob\n",
                "import time\n",
                "import os"
            ]
        },
        {
            "cell_type": "code",
            "execution_count": 17,
            "metadata": {},
            "outputs": [
                {
                    "data": {
                        "text/html": [
                            "<div>\n",
                            "<style scoped>\n",
                            "    .dataframe tbody tr th:only-of-type {\n",
                            "        vertical-align: middle;\n",
                            "    }\n",
                            "\n",
                            "    .dataframe tbody tr th {\n",
                            "        vertical-align: top;\n",
                            "    }\n",
                            "\n",
                            "    .dataframe thead th {\n",
                            "        text-align: right;\n",
                            "    }\n",
                            "</style>\n",
                            "<table border=\"1\" class=\"dataframe\">\n",
                            "  <thead>\n",
                            "    <tr style=\"text-align: right;\">\n",
                            "      <th></th>\n",
                            "      <th>Compound</th>\n",
                            "      <th>Class</th>\n",
                            "      <th>Set</th>\n",
                            "    </tr>\n",
                            "  </thead>\n",
                            "  <tbody>\n",
                            "    <tr>\n",
                            "      <th>0</th>\n",
                            "      <td>Acetazolamide</td>\n",
                            "      <td>P+</td>\n",
                            "      <td>Training</td>\n",
                            "    </tr>\n",
                            "    <tr>\n",
                            "      <th>1</th>\n",
                            "      <td>Almotriptan</td>\n",
                            "      <td>P+</td>\n",
                            "      <td>Training</td>\n",
                            "    </tr>\n",
                            "  </tbody>\n",
                            "</table>\n",
                            "</div>"
                        ],
                        "text/plain": [
                            "        Compound Class       Set\n",
                            "0  Acetazolamide    P+  Training\n",
                            "1    Almotriptan    P+  Training"
                        ]
                    },
                    "execution_count": 17,
                    "metadata": {},
                    "output_type": "execute_result"
                }
            ],
            "source": [
                "df = pd.read_csv('../dataset/sub_inhib_2005_paper_data/3a4_inhib_data.csv')\n",
                "df.head(2)"
            ]
        },
        {
            "cell_type": "code",
            "execution_count": 18,
            "metadata": {},
            "outputs": [
                {
                    "data": {
                        "application/vnd.jupyter.widget-view+json": {
                            "model_id": "50ac5cf4bdc749ccb3b558bd562e3470",
                            "version_major": 2,
                            "version_minor": 0
                        },
                        "text/plain": [
                            "HBox(children=(IntProgress(value=0, max=6), HTML(value='')))"
                        ]
                    },
                    "metadata": {},
                    "output_type": "display_data"
                },
                {
                    "name": "stdout",
                    "output_type": "stream",
                    "text": [
                        "\n"
                    ]
                }
            ],
            "source": [
                "interesting_files = glob(\"../dataset/sub_inhib_2005_paper_data/*.csv\")  \n",
                "df = pd.concat((pd.read_csv(f, header = 0) for f in tqdm_notebook(interesting_files))) \n",
                "df_deduplicated = df.drop_duplicates() \n",
                "df_deduplicated.drop(['Class','Set'], axis=1, inplace=True)\n",
                "df_deduplicated.reset_index(drop=True,inplace=True)"
            ]
        },
        {
            "cell_type": "code",
            "execution_count": 19,
            "metadata": {},
            "outputs": [
                {
                    "data": {
                        "text/plain": [
                            "1495"
                        ]
                    },
                    "execution_count": 19,
                    "metadata": {},
                    "output_type": "execute_result"
                }
            ],
            "source": [
                "len(df_deduplicated)"
            ]
        },
        {
            "cell_type": "code",
            "execution_count": 20,
            "metadata": {},
            "outputs": [
                {
                    "name": "stderr",
                    "output_type": "stream",
                    "text": [
                        "/Users/pankajverma/anaconda3/envs/seqcomhol/lib/python3.6/site-packages/ipykernel/__main__.py:1: SettingWithCopyWarning: \n",
                        "A value is trying to be set on a copy of a slice from a DataFrame\n",
                        "\n",
                        "See the caveats in the documentation: http://pandas.pydata.org/pandas-docs/stable/user_guide/indexing.html#returning-a-view-versus-a-copy\n",
                        "  if __name__ == '__main__':\n"
                    ]
                },
                {
                    "data": {
                        "text/plain": [
                            "702"
                        ]
                    },
                    "execution_count": 20,
                    "metadata": {},
                    "output_type": "execute_result"
                }
            ],
            "source": [
                "df_deduplicated.drop_duplicates(inplace=True) \n",
                "# df_deduplicated.drop_duplicates(subset=['Compound'],inplace=True)\n",
                "df_deduplicated.reset_index(drop=True,inplace=True)\n",
                "len(df_deduplicated)"
            ]
        },
        {
            "cell_type": "code",
            "execution_count": 22,
            "metadata": {},
            "outputs": [
                {
                    "data": {
                        "application/vnd.jupyter.widget-view+json": {
                            "model_id": "9ffe9eff2e4c4b288594ce391f1ad243",
                            "version_major": 2,
                            "version_minor": 0
                        },
                        "text/plain": [
                            "HBox(children=(IntProgress(value=0, max=702), HTML(value='')))"
                        ]
                    },
                    "metadata": {},
                    "output_type": "display_data"
                },
                {
                    "name": "stdout",
                    "output_type": "stream",
                    "text": [
                        "\n"
                    ]
                }
            ],
            "source": [
                "df_transformer = pd.read_csv('../dataset/transformer/from_drugbank_and_chembl_and_transformer_cleaned_v2.csv',index_col=0)\n",
                "df_transformer_index = df_transformer.set_index('drug_name')\n",
                "\n",
                "drug_not_found = []\n",
                "smi = []\n",
                "c = 0\n",
                "\n",
                "for i in tqdm_notebook(range(len(df_deduplicated))):\n",
                "    try:\n",
                "        smi.append(df_transformer_index.loc[df_deduplicated['Compound'][i]]['smiles'])\n",
                "    except:\n",
                "        smi.append('-')\n",
                "        c = c + 1\n",
                "        drug_not_found.append(df_deduplicated['Compound'][i])"
            ]
        },
        {
            "cell_type": "code",
            "execution_count": 35,
            "metadata": {},
            "outputs": [
                {
                    "name": "stderr",
                    "output_type": "stream",
                    "text": [
                        "/Users/pankajverma/anaconda3/envs/seqcomhol/lib/python3.6/site-packages/ipykernel/__main__.py:1: SettingWithCopyWarning: \n",
                        "A value is trying to be set on a copy of a slice from a DataFrame.\n",
                        "Try using .loc[row_indexer,col_indexer] = value instead\n",
                        "\n",
                        "See the caveats in the documentation: http://pandas.pydata.org/pandas-docs/stable/user_guide/indexing.html#returning-a-view-versus-a-copy\n",
                        "  if __name__ == '__main__':\n"
                    ]
                },
                {
                    "data": {
                        "text/html": [
                            "<div>\n",
                            "<style scoped>\n",
                            "    .dataframe tbody tr th:only-of-type {\n",
                            "        vertical-align: middle;\n",
                            "    }\n",
                            "\n",
                            "    .dataframe tbody tr th {\n",
                            "        vertical-align: top;\n",
                            "    }\n",
                            "\n",
                            "    .dataframe thead th {\n",
                            "        text-align: right;\n",
                            "    }\n",
                            "</style>\n",
                            "<table border=\"1\" class=\"dataframe\">\n",
                            "  <thead>\n",
                            "    <tr style=\"text-align: right;\">\n",
                            "      <th></th>\n",
                            "      <th>Compound</th>\n",
                            "      <th>Smiles</th>\n",
                            "    </tr>\n",
                            "  </thead>\n",
                            "  <tbody>\n",
                            "    <tr>\n",
                            "      <th>0</th>\n",
                            "      <td>Albendazole</td>\n",
                            "      <td>CCCSC1=CC2=C(NC(NC(=O)OC)=N2)C=C1</td>\n",
                            "    </tr>\n",
                            "    <tr>\n",
                            "      <th>1</th>\n",
                            "      <td>Almotriptan</td>\n",
                            "      <td>CN(C)CCC1=CNC2=C1C=C(CS(=O)(=O)N3CCCC3)C=C2</td>\n",
                            "    </tr>\n",
                            "  </tbody>\n",
                            "</table>\n",
                            "</div>"
                        ],
                        "text/plain": [
                            "      Compound                                       Smiles\n",
                            "0  Albendazole            CCCSC1=CC2=C(NC(NC(=O)OC)=N2)C=C1\n",
                            "1  Almotriptan  CN(C)CCC1=CNC2=C1C=C(CS(=O)(=O)N3CCCC3)C=C2"
                        ]
                    },
                    "execution_count": 35,
                    "metadata": {},
                    "output_type": "execute_result"
                }
            ],
            "source": [
                "df_deduplicated['Smiles'] = smi\n",
                "df_deduplicated.head(2)"
            ]
        },
        {
            "cell_type": "code",
            "execution_count": 23,
            "metadata": {},
            "outputs": [
                {
                    "data": {
                        "text/plain": [
                            "176"
                        ]
                    },
                    "execution_count": 23,
                    "metadata": {},
                    "output_type": "execute_result"
                }
            ],
            "source": [
                "c"
            ]
        },
        {
            "cell_type": "code",
            "execution_count": 67,
            "metadata": {},
            "outputs": [],
            "source": [
                "# drug_not_found"
            ]
        },
        {
            "cell_type": "code",
            "execution_count": 28,
            "metadata": {},
            "outputs": [
                {
                    "data": {
                        "application/vnd.jupyter.widget-view+json": {
                            "model_id": "0b585f37006e41608aeccea154d2ac22",
                            "version_major": 2,
                            "version_minor": 0
                        },
                        "text/plain": [
                            "HBox(children=(IntProgress(value=0, max=176), HTML(value='')))"
                        ]
                    },
                    "metadata": {},
                    "output_type": "display_data"
                },
                {
                    "name": "stdout",
                    "output_type": "stream",
                    "text": [
                        "\n"
                    ]
                }
            ],
            "source": [
                "get_missing_smi_from_drugBank = []\n",
                "error_dr = []\n",
                "for i in tqdm_notebook(range(len(drug_not_found))):\n",
                "    \n",
                "#     if missing_smi_drug_name[i] == 'Selenium Compounds' or missing_smi_drug_name[i] == 'Simvastatin And Ezetimibe' or missing_smi_drug_name[i] == 'Thiamine (vit B1)' or missing_smi_drug_name[i] == 'Sulfamethoxazole And Trimethoprim':\n",
                "#         get_missing_smi_from_drugBank.append('check_again')\n",
                "#         continue\n",
                "        \n",
                "#     else:\n",
                "    try:\n",
                "        url = 'https://www.drugbank.ca/unearth/q?utf8=%E2%9C%93&query='+ drug_not_found[i] + '&searcher=drugs'\n",
                "        result = requests.get(url)\n",
                "        c = result.content\n",
                "        soup = BeautifulSoup(c)\n",
                "        soup_string = str(soup)\n",
                "        get_missing_smi_from_drugBank.append(soup_string[soup_string.find('>SMILES</dt>')+61:soup_string.find('</div>', soup_string.find('>SMILES</dt>')+40)])\n",
                "\n",
                "    except:\n",
                "        error_dr.append(drug_not_found[i])\n",
                "        get_missing_smi_from_drugBank.append('-')\n",
                "        pass\n",
                "# str5 = soup_string[soup_string.find('>Protein binding<')+55:soup_string.find('>Metabolism<')-39]\n"
            ]
        },
        {
            "cell_type": "code",
            "execution_count": 31,
            "metadata": {},
            "outputs": [],
            "source": [
                "for i in range(len(get_missing_smi_from_drugBank)):\n",
                "    if 'href' in get_missing_smi_from_drugBank[i] or '<link' in get_missing_smi_from_drugBank[i]:\n",
                "        get_missing_smi_from_drugBank[i] = '-'"
            ]
        },
        {
            "cell_type": "code",
            "execution_count": 64,
            "metadata": {},
            "outputs": [],
            "source": [
                "# get_missing_smi_from_drugBank"
            ]
        },
        {
            "cell_type": "code",
            "execution_count": null,
            "metadata": {},
            "outputs": [],
            "source": [
                "# //*[@id=\"Canonical-SMILES\"]/div[1]/div/h4/span[2]\n",
                "# //*[@id=\"Canonical-SMILES\"]/div[2]/div[1]/p"
            ]
        },
        {
            "cell_type": "code",
            "execution_count": 60,
            "metadata": {},
            "outputs": [],
            "source": [
                "from selenium import webdriver\n",
                "driverpath = '../chrome/chromedriver'\n",
                "driver = webdriver.Chrome(driverpath)"
            ]
        },
        {
            "cell_type": "code",
            "execution_count": 53,
            "metadata": {},
            "outputs": [],
            "source": [
                "# driver.get('https://pubchem.ncbi.nlm.nih.gov/compound/' + drug_not_found[0])"
            ]
        },
        {
            "cell_type": "code",
            "execution_count": 43,
            "metadata": {},
            "outputs": [],
            "source": [
                "# driver.get('https://pubchem.ncbi.nlm.nih.gov/compound/Avitriptan')"
            ]
        },
        {
            "cell_type": "code",
            "execution_count": 55,
            "metadata": {},
            "outputs": [],
            "source": [
                "# driver.find_element_by_xpath('//*[@id=\"Canonical-SMILES\"]/div[2]/div[1]/p').text"
            ]
        },
        {
            "cell_type": "code",
            "execution_count": 61,
            "metadata": {},
            "outputs": [
                {
                    "data": {
                        "application/vnd.jupyter.widget-view+json": {
                            "model_id": "b1415b4275284bfd92c0697878b11b69",
                            "version_major": 2,
                            "version_minor": 0
                        },
                        "text/plain": [
                            "HBox(children=(IntProgress(value=0, max=176), HTML(value='')))"
                        ]
                    },
                    "metadata": {},
                    "output_type": "display_data"
                },
                {
                    "name": "stdout",
                    "output_type": "stream",
                    "text": [
                        "\n"
                    ]
                }
            ],
            "source": [
                "smi_from_pubmed = []\n",
                "error_drug = []\n",
                "for i in tqdm_notebook(range(len(drug_not_found))):\n",
                "\n",
                "    try:\n",
                "        driver.get('https://pubchem.ncbi.nlm.nih.gov/compound/' + drug_not_found[i])\n",
                "        time.sleep(1.5)\n",
                "        smi_from_pubmed.append(driver.find_element_by_xpath('//*[@id=\"Canonical-SMILES\"]/div[2]/div[1]/p').text)\n",
                "        time.sleep(0.5)\n",
                "    except:\n",
                "        smi_from_pubmed.append('-')\n",
                "        error_drug.append(drug_not_found[i])\n",
                "        pass\n"
            ]
        },
        {
            "cell_type": "code",
            "execution_count": 65,
            "metadata": {},
            "outputs": [
                {
                    "data": {
                        "text/plain": [
                            "[]"
                        ]
                    },
                    "execution_count": 65,
                    "metadata": {},
                    "output_type": "execute_result"
                }
            ],
            "source": [
                "error_drug"
            ]
        },
        {
            "cell_type": "code",
            "execution_count": 68,
            "metadata": {},
            "outputs": [],
            "source": [
                "df_not_f_is_found = pd.DataFrame(drug_not_found,columns=['drug_name'])\n",
                "df_not_f_is_found['smi_from_drugbank'] = get_missing_smi_from_drugBank\n",
                "df_not_f_is_found['smi_from_pubmed'] = smi_from_pubmed\n",
                "# df_not_f_is_found"
            ]
        },
        {
            "cell_type": "code",
            "execution_count": 73,
            "metadata": {},
            "outputs": [
                {
                    "data": {
                        "text/html": [
                            "<div>\n",
                            "<style scoped>\n",
                            "    .dataframe tbody tr th:only-of-type {\n",
                            "        vertical-align: middle;\n",
                            "    }\n",
                            "\n",
                            "    .dataframe tbody tr th {\n",
                            "        vertical-align: top;\n",
                            "    }\n",
                            "\n",
                            "    .dataframe thead th {\n",
                            "        text-align: right;\n",
                            "    }\n",
                            "</style>\n",
                            "<table border=\"1\" class=\"dataframe\">\n",
                            "  <thead>\n",
                            "    <tr style=\"text-align: right;\">\n",
                            "      <th></th>\n",
                            "      <th>Compound</th>\n",
                            "      <th>Smiles</th>\n",
                            "    </tr>\n",
                            "  </thead>\n",
                            "  <tbody>\n",
                            "    <tr>\n",
                            "      <th>0</th>\n",
                            "      <td>Albendazole</td>\n",
                            "      <td>CCCSC1=CC2=C(NC(NC(=O)OC)=N2)C=C1</td>\n",
                            "    </tr>\n",
                            "    <tr>\n",
                            "      <th>1</th>\n",
                            "      <td>Almotriptan</td>\n",
                            "      <td>CN(C)CCC1=CNC2=C1C=C(CS(=O)(=O)N3CCCC3)C=C2</td>\n",
                            "    </tr>\n",
                            "    <tr>\n",
                            "      <th>2</th>\n",
                            "      <td>Alprenolol</td>\n",
                            "      <td>CC(C)NC[C@H](O)COC1=CC=CC=C1CC=C</td>\n",
                            "    </tr>\n",
                            "    <tr>\n",
                            "      <th>3</th>\n",
                            "      <td>Amfetamine</td>\n",
                            "      <td>C[C@@H](N)CC1=CC=CC=C1</td>\n",
                            "    </tr>\n",
                            "    <tr>\n",
                            "      <th>4</th>\n",
                            "      <td>Amiflamine</td>\n",
                            "      <td>-</td>\n",
                            "    </tr>\n",
                            "    <tr>\n",
                            "      <th>5</th>\n",
                            "      <td>Aminopyrine</td>\n",
                            "      <td>-</td>\n",
                            "    </tr>\n",
                            "    <tr>\n",
                            "      <th>6</th>\n",
                            "      <td>Amiodarone</td>\n",
                            "      <td>CCCCC1=C(C(=O)C2=CC(I)=C(OCCN(CC)CC)C(I)=C2)C3...</td>\n",
                            "    </tr>\n",
                            "    <tr>\n",
                            "      <th>7</th>\n",
                            "      <td>Amodiaquine</td>\n",
                            "      <td>CCN(CC)CC1=C(O)C=CC(NC2=C3C=CC(Cl)=CC3=NC=C2)=C1</td>\n",
                            "    </tr>\n",
                            "    <tr>\n",
                            "      <th>8</th>\n",
                            "      <td>Amoxapine</td>\n",
                            "      <td>-</td>\n",
                            "    </tr>\n",
                            "    <tr>\n",
                            "      <th>9</th>\n",
                            "      <td>Amprenavir</td>\n",
                            "      <td>CC(C)CN(C[C@@H](O)[C@H](CC1=CC=CC=C1)NC(=O)O[C...</td>\n",
                            "    </tr>\n",
                            "    <tr>\n",
                            "      <th>10</th>\n",
                            "      <td>Aprindine</td>\n",
                            "      <td>CCN(CC)CCCN([C@H]1CC2=CC=CC=C2C1)C3=CC=CC=C3</td>\n",
                            "    </tr>\n",
                            "    <tr>\n",
                            "      <th>11</th>\n",
                            "      <td>Aripiprazole</td>\n",
                            "      <td>ClC1=C(Cl)C(=CC=C1)N2CCN(CCCCOC3=CC4=C(CCC(=O)...</td>\n",
                            "    </tr>\n",
                            "    <tr>\n",
                            "      <th>12</th>\n",
                            "      <td>Artemisinin</td>\n",
                            "      <td>C[C@@H]1CC[C@H]2[C@@H](C)C(=O)O[C@@H]3O[C@@]4(...</td>\n",
                            "    </tr>\n",
                            "    <tr>\n",
                            "      <th>13</th>\n",
                            "      <td>Astemizole</td>\n",
                            "      <td>COC1=CC=C(CCN2CC[C@@H](CC2)NC3=NC4=CC=CC=C4N3C...</td>\n",
                            "    </tr>\n",
                            "    <tr>\n",
                            "      <th>14</th>\n",
                            "      <td>Atomoxetine</td>\n",
                            "      <td>CNCC[C@@H](OC1=CC=CC=C1C)C2=CC=CC=C2</td>\n",
                            "    </tr>\n",
                            "    <tr>\n",
                            "      <th>15</th>\n",
                            "      <td>Avitriptan</td>\n",
                            "      <td>-</td>\n",
                            "    </tr>\n",
                            "    <tr>\n",
                            "      <th>16</th>\n",
                            "      <td>Azelastine</td>\n",
                            "      <td>CN1CCC[C@@H](CC1)N2N=C(CC3=CC=C(Cl)C=C3)C4=CC=...</td>\n",
                            "    </tr>\n",
                            "    <tr>\n",
                            "      <th>17</th>\n",
                            "      <td>Benzydamine</td>\n",
                            "      <td>CN(C)CCCOC1=NN(CC2=CC=CC=C2)C3=C1C=CC=C3</td>\n",
                            "    </tr>\n",
                            "    <tr>\n",
                            "      <th>18</th>\n",
                            "      <td>Betaxolol</td>\n",
                            "      <td>CC(C)NC[C@H](O)COC1=CC=C(CCOC[C@H]2CC2)C=C1</td>\n",
                            "    </tr>\n",
                            "    <tr>\n",
                            "      <th>19</th>\n",
                            "      <td>Bortezomib</td>\n",
                            "      <td>CC(C)C[C@H](NC(=O)[C@@H](CC1=CC=CC=C1)NC(=O)C2...</td>\n",
                            "    </tr>\n",
                            "    <tr>\n",
                            "      <th>20</th>\n",
                            "      <td>Brofaromine</td>\n",
                            "      <td>-</td>\n",
                            "    </tr>\n",
                            "    <tr>\n",
                            "      <th>21</th>\n",
                            "      <td>Buflomedil</td>\n",
                            "      <td>COC1=CC(OC)=C(C(=O)CCCN2CCCC2)C(OC)=C1</td>\n",
                            "    </tr>\n",
                            "    <tr>\n",
                            "      <th>22</th>\n",
                            "      <td>Bupivacaine</td>\n",
                            "      <td>CCCCN1CCCC[C@H]1C(=O)NC2=C(C)C=CC=C2C</td>\n",
                            "    </tr>\n",
                            "    <tr>\n",
                            "      <th>23</th>\n",
                            "      <td>Bupranolol</td>\n",
                            "      <td>CC1=CC(OC[C@@H](O)CNC(C)(C)C)=C(Cl)C=C1</td>\n",
                            "    </tr>\n",
                            "    <tr>\n",
                            "      <th>24</th>\n",
                            "      <td>Buprenorphine</td>\n",
                            "      <td>CO[C@@]12CC[C@]3(C[C@H]1[C@](C)(O)C(C)(C)C)[C@...</td>\n",
                            "    </tr>\n",
                            "    <tr>\n",
                            "      <th>25</th>\n",
                            "      <td>Buspirone</td>\n",
                            "      <td>O=C1C[C@]2(CCCC2)CC(=O)N1CCCCN3CCN(CC3)C4=NC=C...</td>\n",
                            "    </tr>\n",
                            "    <tr>\n",
                            "      <th>26</th>\n",
                            "      <td>Caffeine</td>\n",
                            "      <td>CN1C=NC2=C1C(=O)N(C)C(=O)N2C</td>\n",
                            "    </tr>\n",
                            "    <tr>\n",
                            "      <th>27</th>\n",
                            "      <td>Captopril</td>\n",
                            "      <td>C[C@H](CS)C(=O)N1CCC[C@H]1C(O)=O</td>\n",
                            "    </tr>\n",
                            "    <tr>\n",
                            "      <th>28</th>\n",
                            "      <td>Carbaril</td>\n",
                            "      <td>-</td>\n",
                            "    </tr>\n",
                            "    <tr>\n",
                            "      <th>29</th>\n",
                            "      <td>Carteolol</td>\n",
                            "      <td>CC(C)(C)NC[C@H](O)COC1=CC=CC2=C1CCC(=O)N2</td>\n",
                            "    </tr>\n",
                            "    <tr>\n",
                            "      <th>...</th>\n",
                            "      <td>...</td>\n",
                            "      <td>...</td>\n",
                            "    </tr>\n",
                            "    <tr>\n",
                            "      <th>672</th>\n",
                            "      <td>Midazolam</td>\n",
                            "      <td>CC1=NC=C2CN=C(C3=C(F)C=CC=C3)C4=C(C=CC(Cl)=C4)N12</td>\n",
                            "    </tr>\n",
                            "    <tr>\n",
                            "      <th>673</th>\n",
                            "      <td>Modafinil</td>\n",
                            "      <td>NC(=O)CS(=O)C(C1=CC=CC=C1)C2=CC=CC=C2</td>\n",
                            "    </tr>\n",
                            "    <tr>\n",
                            "      <th>674</th>\n",
                            "      <td>Nilutamide</td>\n",
                            "      <td>CC1(C)NC(=O)N(C2=CC(=C(C=C2)[N+]([O-])=O)C(F)(...</td>\n",
                            "    </tr>\n",
                            "    <tr>\n",
                            "      <th>675</th>\n",
                            "      <td>Nilvadipine</td>\n",
                            "      <td>COC(=O)C1=C(NC(C)=C([C@H]1C2=CC(=CC=C2)[N+]([O...</td>\n",
                            "    </tr>\n",
                            "    <tr>\n",
                            "      <th>676</th>\n",
                            "      <td>Nordazepam</td>\n",
                            "      <td>ClC1=CC2=C(NC(=O)CN=C2C3=CC=CC=C3)C=C1</td>\n",
                            "    </tr>\n",
                            "    <tr>\n",
                            "      <th>677</th>\n",
                            "      <td>Onapristone</td>\n",
                            "      <td>-</td>\n",
                            "    </tr>\n",
                            "    <tr>\n",
                            "      <th>678</th>\n",
                            "      <td>Oxomemazine</td>\n",
                            "      <td>C[C@H](CN(C)C)CN1C2=C(C=CC=C2)S(=O)(=O)C3=C1C=...</td>\n",
                            "    </tr>\n",
                            "    <tr>\n",
                            "      <th>679</th>\n",
                            "      <td>Paraxanthine</td>\n",
                            "      <td>-</td>\n",
                            "    </tr>\n",
                            "    <tr>\n",
                            "      <th>680</th>\n",
                            "      <td>Pentobarbital</td>\n",
                            "      <td>CCC[C@@H](C)[C@@]1(CC)C(=O)NC(=O)NC1=O</td>\n",
                            "    </tr>\n",
                            "    <tr>\n",
                            "      <th>681</th>\n",
                            "      <td>Pentoxifylline</td>\n",
                            "      <td>CN1C=NC2=C1C(=O)N(CCCCC(C)=O)C(=O)N2C</td>\n",
                            "    </tr>\n",
                            "    <tr>\n",
                            "      <th>682</th>\n",
                            "      <td>Pilsicainide</td>\n",
                            "      <td>-</td>\n",
                            "    </tr>\n",
                            "    <tr>\n",
                            "      <th>683</th>\n",
                            "      <td>Pimobendan</td>\n",
                            "      <td>-</td>\n",
                            "    </tr>\n",
                            "    <tr>\n",
                            "      <th>684</th>\n",
                            "      <td>Pioglitazone</td>\n",
                            "      <td>CCC1=CC=C(CCOC2=CC=C(C[C@@H]3SC(=O)NC3=O)C=C2)...</td>\n",
                            "    </tr>\n",
                            "    <tr>\n",
                            "      <th>685</th>\n",
                            "      <td>Prednisone</td>\n",
                            "      <td>C[C@]12CC(=O)[C@H]3[C@@H](CCC4=CC(=O)C=C[C@]34...</td>\n",
                            "    </tr>\n",
                            "    <tr>\n",
                            "      <th>686</th>\n",
                            "      <td>Reboxetine</td>\n",
                            "      <td>CCOC1=CC=CC=C1O[C@H]([C@@H]2CNCCO2)C3=CC=CC=C3</td>\n",
                            "    </tr>\n",
                            "    <tr>\n",
                            "      <th>687</th>\n",
                            "      <td>Rogletimide</td>\n",
                            "      <td>-</td>\n",
                            "    </tr>\n",
                            "    <tr>\n",
                            "      <th>688</th>\n",
                            "      <td>Simvastatin</td>\n",
                            "      <td>CCC(C)(C)C(=O)O[C@H]1C[C@@H](C)C=C2C=C[C@H](C)...</td>\n",
                            "    </tr>\n",
                            "    <tr>\n",
                            "      <th>689</th>\n",
                            "      <td>Stiripentol</td>\n",
                            "      <td>-</td>\n",
                            "    </tr>\n",
                            "    <tr>\n",
                            "      <th>690</th>\n",
                            "      <td>Styrene</td>\n",
                            "      <td>-</td>\n",
                            "    </tr>\n",
                            "    <tr>\n",
                            "      <th>691</th>\n",
                            "      <td>Sulfadiazine</td>\n",
                            "      <td>NC1=CC=C(C=C1)S(=O)(=O)NC2=NC=CC=N2</td>\n",
                            "    </tr>\n",
                            "    <tr>\n",
                            "      <th>692</th>\n",
                            "      <td>Sulfadoxine</td>\n",
                            "      <td>-</td>\n",
                            "    </tr>\n",
                            "    <tr>\n",
                            "      <th>693</th>\n",
                            "      <td>Sulfamerazine</td>\n",
                            "      <td>-</td>\n",
                            "    </tr>\n",
                            "    <tr>\n",
                            "      <th>694</th>\n",
                            "      <td>Sulfamethizole</td>\n",
                            "      <td>CC1=NN=C(NS(=O)(=O)C2=CC=C(N)C=C2)S1</td>\n",
                            "    </tr>\n",
                            "    <tr>\n",
                            "      <th>695</th>\n",
                            "      <td>Sulfatroxazole</td>\n",
                            "      <td>-</td>\n",
                            "    </tr>\n",
                            "    <tr>\n",
                            "      <th>696</th>\n",
                            "      <td>Sulindac</td>\n",
                            "      <td>CC1=C(CC(O)=O)C2=C(C=CC(F)=C2)C1=C/C3=CC=C(C=C...</td>\n",
                            "    </tr>\n",
                            "    <tr>\n",
                            "      <th>697</th>\n",
                            "      <td>Suprofen</td>\n",
                            "      <td>C[C@H](C(O)=O)C1=CC=C(C=C1)C(=O)C2=CC=CS2</td>\n",
                            "    </tr>\n",
                            "    <tr>\n",
                            "      <th>698</th>\n",
                            "      <td>Tetracycline</td>\n",
                            "      <td>CN(C)[C@H]1[C@@H]2C[C@@H]3C(=C(O)[C@]2(O)C(=O)...</td>\n",
                            "    </tr>\n",
                            "    <tr>\n",
                            "      <th>699</th>\n",
                            "      <td>Triazolam</td>\n",
                            "      <td>CC1=NN=C2CN=C(C3=C(Cl)C=CC=C3)C4=C(C=CC(Cl)=C4...</td>\n",
                            "    </tr>\n",
                            "    <tr>\n",
                            "      <th>700</th>\n",
                            "      <td>Valsartan</td>\n",
                            "      <td>CCCCC(=O)N(CC1=CC=C(C=C1)C2=C(C=CC=C2)C3=NN=NN...</td>\n",
                            "    </tr>\n",
                            "    <tr>\n",
                            "      <th>701</th>\n",
                            "      <td>Vorozole</td>\n",
                            "      <td>CN1N=NC2=C1C=C(C=C2)[C@@H](N3C=NC=N3)C4=CC=C(C...</td>\n",
                            "    </tr>\n",
                            "  </tbody>\n",
                            "</table>\n",
                            "<p>702 rows \u00d7 2 columns</p>\n",
                            "</div>"
                        ],
                        "text/plain": [
                            "         Compound                                             Smiles\n",
                            "0     Albendazole                  CCCSC1=CC2=C(NC(NC(=O)OC)=N2)C=C1\n",
                            "1     Almotriptan        CN(C)CCC1=CNC2=C1C=C(CS(=O)(=O)N3CCCC3)C=C2\n",
                            "2      Alprenolol                   CC(C)NC[C@H](O)COC1=CC=CC=C1CC=C\n",
                            "3      Amfetamine                             C[C@@H](N)CC1=CC=CC=C1\n",
                            "4      Amiflamine                                                  -\n",
                            "..            ...                                                ...\n",
                            "697      Suprofen          C[C@H](C(O)=O)C1=CC=C(C=C1)C(=O)C2=CC=CS2\n",
                            "698  Tetracycline  CN(C)[C@H]1[C@@H]2C[C@@H]3C(=C(O)[C@]2(O)C(=O)...\n",
                            "699     Triazolam  CC1=NN=C2CN=C(C3=C(Cl)C=CC=C3)C4=C(C=CC(Cl)=C4...\n",
                            "700     Valsartan  CCCCC(=O)N(CC1=CC=C(C=C1)C2=C(C=CC=C2)C3=NN=NN...\n",
                            "701      Vorozole  CN1N=NC2=C1C=C(C=C2)[C@@H](N3C=NC=N3)C4=CC=C(C...\n",
                            "\n",
                            "[702 rows x 2 columns]"
                        ]
                    },
                    "execution_count": 73,
                    "metadata": {},
                    "output_type": "execute_result"
                }
            ],
            "source": [
                "df_deduplicated"
            ]
        },
        {
            "cell_type": "code",
            "execution_count": 82,
            "metadata": {},
            "outputs": [
                {
                    "data": {
                        "text/plain": [
                            "'CC1=C(C=CC(=C1)N(C)C)CC(C)N'"
                        ]
                    },
                    "execution_count": 82,
                    "metadata": {},
                    "output_type": "execute_result"
                }
            ],
            "source": [
                "df_not_f_is_found[df_not_f_is_found.drug_name == df_deduplicated['Compound'][4]]['smi_from_pubmed'].values[0]"
            ]
        },
        {
            "cell_type": "code",
            "execution_count": 80,
            "metadata": {},
            "outputs": [
                {
                    "data": {
                        "application/vnd.jupyter.widget-view+json": {
                            "model_id": "2df56694bcac4ca78952679b3a57b3e5",
                            "version_major": 2,
                            "version_minor": 0
                        },
                        "text/plain": [
                            "HBox(children=(IntProgress(value=0, max=702), HTML(value='')))"
                        ]
                    },
                    "metadata": {},
                    "output_type": "display_data"
                },
                {
                    "name": "stderr",
                    "output_type": "stream",
                    "text": [
                        "/Users/pankajverma/anaconda3/envs/seqcomhol/lib/python3.6/site-packages/IPython/core/interactiveshell.py:3296: SettingWithCopyWarning: \n",
                        "A value is trying to be set on a copy of a slice from a DataFrame\n",
                        "\n",
                        "See the caveats in the documentation: http://pandas.pydata.org/pandas-docs/stable/user_guide/indexing.html#returning-a-view-versus-a-copy\n",
                        "  exec(code_obj, self.user_global_ns, self.user_ns)\n"
                    ]
                },
                {
                    "name": "stdout",
                    "output_type": "stream",
                    "text": [
                        "\n"
                    ]
                }
            ],
            "source": [
                "for i in tqdm_notebook(range(len(df_deduplicated))):\n",
                "    if df_deduplicated['Smiles'][i] == '-':\n",
                "        df_deduplicated['Smiles'][i] = df_not_f_is_found[df_not_f_is_found.drug_name == df_deduplicated['Compound'][i]]['smi_from_pubmed'].values[0]"
            ]
        },
        {
            "cell_type": "code",
            "execution_count": 83,
            "metadata": {},
            "outputs": [],
            "source": [
                "# df_deduplicated"
            ]
        },
        {
            "cell_type": "code",
            "execution_count": 84,
            "metadata": {},
            "outputs": [],
            "source": [
                "df_deduplicated.to_csv('../dataset/sub_inhib_2005_paper_data/unique_smi_drug_names.csv')"
            ]
        },
        {
            "cell_type": "code",
            "execution_count": 2,
            "metadata": {},
            "outputs": [],
            "source": [
                "df_deduplicated = pd.read_csv('../dataset/sub_inhib_2005_paper_data/unique_smi_drug_names.csv',index_col = 0)"
            ]
        },
        {
            "cell_type": "code",
            "execution_count": 3,
            "metadata": {},
            "outputs": [
                {
                    "data": {
                        "text/html": [
                            "<div>\n",
                            "<style scoped>\n",
                            "    .dataframe tbody tr th:only-of-type {\n",
                            "        vertical-align: middle;\n",
                            "    }\n",
                            "\n",
                            "    .dataframe tbody tr th {\n",
                            "        vertical-align: top;\n",
                            "    }\n",
                            "\n",
                            "    .dataframe thead th {\n",
                            "        text-align: right;\n",
                            "    }\n",
                            "</style>\n",
                            "<table border=\"1\" class=\"dataframe\">\n",
                            "  <thead>\n",
                            "    <tr style=\"text-align: right;\">\n",
                            "      <th></th>\n",
                            "      <th>Compound</th>\n",
                            "      <th>Smiles</th>\n",
                            "    </tr>\n",
                            "  </thead>\n",
                            "  <tbody>\n",
                            "    <tr>\n",
                            "      <th>0</th>\n",
                            "      <td>Albendazole</td>\n",
                            "      <td>CCCSC1=CC2=C(NC(NC(=O)OC)=N2)C=C1</td>\n",
                            "    </tr>\n",
                            "    <tr>\n",
                            "      <th>1</th>\n",
                            "      <td>Almotriptan</td>\n",
                            "      <td>CN(C)CCC1=CNC2=C1C=C(CS(=O)(=O)N3CCCC3)C=C2</td>\n",
                            "    </tr>\n",
                            "  </tbody>\n",
                            "</table>\n",
                            "</div>"
                        ],
                        "text/plain": [
                            "      Compound                                       Smiles\n",
                            "0  Albendazole            CCCSC1=CC2=C(NC(NC(=O)OC)=N2)C=C1\n",
                            "1  Almotriptan  CN(C)CCC1=CNC2=C1C=C(CS(=O)(=O)N3CCCC3)C=C2"
                        ]
                    },
                    "execution_count": 3,
                    "metadata": {},
                    "output_type": "execute_result"
                }
            ],
            "source": [
                "df_deduplicated.head(2)"
            ]
        },
        {
            "cell_type": "code",
            "execution_count": 6,
            "metadata": {},
            "outputs": [],
            "source": [
                "df_deduplicated_index = df_deduplicated.set_index('Compound')"
            ]
        },
        {
            "cell_type": "code",
            "execution_count": 8,
            "metadata": {},
            "outputs": [
                {
                    "data": {
                        "application/vnd.jupyter.widget-view+json": {
                            "model_id": "f92b566ae1354e9d9badad165139ac53",
                            "version_major": 2,
                            "version_minor": 0
                        },
                        "text/plain": [
                            "HBox(children=(IntProgress(value=0, max=6), HTML(value='')))"
                        ]
                    },
                    "metadata": {},
                    "output_type": "display_data"
                },
                {
                    "name": "stdout",
                    "output_type": "stream",
                    "text": [
                        "\n"
                    ]
                }
            ],
            "source": [
                "for csv in tqdm_notebook(glob('../dataset/sub_inhib_2005_paper_data/data_without_smiles/*.csv')):\n",
                "    df = pd.read_csv(csv)\n",
                "    smi = []\n",
                "    target = []\n",
                "    out = os.path.splitext(os.path.basename(csv))[0]\n",
                "    \n",
                "    for j in range(len(df)):\n",
                "        smi.append(df_deduplicated_index.loc[df['Compound'][j]]['Smiles'])\n",
                "        \n",
                "        if (out.split('_')[1]) == 'sub' and df['Class'][j] == 'P+':\n",
                "            target.append('Substrate') \n",
                "            \n",
                "        elif (out.split('_')[1]) == 'inhib' and df['Class'][j] == 'P+':\n",
                "            target.append('Inhibitor')\n",
                "        \n",
                "        else:\n",
                "            target.append('-')\n",
                "            \n",
                "    df['Smiles'] = smi\n",
                "    df['Type'] = target\n",
                "    \n",
                "    df.to_csv('../dataset/sub_inhib_2005_paper_data/data_with_smiles/'+ out +'.csv')"
            ]
        },
        {
            "cell_type": "code",
            "execution_count": null,
            "metadata": {},
            "outputs": [],
            "source": []
        }
    ],
    "metadata": {
        "kernelspec": {
            "display_name": "Python [conda env:seqcomhol]",
            "language": "python",
            "name": "conda-env-seqcomhol-py"
        },
        "language_info": {
            "codemirror_mode": {
                "name": "ipython",
                "version": 3
            },
            "file_extension": ".py",
            "mimetype": "text/x-python",
            "name": "python",
            "nbconvert_exporter": "python",
            "pygments_lexer": "ipython3",
            "version": "3.6.5"
        }
    },
    "nbformat": 4,
    "nbformat_minor": 2
}