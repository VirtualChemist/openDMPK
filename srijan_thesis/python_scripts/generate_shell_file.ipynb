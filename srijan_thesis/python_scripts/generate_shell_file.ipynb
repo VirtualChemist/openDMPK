{
    "cells": [
        {
            "cell_type": "code",
            "execution_count": null,
            "metadata": {},
            "outputs": [],
            "source": [
                "#######################################################################################\n",
                "# Author: Srijan Verma                                                              #\n",
                "# School of Pharmacy                                                                #\n",
                "# Sirimulla Research Group [http://www.sirimullaresearchgroup.com/]                 #\n",
                "# The University of Texas at El Paso, TX, USA                                       #\n",
                "# Last modified: 19/12/2019                                                         #\n",
                "# Copyright (c) 2019 Srijan Verma and Sirimulla Research Group, under MIT license   #\n",
                "#######################################################################################"
            ]
        },
        {
            "cell_type": "code",
            "execution_count": 3,
            "metadata": {},
            "outputs": [],
            "source": [
                "fp_list = ['rdk7',\n",
                " 'lfcfp6',\n",
                " 'fcfp6',\n",
                " 'ecfp0',\n",
                " 'fcfp4',\n",
                " 'rdk6',\n",
                " 'avalon',\n",
                " 'fcfp2',\n",
                " 'ecfp2',\n",
                " 'maccs',\n",
                " 'laval',\n",
                " 'ecfp6',\n",
                " 'ecfp4',\n",
                " 'lfcfp4',\n",
                " 'hashtt',\n",
                " 'lecfp6',\n",
                " 'lecfp4',\n",
                " 'hashap',\n",
                " 'rdk5',\n",
                " 'rdkDes',\n",
                " 'ecfp6_rdkDes_avalon_hashap' \n",
                "          ]"
            ]
        },
        {
            "cell_type": "code",
            "execution_count": 4,
            "metadata": {},
            "outputs": [
                {
                    "data": {
                        "text/plain": [
                            "21"
                        ]
                    },
                    "execution_count": 4,
                    "metadata": {},
                    "output_type": "execute_result"
                }
            ],
            "source": [
                "len(fp_list)"
            ]
        },
        {
            "cell_type": "code",
            "execution_count": 5,
            "metadata": {},
            "outputs": [],
            "source": [
                "from glob import glob\n",
                "import os"
            ]
        },
        {
            "cell_type": "markdown",
            "metadata": {},
            "source": [
                "#python generate_fp_v6.py lecfp6 ../../dataset/two_paper_plus_transformer_combined/splitted_csv_files/3A4_ind_va.csv ../../dataset/two_paper_plus_transformer_combined"
            ]
        },
        {
            "cell_type": "code",
            "execution_count": 6,
            "metadata": {},
            "outputs": [],
            "source": [
                "com = []\n",
                "for csv in glob('../dataset/opendmpk/inhib/*csv'):\n",
                "    csv_name = os.path.splitext(os.path.basename(csv))[0]\n",
                "    for fp in fp_list:\n",
                "        com.append('python3 generate_fp_v8.py ' +\n",
                "                   fp + ' ../dataset/csv_files/' +\n",
                "                   csv_name + '.csv ../dataset/numpy_files'\n",
                "        )"
            ]
        },
        {
            "cell_type": "code",
            "execution_count": 7,
            "metadata": {},
            "outputs": [
                {
                    "data": {
                        "text/plain": [
                            "105"
                        ]
                    },
                    "execution_count": 7,
                    "metadata": {},
                    "output_type": "execute_result"
                }
            ],
            "source": [
                "len(com)"
            ]
        },
        {
            "cell_type": "code",
            "execution_count": 8,
            "metadata": {},
            "outputs": [],
            "source": [
                "with open('../shell_scripts/opendmpk/shell-gen_fp.sh', 'w') as f:\n",
                "    for comm in com:\n",
                "        f.write(comm + '\\n')"
            ]
        },
        {
            "cell_type": "code",
            "execution_count": 13,
            "metadata": {},
            "outputs": [],
            "source": [
                "models = ['ExtraTreeClassifier_default',\n",
                " 'AdaBoostClassifier_default',\n",
                " 'MLPClassifier_default',\n",
                " 'MultinomialNB_default',\n",
                " 'LogisticRegression_default',\n",
                " 'RandomForestClassifier_default',\n",
                " 'RidgeClassifier_default',\n",
                " 'BaggingClassifier_default',\n",
                " 'SGDClassifier_default',\n",
                " 'LinearSVC_default',\n",
                " 'NearestCentroid_default',\n",
                " 'Perceptron_default',\n",
                " 'XGBClassifier_default',\n",
                " 'OneVsRestClassifier_default',\n",
                " 'PassiveAggressiveClassifier_default',\n",
                " 'LinearDiscriminantAnalysis_default',\n",
                " 'ComplementNB_default',\n",
                " 'OutputCodeClassifier_default',\n",
                " 'HistGradientBoostingClassifier_default',\n",
                " 'DecisionTreeClassifier_default',\n",
                " 'QuadraticDiscriminantAnalysis_default',\n",
                " 'OneVsOneClassifier_default',\n",
                " 'GaussianNB_default',\n",
                " 'GaussianMixture_default',\n",
                " 'BernoulliNB_default',\n",
                " 'ExtraTreesClassifier_default',\n",
                " 'BayesianGaussianMixture_default',\n",
                " 'DummyClassifier_default',\n",
                " 'NuSVC_default']"
            ]
        },
        {
            "cell_type": "code",
            "execution_count": 14,
            "metadata": {},
            "outputs": [
                {
                    "data": {
                        "text/plain": [
                            "29"
                        ]
                    },
                    "execution_count": 14,
                    "metadata": {},
                    "output_type": "execute_result"
                }
            ],
            "source": [
                "len(models)"
            ]
        },
        {
            "cell_type": "code",
            "execution_count": 15,
            "metadata": {},
            "outputs": [],
            "source": [
                "models = ['RandomForestClassifier', 'DecisionTreeClassifier', 'AdaBoostClassifier', 'MLPClassifier', 'GradientBoostingClassifier', 'LinearDiscriminantAnalysis', 'LogisticRegression', 'KNeighborsClassifier', 'MultinomialNB', 'XGBClassifier', 'DummyClassifier', 'GaussianNB', 'SVC', 'BaggingClassifier', 'BernoulliNB', 'ComplementNB', 'ExtraTreesClassifier', 'GaussianProcessClassifier', 'HistGradientBoostingClassifier', 'ExtraTreeClassifier', 'LinearSVC', 'NearestCentroid', 'OneVsOneClassifier', 'OneVsRestClassifier', 'OutputCodeClassifier', 'PassiveAggressiveClassifier', 'Perceptron', 'RidgeClassifier', 'SGDClassifier', 'BayesianGaussianMixture', 'GaussianMixture']"
            ]
        },
        {
            "cell_type": "code",
            "execution_count": 9,
            "metadata": {},
            "outputs": [],
            "source": [
                "models = ['RandomForestClassifier','MLPClassifier','LogisticRegression','XGBClassifier','BaggingClassifier','ExtraTreesClassifier','LinearSVC','Perceptron','SGDClassifier','OneVsRestClassifier']"
            ]
        },
        {
            "cell_type": "code",
            "execution_count": 10,
            "metadata": {},
            "outputs": [],
            "source": [
                "csv_name = []\n",
                "for csv in glob('../dataset/opendmpk/inhib/*csv'):\n",
                "    csv_name.append(os.path.splitext(os.path.basename(csv))[0])"
            ]
        },
        {
            "cell_type": "code",
            "execution_count": 11,
            "metadata": {},
            "outputs": [],
            "source": [
                "csv_names = set(csv_name)"
            ]
        },
        {
            "cell_type": "code",
            "execution_count": 12,
            "metadata": {},
            "outputs": [
                {
                    "data": {
                        "text/plain": [
                            "'3A4_inh'"
                        ]
                    },
                    "execution_count": 12,
                    "metadata": {},
                    "output_type": "execute_result"
                }
            ],
            "source": [
                "csv_names = list(csv_names)\n",
                "csv_names[0]"
            ]
        },
        {
            "cell_type": "code",
            "execution_count": 13,
            "metadata": {},
            "outputs": [],
            "source": [
                "commands = []\n",
                "for i in range(len(csv_names)):\n",
                "    for j in range(len(fp_list)):\n",
                "        for k in range(len(models)):\n",
                "            commands.append('python3 model_dev_v5.py ' + models[k]\n",
                "                            + ' ../dataset/numpy_files/'\n",
                "                            + fp_list[j] + '-' + csv_names[i] + '.npy'\n",
                "                            + ' ../results 0.0 0.20 default'\n",
                "                           )"
            ]
        },
        {
            "cell_type": "code",
            "execution_count": 14,
            "metadata": {},
            "outputs": [
                {
                    "data": {
                        "text/plain": [
                            "'python3 model_dev_v5.py RandomForestClassifier ../dataset/numpy_files/rdk7-3A4_inh.npy ../results 0.0 0.20 default'"
                        ]
                    },
                    "execution_count": 14,
                    "metadata": {},
                    "output_type": "execute_result"
                }
            ],
            "source": [
                "commands[0]"
            ]
        },
        {
            "cell_type": "code",
            "execution_count": 15,
            "metadata": {},
            "outputs": [
                {
                    "data": {
                        "text/plain": [
                            "1050"
                        ]
                    },
                    "execution_count": 15,
                    "metadata": {},
                    "output_type": "execute_result"
                }
            ],
            "source": [
                "len(commands)"
            ]
        },
        {
            "cell_type": "code",
            "execution_count": 21,
            "metadata": {},
            "outputs": [],
            "source": [
                "commands = []\n",
                "for i in range(len(csv_names)):\n",
                "    for j in range(len(fp_list)):\n",
                "        for k in range(len(models)):\n",
                "            commands.append('python3 model_dev_v7.py ' + models[k][0:-8]\n",
                "                            + ' ../dataset/numpy_files/'\n",
                "                            + fp_list[j] + '-' + csv_names[i] + '_tr.npy'\n",
                "                            + ' ../dataset/numpy_files/'\n",
                "                            + fp_list[j] + '-' + csv_names[i] + '_va.npy'\n",
                "                            + ' ../dataset/numpy_files/'\n",
                "                            + fp_list[j] + '-' + csv_names[i] + '_te.npy'\n",
                "                            + ' ../results 0.15 0.15 default'\n",
                "                           )"
            ]
        },
        {
            "cell_type": "code",
            "execution_count": 29,
            "metadata": {},
            "outputs": [
                {
                    "data": {
                        "text/plain": [
                            "4557"
                        ]
                    },
                    "execution_count": 29,
                    "metadata": {},
                    "output_type": "execute_result"
                }
            ],
            "source": [
                "len(commands)"
            ]
        },
        {
            "cell_type": "code",
            "execution_count": null,
            "metadata": {},
            "outputs": [],
            "source": []
        },
        {
            "cell_type": "code",
            "execution_count": 16,
            "metadata": {},
            "outputs": [],
            "source": [
                "with open('../shell_scripts/opendmpk/shell-mod_dev.sh', 'w') as f:\n",
                "    for comm in commands:\n",
                "        f.write(comm + '\\n')"
            ]
        },
        {
            "cell_type": "code",
            "execution_count": null,
            "metadata": {},
            "outputs": [],
            "source": []
        }
    ],
    "metadata": {
        "kernelspec": {
            "display_name": "Python [conda env:seqcomhol]",
            "language": "python",
            "name": "conda-env-seqcomhol-py"
        },
        "language_info": {
            "codemirror_mode": {
                "name": "ipython",
                "version": 3
            },
            "file_extension": ".py",
            "mimetype": "text/x-python",
            "name": "python",
            "nbconvert_exporter": "python",
            "pygments_lexer": "ipython3",
            "version": "3.6.5"
        }
    },
    "nbformat": 4,
    "nbformat_minor": 2
}