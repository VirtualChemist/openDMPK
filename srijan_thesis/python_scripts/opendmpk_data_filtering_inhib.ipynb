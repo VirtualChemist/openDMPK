{
    "cells": [
        {
            "cell_type": "code",
            "execution_count": null,
            "metadata": {},
            "outputs": [],
            "source": [
                "#######################################################################################\n",
                "# Author: Srijan Verma                                                              #\n",
                "# School of Pharmacy                                                                #\n",
                "# Sirimulla Research Group [http://www.sirimullaresearchgroup.com/]                 #\n",
                "# The University of Texas at El Paso, TX, USA                                       #\n",
                "# Last modified: 19/12/2019                                                         #\n",
                "# Copyright (c) 2019 Srijan Verma and Sirimulla Research Group, under MIT license   #\n",
                "#######################################################################################"
            ]
        },
        {
            "cell_type": "code",
            "execution_count": 6,
            "metadata": {},
            "outputs": [],
            "source": [
                "from glob import glob\n",
                "import pandas as pd\n",
                "from tqdm import tqdm_notebook\n",
                "from rdkit import Chem\n",
                "import os"
            ]
        },
        {
            "cell_type": "code",
            "execution_count": 7,
            "metadata": {},
            "outputs": [
                {
                    "data": {
                        "application/vnd.jupyter.widget-view+json": {
                            "model_id": "4ebaff85a5d446629cc1422375bb91fb",
                            "version_major": 2,
                            "version_minor": 0
                        },
                        "text/plain": [
                            "HBox(children=(IntProgress(value=0, max=5), HTML(value='')))"
                        ]
                    },
                    "metadata": {},
                    "output_type": "display_data"
                },
                {
                    "data": {
                        "application/vnd.jupyter.widget-view+json": {
                            "model_id": "c4f57d3b1ca64b85bcec1c6bb6677e3f",
                            "version_major": 2,
                            "version_minor": 0
                        },
                        "text/plain": [
                            "HBox(children=(IntProgress(value=0, max=14741), HTML(value='')))"
                        ]
                    },
                    "metadata": {},
                    "output_type": "display_data"
                },
                {
                    "name": "stdout",
                    "output_type": "stream",
                    "text": [
                        "No. of +ves for Enzyme 2D6_inh is: 3060\n"
                    ]
                },
                {
                    "data": {
                        "application/vnd.jupyter.widget-view+json": {
                            "model_id": "685eda69dd734222bc5df5fb66694697",
                            "version_major": 2,
                            "version_minor": 0
                        },
                        "text/plain": [
                            "HBox(children=(IntProgress(value=0, max=14709), HTML(value='')))"
                        ]
                    },
                    "metadata": {},
                    "output_type": "display_data"
                },
                {
                    "name": "stdout",
                    "output_type": "stream",
                    "text": [
                        "No. of +ves for Enzyme 2C9_inh is: 4977\n"
                    ]
                },
                {
                    "data": {
                        "application/vnd.jupyter.widget-view+json": {
                            "model_id": "317d6fead66b403db8c0fa615e560e18",
                            "version_major": 2,
                            "version_minor": 0
                        },
                        "text/plain": [
                            "HBox(children=(IntProgress(value=0, max=14576), HTML(value='')))"
                        ]
                    },
                    "metadata": {},
                    "output_type": "display_data"
                },
                {
                    "name": "stdout",
                    "output_type": "stream",
                    "text": [
                        "No. of +ves for Enzyme 2C19_inh is: 6039\n"
                    ]
                },
                {
                    "data": {
                        "application/vnd.jupyter.widget-view+json": {
                            "model_id": "de4cb6fa41204f5ea0cbecb068f67d04",
                            "version_major": 2,
                            "version_minor": 0
                        },
                        "text/plain": [
                            "HBox(children=(IntProgress(value=0, max=14903), HTML(value='')))"
                        ]
                    },
                    "metadata": {},
                    "output_type": "display_data"
                },
                {
                    "name": "stdout",
                    "output_type": "stream",
                    "text": [
                        "No. of +ves for Enzyme 1A2_inh is: 7412\n"
                    ]
                },
                {
                    "data": {
                        "application/vnd.jupyter.widget-view+json": {
                            "model_id": "d279d79c11594af0a2637a11e6df88c2",
                            "version_major": 2,
                            "version_minor": 0
                        },
                        "text/plain": [
                            "HBox(children=(IntProgress(value=0, max=18561), HTML(value='')))"
                        ]
                    },
                    "metadata": {},
                    "output_type": "display_data"
                },
                {
                    "name": "stdout",
                    "output_type": "stream",
                    "text": [
                        "No. of +ves for Enzyme 3A4_inh is: 6705\n",
                        "\n",
                        "CPU times: user 47.6 s, sys: 898 ms, total: 48.5 s\n",
                        "Wall time: 53.4 s\n"
                    ]
                }
            ],
            "source": [
                "%%time\n",
                "for csv in tqdm_notebook(glob('../openDMPK/cyp_inhib_data/*.csv')):  \n",
                "    not_found = []\n",
                "    can_smi = []\n",
                "    df = pd.read_csv(csv)\n",
                "    df.reset_index(drop=True,inplace=True)\n",
                "    smi = df['Canonical_Smiles'].tolist()\n",
                "    for i in tqdm_notebook(range(len(smi))):\n",
                "    \n",
                "        try:\n",
                "            mol = Chem.MolFromSmiles(smi[i])\n",
                "            cans = Chem.MolToSmiles(mol, True)\n",
                "            can_smi.append(cans)\n",
                "\n",
                "        except:\n",
                "            can_smi.append('-')\n",
                "            not_found.append(i)\n",
                "            pass\n",
                "    df.drop(['Canonical_Smiles'], axis = 1, inplace=True)\n",
                "    df['Canonical_Smiles'] = can_smi\n",
                "    df.drop(not_found,axis=0,inplace=True)\n",
                "    df.reset_index(drop=True,inplace=True)\n",
                "    k = os.path.splitext(os.path.basename(csv))[0]\n",
                "    print('No. of +ves for Enzyme '+k+' is: '+str(len(df[df.Label=='positive'])))\n",
                "    df.to_csv('../dataset/opendmpk/inhib/' + k+'.csv')\n",
                "# assert cans[0] == cans[1]"
            ]
        },
        {
            "cell_type": "code",
            "execution_count": null,
            "metadata": {},
            "outputs": [],
            "source": []
        }
    ],
    "metadata": {
        "kernelspec": {
            "display_name": "Python [conda env:seqcomhol]",
            "language": "python",
            "name": "conda-env-seqcomhol-py"
        },
        "language_info": {
            "codemirror_mode": {
                "name": "ipython",
                "version": 3
            },
            "file_extension": ".py",
            "mimetype": "text/x-python",
            "name": "python",
            "nbconvert_exporter": "python",
            "pygments_lexer": "ipython3",
            "version": "3.6.5"
        }
    },
    "nbformat": 4,
    "nbformat_minor": 2
}