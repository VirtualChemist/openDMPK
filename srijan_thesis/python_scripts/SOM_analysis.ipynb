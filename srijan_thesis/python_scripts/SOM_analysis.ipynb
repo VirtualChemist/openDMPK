{
    "cells": [
        {
            "cell_type": "code",
            "execution_count": null,
            "metadata": {},
            "outputs": [],
            "source": [
                "#######################################################################################\n",
                "# Author: Srijan Verma                                                              #\n",
                "# School of Pharmacy                                                                #\n",
                "# Sirimulla Research Group [http://www.sirimullaresearchgroup.com/]                 #\n",
                "# The University of Texas at El Paso, TX, USA                                       #\n",
                "# Last modified: 19/12/2019                                                         #\n",
                "# Copyright (c) 2019 Srijan Verma and Sirimulla Research Group, under MIT license   #\n",
                "#######################################################################################"
            ]
        },
        {
            "cell_type": "code",
            "execution_count": 33,
            "metadata": {},
            "outputs": [],
            "source": [
                "from rdkit.Chem import PandasTools\n",
                "import pandas as pd\n",
                "import os\n",
                "from rdkit import RDConfig\n",
                "# import pybel\n",
                "from rdkit import Chem\n",
                "from rdkit.Chem.Draw import IPythonConsole\n",
                "from rdkit.Chem import Draw\n",
                "IPythonConsole.ipython_useSVG=True\n",
                "from rdkit.Chem import AllChem"
            ]
        },
        {
            "cell_type": "code",
            "execution_count": 34,
            "metadata": {},
            "outputs": [],
            "source": [
                "SDFFile = \"../dataset/xenosite/CYP_DBs/3A4.sdf\"\n",
                "sdfFile = os.path.join(RDConfig.RDDataDir,'NCI/first_200.props.sdf')\n",
                "# BRDLigs = PandasTools.LoadSDF(SDFFile)\n",
                "frame = PandasTools.LoadSDF(sdfFile,smilesName='SMILES',molColName='Molecule', includeFingerprints=True)"
            ]
        },
        {
            "cell_type": "code",
            "execution_count": 35,
            "metadata": {},
            "outputs": [],
            "source": [
                "suppl = Chem.SDMolSupplier(SDFFile)"
            ]
        },
        {
            "cell_type": "code",
            "execution_count": 36,
            "metadata": {},
            "outputs": [],
            "source": [
                "# for mol in suppl:\n",
                "#     print(mol.GetNumAtoms())"
            ]
        },
        {
            "cell_type": "code",
            "execution_count": 37,
            "metadata": {},
            "outputs": [],
            "source": [
                "iterator = Chem.SDMolSupplier(SDFFile)\n",
                "# for m in iterator:\n",
                "#     if m is not None:              # test whether molecule was read\n",
                "#         print(m.GetNumAtoms())     # returns number of heavy atoms only, Hs were stripped"
            ]
        },
        {
            "cell_type": "code",
            "execution_count": 38,
            "metadata": {},
            "outputs": [
                {
                    "data": {
                        "text/plain": [
                            "475"
                        ]
                    },
                    "execution_count": 38,
                    "metadata": {},
                    "output_type": "execute_result"
                }
            ],
            "source": [
                "mols = [m for m in iterator]\n",
                "len(mols)"
            ]
        },
        {
            "cell_type": "code",
            "execution_count": 45,
            "metadata": {},
            "outputs": [
                {
                    "data": {
                        "image/png": "[encoded data removed]",
                        "image/svg+xml": [
                            "<?xml version='1.0' encoding='iso-8859-1'?>\n",
                            "<svg version='1.1' baseProfile='full'\n",
                            "              xmlns='http://www.w3.org/2000/svg'\n",
                            "                      xmlns:rdkit='http://www.rdkit.org/xml'\n",
                            "                      xmlns:xlink='http://www.w3.org/1999/xlink'\n",
                            "                  xml:space='preserve'\n",
                            "width='450px' height='150px' >\n",
                            "<!-- END OF HEADER -->\n",
                            "<rect style='opacity:1.0;fill:#FFFFFF;stroke:none' width='450' height='150' x='0' y='0'> </rect>\n",
                            "<path class='bond-0' d='M 248.595,137.717 248.37,121.475' style='fill:none;fill-rule:evenodd;stroke:#00CC00;stroke-width:2px;stroke-linecap:butt;stroke-linejoin:miter;stroke-opacity:1' />\n",
                            "<path class='bond-0' d='M 248.37,121.475 248.146,105.233' style='fill:none;fill-rule:evenodd;stroke:#000000;stroke-width:2px;stroke-linecap:butt;stroke-linejoin:miter;stroke-opacity:1' />\n",
                            "<path class='bond-1' d='M 248.146,105.233 274.138,89.7556' style='fill:none;fill-rule:evenodd;stroke:#000000;stroke-width:2px;stroke-linecap:butt;stroke-linejoin:miter;stroke-opacity:1' />\n",
                            "<path class='bond-1' d='M 248.689,97.2763 266.884,86.4424' style='fill:none;fill-rule:evenodd;stroke:#000000;stroke-width:2px;stroke-linecap:butt;stroke-linejoin:miter;stroke-opacity:1' />\n",
                            "<path class='bond-2' d='M 248.146,105.233 221.761,90.477' style='fill:none;fill-rule:evenodd;stroke:#000000;stroke-width:2px;stroke-linecap:butt;stroke-linejoin:miter;stroke-opacity:1' />\n",
                            "<path class='bond-3' d='M 274.138,89.7556 273.744,59.5449' style='fill:none;fill-rule:evenodd;stroke:#000000;stroke-width:2px;stroke-linecap:butt;stroke-linejoin:miter;stroke-opacity:1' />\n",
                            "<path class='bond-4' d='M 273.744,59.5449 247.381,44.7674' style='fill:none;fill-rule:evenodd;stroke:#000000;stroke-width:2px;stroke-linecap:butt;stroke-linejoin:miter;stroke-opacity:1' />\n",
                            "<path class='bond-4' d='M 266.583,63.0489 248.129,52.7047' style='fill:none;fill-rule:evenodd;stroke:#000000;stroke-width:2px;stroke-linecap:butt;stroke-linejoin:miter;stroke-opacity:1' />\n",
                            "<path class='bond-5' d='M 247.381,44.7674 221.345,60.2444' style='fill:none;fill-rule:evenodd;stroke:#000000;stroke-width:2px;stroke-linecap:butt;stroke-linejoin:miter;stroke-opacity:1' />\n",
                            "<path class='bond-6' d='M 247.381,44.7674 247.166,28.5253' style='fill:none;fill-rule:evenodd;stroke:#000000;stroke-width:2px;stroke-linecap:butt;stroke-linejoin:miter;stroke-opacity:1' />\n",
                            "<path class='bond-6' d='M 247.166,28.5253 246.95,12.2832' style='fill:none;fill-rule:evenodd;stroke:#00CC00;stroke-width:2px;stroke-linecap:butt;stroke-linejoin:miter;stroke-opacity:1' />\n",
                            "<path class='bond-7' d='M 221.345,60.2444 221.761,90.477' style='fill:none;fill-rule:evenodd;stroke:#000000;stroke-width:2px;stroke-linecap:butt;stroke-linejoin:miter;stroke-opacity:1' />\n",
                            "<path class='bond-7' d='M 227.965,64.6892 228.256,85.852' style='fill:none;fill-rule:evenodd;stroke:#000000;stroke-width:2px;stroke-linecap:butt;stroke-linejoin:miter;stroke-opacity:1' />\n",
                            "<path class='bond-8' d='M 221.345,60.2444 207.894,52.7101' style='fill:none;fill-rule:evenodd;stroke:#000000;stroke-width:2px;stroke-linecap:butt;stroke-linejoin:miter;stroke-opacity:1' />\n",
                            "<path class='bond-8' d='M 207.894,52.7101 194.442,45.1759' style='fill:none;fill-rule:evenodd;stroke:#00CC00;stroke-width:2px;stroke-linecap:butt;stroke-linejoin:miter;stroke-opacity:1' />\n",
                            "<text x='242.477' y='148.647' style='font-size:10px;font-style:normal;font-weight:normal;fill-opacity:1;stroke:none;font-family:sans-serif;text-anchor:start;fill:#00CC00' ><tspan>Cl</tspan></text>\n",
                            "<text x='240.685' y='12.2832' style='font-size:10px;font-style:normal;font-weight:normal;fill-opacity:1;stroke:none;font-family:sans-serif;text-anchor:start;fill:#00CC00' ><tspan>Cl</tspan></text>\n",
                            "<text x='182.056' y='47.172' style='font-size:10px;font-style:normal;font-weight:normal;fill-opacity:1;stroke:none;font-family:sans-serif;text-anchor:start;fill:#00CC00' ><tspan>Cl</tspan></text>\n",
                            "</svg>\n"
                        ],
                        "text/plain": [
                            "<rdkit.Chem.rdchem.Mol at 0x11a1af6c0>"
                        ]
                    },
                    "execution_count": 45,
                    "metadata": {},
                    "output_type": "execute_result"
                }
            ],
            "source": [
                "m = iterator[0]\n",
                "m"
            ]
        },
        {
            "cell_type": "code",
            "execution_count": 46,
            "metadata": {},
            "outputs": [],
            "source": [
                "AllChem.ComputeGasteigerCharges(m)"
            ]
        },
        {
            "cell_type": "code",
            "execution_count": 47,
            "metadata": {},
            "outputs": [
                {
                    "name": "stdout",
                    "output_type": "stream",
                    "text": [
                        "atom Cl id=0 has -0.084287 charge\n",
                        "atom C id=1 has 0.042136 charge\n",
                        "atom C id=2 has -0.041941 charge\n",
                        "atom C id=3 has -0.040523 charge\n",
                        "atom C id=4 has 0.059287 charge\n",
                        "atom C id=5 has 0.060661 charge\n",
                        "atom C id=6 has -0.023282 charge\n",
                        "atom Cl id=7 has -0.082711 charge\n",
                        "atom Cl id=8 has -0.082657 charge\n"
                    ]
                }
            ],
            "source": [
                "for a in m.GetAtoms():\n",
                "    print(\"atom %s id=%i has %f charge\" % (a.GetSymbol(), a.GetIdx(), float(a.GetProp('_GasteigerCharge'))))"
            ]
        },
        {
            "cell_type": "code",
            "execution_count": null,
            "metadata": {},
            "outputs": [],
            "source": []
        }
    ],
    "metadata": {
        "kernelspec": {
            "display_name": "Python [conda env:seqcomhol]",
            "language": "python",
            "name": "conda-env-seqcomhol-py"
        },
        "language_info": {
            "codemirror_mode": {
                "name": "ipython",
                "version": 3
            },
            "file_extension": ".py",
            "mimetype": "text/x-python",
            "name": "python",
            "nbconvert_exporter": "python",
            "pygments_lexer": "ipython3",
            "version": "3.6.5"
        }
    },
    "nbformat": 4,
    "nbformat_minor": 2
}