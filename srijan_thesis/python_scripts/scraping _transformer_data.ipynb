{
    "cells": [
        {
            "cell_type": "code",
            "execution_count": null,
            "metadata": {},
            "outputs": [],
            "source": [
                "#######################################################################################\n",
                "# Author: Srijan Verma                                                              #\n",
                "# School of Pharmacy                                                                #\n",
                "# Sirimulla Research Group [http://www.sirimullaresearchgroup.com/]                 #\n",
                "# The University of Texas at El Paso, TX, USA                                       #\n",
                "# Last modified: 19/12/2019                                                         #\n",
                "# Copyright (c) 2019 Srijan Verma and Sirimulla Research Group, under MIT license   #\n",
                "#######################################################################################"
            ]
        },
        {
            "cell_type": "code",
            "execution_count": 1,
            "metadata": {},
            "outputs": [],
            "source": [
                "from bs4 import BeautifulSoup\n",
                "import requests\n",
                "from tqdm import tqdm_notebook\n",
                "import pandas as pd\n",
                "from glob import glob\n",
                "import time\n",
                "import os"
            ]
        },
        {
            "cell_type": "code",
            "execution_count": 404,
            "metadata": {},
            "outputs": [],
            "source": [
                "url = 'http://bioinformatics.charite.de/transformer/index.php?site=biotransformation'\n",
                "result = requests.get(url)\n",
                "c = result.content\n",
                "soup = BeautifulSoup(c)\n",
                "soup_string = str(soup)"
            ]
        },
        {
            "cell_type": "code",
            "execution_count": 405,
            "metadata": {},
            "outputs": [],
            "source": [
                "query_name = []\n",
                "q_str = 'test'\n",
                "dyn_str = 'CYPs' #Dynamic\n",
                "s1 = 'results&amp;cname=' #Constant\n",
                "s2 = '</a>' #Constant"
            ]
        },
        {
            "cell_type": "markdown",
            "metadata": {},
            "source": [
                "### results&amp;cname=SC6A2_HUMAN&amp;cyp\">Sodium-dependent noradrenaline transporter</a>"
            ]
        },
        {
            "cell_type": "code",
            "execution_count": 406,
            "metadata": {},
            "outputs": [],
            "source": [
                "while(q_str.split('>')[0] != 'SO4A1_HUMAN&amp;cyp\"'):\n",
                "    \n",
                "    q_str = soup_string[soup_string.find(s1, soup_string.find(dyn_str)) + len(s1):soup_string.find(s2, (soup_string.find(s1, soup_string.find(dyn_str)) + len(s1)))]\n",
                "    dyn_str = q_str\n",
                "    query_name.append(q_str)"
            ]
        },
        {
            "cell_type": "code",
            "execution_count": 407,
            "metadata": {},
            "outputs": [
                {
                    "data": {
                        "text/plain": [
                            "154"
                        ]
                    },
                    "execution_count": 407,
                    "metadata": {},
                    "output_type": "execute_result"
                }
            ],
            "source": [
                "len(query_name)"
            ]
        },
        {
            "cell_type": "code",
            "execution_count": 408,
            "metadata": {},
            "outputs": [
                {
                    "data": {
                        "application/vnd.jupyter.widget-view+json": {
                            "model_id": "1363a5a05d434a38bef6ba897e03e8d1",
                            "version_major": 2,
                            "version_minor": 0
                        },
                        "text/plain": [
                            "HBox(children=(IntProgress(value=0, max=154), HTML(value='')))"
                        ]
                    },
                    "metadata": {},
                    "output_type": "display_data"
                }
            ],
            "source": [
                "prot_name = []\n",
                "q_name = []\n",
                "for i in tqdm_notebook(range(len(query_name))):\n",
                "    prot_name.append(query_name[i].split('>')[1])\n",
                "    q_name.append(query_name[i].split('>')[0][0:-9])"
            ]
        },
        {
            "cell_type": "code",
            "execution_count": 409,
            "metadata": {},
            "outputs": [],
            "source": [
                "df = pd.DataFrame(columns = ['target_name','query'])\n",
                "df['target_name'] = prot_name\n",
                "df['query'] = q_name\n",
                "df.to_csv('../dataset/transformer/target_query.csv')"
            ]
        },
        {
            "cell_type": "code",
            "execution_count": 410,
            "metadata": {},
            "outputs": [
                {
                    "data": {
                        "text/plain": [
                            "154"
                        ]
                    },
                    "execution_count": 410,
                    "metadata": {},
                    "output_type": "execute_result"
                }
            ],
            "source": [
                "len(set(prot_name))"
            ]
        },
        {
            "cell_type": "code",
            "execution_count": 320,
            "metadata": {},
            "outputs": [],
            "source": [
                "for i in range(len(prot_name)):\n",
                "    prot_name[i] = prot_name[i].replace(' ', '_')\n",
                "    prot_name[i] = prot_name[i].replace('-', '_')\n",
                "    prot_name[i] = prot_name[i].replace(',', '')\n",
                "    prot_name[i] = prot_name[i].replace('(', '')\n",
                "    prot_name[i] = prot_name[i].replace(')', '')\n",
                "    prot_name[i] = prot_name[i].replace('/', '')\n",
                "#     prot_name[i] = prot_name[i].replace(\"\\\", '')"
            ]
        },
        {
            "cell_type": "code",
            "execution_count": 322,
            "metadata": {},
            "outputs": [],
            "source": [
                "# prot_name"
            ]
        },
        {
            "cell_type": "code",
            "execution_count": 286,
            "metadata": {},
            "outputs": [],
            "source": [
                "# url = 'http://bioinformatics.charite.de/transformer/index.php?site=fullinfo_results&cname=' + q_name[0] + '&cyp'\n",
                "url = 'http://bioinformatics.charite.de/transformer/index.php?site=fullinfo_results&cname=SO3A1_HUMAN&cyp'\n",
                "result = requests.get(url)\n",
                "c = result.content\n",
                "soup = BeautifulSoup(c)\n",
                "soup_string = str(soup)"
            ]
        },
        {
            "cell_type": "code",
            "execution_count": 287,
            "metadata": {},
            "outputs": [],
            "source": [
                "# q_str = 'Drug Interactions'\n",
                "dyn_str = 'Drug Interactions' #Dynamic\n",
                "s1 = 'href=\"index.php?site=fullinfo&amp;cname=' #Constant\n",
                "s2 = '</a>' #Constant\n",
                "s3 = '<td>'\n",
                "s4 = '</td>'\n",
                "drug_name = ''"
            ]
        },
        {
            "cell_type": "code",
            "execution_count": 299,
            "metadata": {},
            "outputs": [
                {
                    "data": {
                        "text/html": [
                            "<div>\n",
                            "<style scoped>\n",
                            "    .dataframe tbody tr th:only-of-type {\n",
                            "        vertical-align: middle;\n",
                            "    }\n",
                            "\n",
                            "    .dataframe tbody tr th {\n",
                            "        vertical-align: top;\n",
                            "    }\n",
                            "\n",
                            "    .dataframe thead th {\n",
                            "        text-align: right;\n",
                            "    }\n",
                            "</style>\n",
                            "<table border=\"1\" class=\"dataframe\">\n",
                            "  <thead>\n",
                            "    <tr style=\"text-align: right;\">\n",
                            "      <th></th>\n",
                            "      <th>drug_name</th>\n",
                            "      <th>drug_type</th>\n",
                            "    </tr>\n",
                            "  </thead>\n",
                            "  <tbody>\n",
                            "  </tbody>\n",
                            "</table>\n",
                            "</div>"
                        ],
                        "text/plain": [
                            "Empty DataFrame\n",
                            "Columns: [drug_name, drug_type]\n",
                            "Index: []"
                        ]
                    },
                    "execution_count": 299,
                    "metadata": {},
                    "output_type": "execute_result"
                }
            ],
            "source": [
                "df = pd.DataFrame(columns = ['drug_name','drug_type'])\n",
                "df"
            ]
        },
        {
            "cell_type": "code",
            "execution_count": 323,
            "metadata": {},
            "outputs": [
                {
                    "data": {
                        "application/vnd.jupyter.widget-view+json": {
                            "model_id": "a8aa4c4f547642339c90b93f5b96f339",
                            "version_major": 2,
                            "version_minor": 0
                        },
                        "text/plain": [
                            "HBox(children=(IntProgress(value=0, max=154), HTML(value='')))"
                        ]
                    },
                    "metadata": {},
                    "output_type": "display_data"
                }
            ],
            "source": [
                "for i in tqdm_notebook(range(len(q_name))):\n",
                "    \n",
                "    url = 'http://bioinformatics.charite.de/transformer/index.php?site=fullinfo_results&cname='+ q_name[i] +'&cyp'\n",
                "    result = requests.get(url)\n",
                "    c = result.content\n",
                "    soup = BeautifulSoup(c)\n",
                "    soup_string = str(soup)\n",
                "    \n",
                "    all_d_name = []\n",
                "    all_d_type = []\n",
                "    # q_str = 'Drug Interactions'\n",
                "    dyn_str = 'Drug Interactions' #Dynamic\n",
                "    s1 = 'href=\"index.php?site=fullinfo&amp;cname=' #Constant\n",
                "    s2 = '</a>' #Constant\n",
                "    s3 = '<td>'\n",
                "    s4 = '</td>'\n",
                "    drug_name = ''\n",
                "    \n",
                "    while(soup_string.find(s1, soup_string.find(dyn_str)) != -1):\n",
                "        drug_name = soup_string[soup_string.find(s1, soup_string.find(dyn_str)) + len(s1):soup_string.find(s2, (soup_string.find(s1, soup_string.find(dyn_str)) + len(s1)))]\n",
                "        all_d_name.append(drug_name.split('>')[1])\n",
                "        dyn_str2 = drug_name\n",
                "        drug_type = soup_string[soup_string.find(s3, soup_string.find(dyn_str2)) + len(s3):soup_string.find(s4, (soup_string.find(s3, soup_string.find(dyn_str2)) + len(s3)))]\n",
                "        dyn_str = drug_name\n",
                "        all_d_type.append(drug_type)\n",
                "        \n",
                "    df = pd.DataFrame(columns = ['drug_name','drug_type'])\n",
                "    df['drug_name'] = all_d_name\n",
                "    df['drug_type'] = all_d_type\n",
                "    df.to_csv('../dataset/transformer/' + prot_name[i] + '.csv')"
            ]
        },
        {
            "cell_type": "code",
            "execution_count": 411,
            "metadata": {},
            "outputs": [],
            "source": [
                "from selenium import webdriver"
            ]
        },
        {
            "cell_type": "code",
            "execution_count": 426,
            "metadata": {},
            "outputs": [],
            "source": [
                "driverpath = '../chrome/chromedriver'\n",
                "driver = webdriver.Chrome(driverpath)"
            ]
        },
        {
            "cell_type": "code",
            "execution_count": 427,
            "metadata": {},
            "outputs": [],
            "source": [
                "driver.get('http://bioinformatics.charite.de/transformer/index.php?site=drug_search')"
            ]
        },
        {
            "cell_type": "code",
            "execution_count": 353,
            "metadata": {},
            "outputs": [],
            "source": [
                "#//*[@id=\"cname\"]"
            ]
        },
        {
            "cell_type": "code",
            "execution_count": 354,
            "metadata": {},
            "outputs": [],
            "source": [
                "# elem = driver.find_element_by_id(\"cname\")"
            ]
        },
        {
            "cell_type": "code",
            "execution_count": 355,
            "metadata": {},
            "outputs": [],
            "source": [
                "# elem.send_keys('paracetamol')"
            ]
        },
        {
            "cell_type": "code",
            "execution_count": null,
            "metadata": {},
            "outputs": [],
            "source": [
                "#//*[@id=\"searchform\"]/table/tbody/tr[5]/td/div/input[2]"
            ]
        },
        {
            "cell_type": "code",
            "execution_count": 360,
            "metadata": {},
            "outputs": [],
            "source": [
                "# driver.find_element_by_xpath('//*[@id=\"searchform\"]/table/tbody/tr[5]/td/div/input[2]').click()"
            ]
        },
        {
            "cell_type": "code",
            "execution_count": 368,
            "metadata": {},
            "outputs": [],
            "source": [
                "# s1 = 'SMILES </a></td><td>'\n",
                "# s2 = '<br'\n",
                "# soup_string = str(driver.page_source)\n",
                "# smiles = soup_string[soup_string.find(s1) + len(s1):soup_string.find(s2, (soup_string.find(s1) + len(s1)))]"
            ]
        },
        {
            "cell_type": "code",
            "execution_count": 414,
            "metadata": {},
            "outputs": [],
            "source": [
                "s1 = 'SMILES </a></td><td>'\n",
                "s2 = '<br'"
            ]
        },
        {
            "cell_type": "code",
            "execution_count": 415,
            "metadata": {},
            "outputs": [
                {
                    "data": {
                        "application/vnd.jupyter.widget-view+json": {
                            "model_id": "a83e70835de64b1fadd6d8bf581febef",
                            "version_major": 2,
                            "version_minor": 0
                        },
                        "text/plain": [
                            "HBox(children=(IntProgress(value=0, max=154), HTML(value='')))"
                        ]
                    },
                    "metadata": {},
                    "output_type": "display_data"
                }
            ],
            "source": [
                "interesting_files = glob(\"../dataset/transformer/data_without_smiles/*csv\")  \n",
                "df = pd.concat((pd.read_csv(f, header = 0, index_col=0) for f in tqdm_notebook(interesting_files)))\n",
                "df_deduplicated = df.drop_duplicates()"
            ]
        },
        {
            "cell_type": "code",
            "execution_count": 416,
            "metadata": {},
            "outputs": [
                {
                    "name": "stderr",
                    "output_type": "stream",
                    "text": [
                        "/Users/pankajverma/anaconda3/envs/seqcomhol/lib/python3.6/site-packages/ipykernel/__main__.py:2: SettingWithCopyWarning: \n",
                        "A value is trying to be set on a copy of a slice from a DataFrame\n",
                        "\n",
                        "See the caveats in the documentation: http://pandas.pydata.org/pandas-docs/stable/user_guide/indexing.html#returning-a-view-versus-a-copy\n",
                        "  from ipykernel import kernelapp as app\n"
                    ]
                },
                {
                    "data": {
                        "text/plain": [
                            "1031"
                        ]
                    },
                    "execution_count": 416,
                    "metadata": {},
                    "output_type": "execute_result"
                }
            ],
            "source": [
                "df_deduplicated.reset_index(drop=True, inplace=True)\n",
                "df_deduplicated.drop_duplicates('drug_name', inplace=True)\n",
                "len(df_deduplicated)"
            ]
        },
        {
            "cell_type": "code",
            "execution_count": 417,
            "metadata": {},
            "outputs": [],
            "source": [
                "df_deduplicated.reset_index(drop=True, inplace=True)\n",
                "df_deduplicated.to_csv('../dataset/transformer/unique_data_without_smiles.csv')"
            ]
        },
        {
            "cell_type": "code",
            "execution_count": 431,
            "metadata": {},
            "outputs": [],
            "source": [
                "df_deduplicated = pd.read_csv('../dataset/transformer/unique_data_without_smiles.csv', index_col=0)"
            ]
        },
        {
            "cell_type": "code",
            "execution_count": 432,
            "metadata": {},
            "outputs": [
                {
                    "data": {
                        "text/html": [
                            "<div>\n",
                            "<style scoped>\n",
                            "    .dataframe tbody tr th:only-of-type {\n",
                            "        vertical-align: middle;\n",
                            "    }\n",
                            "\n",
                            "    .dataframe tbody tr th {\n",
                            "        vertical-align: top;\n",
                            "    }\n",
                            "\n",
                            "    .dataframe thead th {\n",
                            "        text-align: right;\n",
                            "    }\n",
                            "</style>\n",
                            "<table border=\"1\" class=\"dataframe\">\n",
                            "  <thead>\n",
                            "    <tr style=\"text-align: right;\">\n",
                            "      <th></th>\n",
                            "      <th>drug_name</th>\n",
                            "      <th>drug_type</th>\n",
                            "    </tr>\n",
                            "  </thead>\n",
                            "  <tbody>\n",
                            "    <tr>\n",
                            "      <th>0</th>\n",
                            "      <td>Ciprofibrate</td>\n",
                            "      <td>Inducer</td>\n",
                            "    </tr>\n",
                            "    <tr>\n",
                            "      <th>1</th>\n",
                            "      <td>Clofibrate</td>\n",
                            "      <td>Substrate,Inducer</td>\n",
                            "    </tr>\n",
                            "  </tbody>\n",
                            "</table>\n",
                            "</div>"
                        ],
                        "text/plain": [
                            "      drug_name          drug_type\n",
                            "0  Ciprofibrate            Inducer\n",
                            "1    Clofibrate  Substrate,Inducer"
                        ]
                    },
                    "execution_count": 432,
                    "metadata": {},
                    "output_type": "execute_result"
                }
            ],
            "source": [
                "df_deduplicated.head(2)"
            ]
        },
        {
            "cell_type": "code",
            "execution_count": 433,
            "metadata": {},
            "outputs": [
                {
                    "data": {
                        "application/vnd.jupyter.widget-view+json": {
                            "model_id": "ca7703b3146a4c539a574212c2117b8b",
                            "version_major": 2,
                            "version_minor": 0
                        },
                        "text/plain": [
                            "HBox(children=(IntProgress(value=0, max=1031), HTML(value='')))"
                        ]
                    },
                    "metadata": {},
                    "output_type": "display_data"
                }
            ],
            "source": [
                "smiles = []\n",
                "error_indices = []\n",
                "for i in tqdm_notebook(range(len(df_deduplicated['drug_name']))):\n",
                "\n",
                "    try:\n",
                "        driver.get('http://bioinformatics.charite.de/transformer/index.php?site=drug_search')\n",
                "        time.sleep(0.5)\n",
                "        elem = driver.find_element_by_id(\"cname\")\n",
                "        time.sleep(0.5)\n",
                "        elem.send_keys(df_deduplicated['drug_name'][i])\n",
                "        time.sleep(0.5)\n",
                "        driver.find_element_by_xpath('//*[@id=\"searchform\"]/table/tbody/tr[5]/td/div/input[2]').click()\n",
                "        time.sleep(0.5)\n",
                "        soup_string = str(driver.page_source)\n",
                "        smiles.append(soup_string[soup_string.find(s1) + len(s1):soup_string.find(s2, (soup_string.find(s1) + len(s1)))])\n",
                "        \n",
                "    except:\n",
                "        smiles.append('-')\n",
                "        error_indices.append(i)\n",
                "        pass\n",
                "    \n",
                "df_deduplicated['smiles'] = smiles\n",
                "df_deduplicated.to_csv('../dataset/transformer/data_with_smiles/unique_data_with_smiles.csv')"
            ]
        },
        {
            "cell_type": "code",
            "execution_count": 436,
            "metadata": {},
            "outputs": [
                {
                    "data": {
                        "text/plain": [
                            "'69    IC \"-//W3C//DTD HTML 4.01 Transitional//EN\" \"h...\\nName: smiles, dtype: object'"
                        ]
                    },
                    "execution_count": 436,
                    "metadata": {},
                    "output_type": "execute_result"
                }
            ],
            "source": [
                "str(df_deduplicated[df_deduplicated.drug_name == 'Dinoprostone']['smiles'])"
            ]
        },
        {
            "cell_type": "code",
            "execution_count": 440,
            "metadata": {},
            "outputs": [
                {
                    "data": {
                        "application/vnd.jupyter.widget-view+json": {
                            "model_id": "7f0e75e7cb3840aba27300f6b8a54a3a",
                            "version_major": 2,
                            "version_minor": 0
                        },
                        "text/plain": [
                            "HBox(children=(IntProgress(value=0, max=1031), HTML(value='')))"
                        ]
                    },
                    "metadata": {},
                    "output_type": "display_data"
                }
            ],
            "source": [
                "error_no = []\n",
                "for i in tqdm_notebook(range(len(df_deduplicated))):\n",
                "    \n",
                "    if '</div>' in df_deduplicated['smiles'].iloc[i] or 'href' in df_deduplicated['smiles'].iloc[i] or 'src' in df_deduplicated['smiles'].iloc[i] or '<script' in df_deduplicated['smiles'].iloc[i]:\n",
                "        df_deduplicated['smiles'][i] = '-'\n",
                "        error_no.append(i)\n",
                "        continue\n",
                "        \n",
                "    else:\n",
                "        continue"
            ]
        },
        {
            "cell_type": "code",
            "execution_count": 442,
            "metadata": {},
            "outputs": [
                {
                    "data": {
                        "text/plain": [
                            "55"
                        ]
                    },
                    "execution_count": 442,
                    "metadata": {},
                    "output_type": "execute_result"
                }
            ],
            "source": [
                "len(error_no)"
            ]
        },
        {
            "cell_type": "code",
            "execution_count": 443,
            "metadata": {},
            "outputs": [],
            "source": [
                "df_deduplicated.to_csv('../dataset/transformer/data_with_smiles/unique_data_with_smiles.csv')"
            ]
        },
        {
            "cell_type": "code",
            "execution_count": 2,
            "metadata": {},
            "outputs": [],
            "source": [
                "df_deduplicated = pd.read_csv('../dataset/transformer/from_drugbank_and_chembl_and_transformer_cleaned_v2.csv',index_col=0)"
            ]
        },
        {
            "cell_type": "code",
            "execution_count": 12,
            "metadata": {},
            "outputs": [],
            "source": [
                "df_deduplicated_index = df_deduplicated.set_index('drug_name')\n",
                "simva_smi = 'CCC(C)(C)C(=O)O[C@H]1C[C@@H](C)C=C2C=C[C@H](C)[C@H](CC[C@@H]3C[C@@H](O)CC(=O)O3)[C@@H]12'\n",
                "eze_smi = 'O[C@@H](CC[C@H]1[C@H](N(C1=O)C2=CC=C(F)C=C2)C3=CC=C(O)C=C3)C4=CC=C(F)C=C4'\n",
                "sulfa_smi = 'CC1=CC(NS(=O)(=O)C2=CC=C(N)C=C2)=NO1'\n",
                "trim_smi = 'COC1=CC(CC2=C(N)N=C(N)N=C2)=CC(OC)=C1OC'"
            ]
        },
        {
            "cell_type": "code",
            "execution_count": 4,
            "metadata": {},
            "outputs": [
                {
                    "data": {
                        "application/vnd.jupyter.widget-view+json": {
                            "model_id": "ee3b39c23db3455f90b12fc9e6c396d9",
                            "version_major": 2,
                            "version_minor": 0
                        },
                        "text/plain": [
                            "HBox(children=(IntProgress(value=0, max=154), HTML(value='')))"
                        ]
                    },
                    "metadata": {},
                    "output_type": "display_data"
                },
                {
                    "name": "stdout",
                    "output_type": "stream",
                    "text": [
                        "\n"
                    ]
                }
            ],
            "source": [
                "csv_check_again = []\n",
                "for csv in tqdm_notebook(glob('../dataset/transformer/data_without_smiles/*csv')):\n",
                "    df = pd.read_csv(csv, index_col=0)\n",
                "    for j in range(len(df)):\n",
                "        if df['drug_name'][j] == 'Simvastatin And Ezetimibe' or df['drug_name'][j] == 'Sulfamethoxazole And Trimethoprim':\n",
                "            csv_check_again.append(csv)"
            ]
        },
        {
            "cell_type": "code",
            "execution_count": 27,
            "metadata": {},
            "outputs": [
                {
                    "data": {
                        "text/plain": [
                            "['srijan']"
                        ]
                    },
                    "execution_count": 27,
                    "metadata": {},
                    "output_type": "execute_result"
                }
            ],
            "source": [
                "a= 'srijan'\n",
                "a.split(',')"
            ]
        },
        {
            "cell_type": "code",
            "execution_count": 25,
            "metadata": {},
            "outputs": [
                {
                    "data": {
                        "application/vnd.jupyter.widget-view+json": {
                            "model_id": "5fc83eb1ac9c4575b30547f170c04c18",
                            "version_major": 2,
                            "version_minor": 0
                        },
                        "text/plain": [
                            "HBox(children=(IntProgress(value=0, max=154), HTML(value='')))"
                        ]
                    },
                    "metadata": {},
                    "output_type": "display_data"
                },
                {
                    "name": "stdout",
                    "output_type": "stream",
                    "text": [
                        "\n"
                    ]
                }
            ],
            "source": [
                "import os\n",
                "not_found = []\n",
                "csv_not_found = []\n",
                "csv_empty = []\n",
                "csv_check_again = []\n",
                "for csv in tqdm_notebook(glob('../dataset/transformer/data_without_smiles/*csv')):\n",
                "    \n",
                "    df = pd.read_csv(csv, index_col=0)\n",
                "    \n",
                "    smi = []\n",
                "    dn = []\n",
                "    dt = []\n",
                "    sm = []\n",
                "    \n",
                "    if len(df) == 0:\n",
                "        out = os.path.splitext(os.path.basename(csv))[0]\n",
                "        csv_empty.append(out)\n",
                "        continue\n",
                "        \n",
                "    else:\n",
                "        for j in range(len(df)):\n",
                "            \n",
                "            try:\n",
                "                smi.append(df_deduplicated_index.loc[df['drug_name'][j]]['smiles'])\n",
                "            except:\n",
                "                smi.append('missing')\n",
                "                csv_not_found.append(csv)\n",
                "                not_found.append(j)\n",
                "                pass\n",
                "            \n",
                "            if df['drug_name'][j] == 'Simvastatin And Ezetimibe':\n",
                "                csv_check_again.append(csv)\n",
                "                split_drug = df['drug_name'][j].split('And')\n",
                "                dn.append(split_drug[0].strip())\n",
                "                dn.append(split_drug[1].strip())\n",
                "                dt.append(df['drug_type'][j])\n",
                "                dt.append(df['drug_type'][j])\n",
                "                sm.append(simva_smi)\n",
                "                sm.append(eze_smi)\n",
                "            \n",
                "            elif df['drug_name'][j] == 'Sulfamethoxazole And Trimethoprim':\n",
                "                csv_check_again.append(csv)\n",
                "                split_drug = df['drug_name'][j].split('And')\n",
                "                dn.append(split_drug[0].strip())\n",
                "                dn.append(split_drug[1].strip())\n",
                "                dt.append(df['drug_type'][j])\n",
                "                dt.append(df['drug_type'][j])\n",
                "                sm.append(sulfa_smi)\n",
                "                sm.append(trim_smi)\n",
                "                \n",
                "            else:\n",
                "                dn.append(df['drug_name'][j])\n",
                "                dt.append(df['drug_type'][j])\n",
                "                sm.append(smi[j])\n",
                "                \n",
                "        out = os.path.splitext(os.path.basename(csv))[0]\n",
                "        \n",
                "        labels = ['drug_name']\n",
                "        df_edited = pd.DataFrame(dn, columns=labels)\n",
                "        df_edited['drug_type'] = dt\n",
                "        df_edited['Smiles'] = sm\n",
                "\n",
                "        df_edited.to_csv('../dataset/transformer/data_with_smiles/'+ out +'.csv')\n"
            ]
        },
        {
            "cell_type": "code",
            "execution_count": 31,
            "metadata": {},
            "outputs": [
                {
                    "data": {
                        "application/vnd.jupyter.widget-view+json": {
                            "model_id": "e5d4a7d22427404bac5d43a9cec73c0c",
                            "version_major": 2,
                            "version_minor": 0
                        },
                        "text/plain": [
                            "HBox(children=(IntProgress(value=0, max=131), HTML(value='')))"
                        ]
                    },
                    "metadata": {},
                    "output_type": "display_data"
                },
                {
                    "name": "stdout",
                    "output_type": "stream",
                    "text": [
                        "\n"
                    ]
                }
            ],
            "source": [
                "for csv in tqdm_notebook(glob('../dataset/transformer/data_with_smiles/*csv')):\n",
                "    \n",
                "    df = pd.read_csv(csv, index_col=0)\n",
                "    dn = []\n",
                "    dt = []\n",
                "    sm = []\n",
                "    \n",
                "    for j in range(len(df)):\n",
                "        \n",
                "        if ',' in df['drug_type'][j]:\n",
                "            split_type = df['drug_type'][j].split(',')\n",
                "            \n",
                "            for k in range(len(split_type)):\n",
                "                dn.append(df['drug_name'][j])\n",
                "                dt.append(split_type[k].strip())\n",
                "                sm.append(df['Smiles'][j])\n",
                "            \n",
                "        else:\n",
                "            dn.append(df['drug_name'][j])\n",
                "            dt.append(df['drug_type'][j])\n",
                "            sm.append(df['Smiles'][j])\n",
                "        \n",
                "    out = os.path.splitext(os.path.basename(csv))[0]\n",
                "\n",
                "    labels = ['drug_name']\n",
                "    df_edited = pd.DataFrame(dn, columns=labels)\n",
                "    df_edited['drug_type'] = dt\n",
                "    df_edited['Smiles'] = sm\n",
                "\n",
                "    df_edited.to_csv('../dataset/transformer/data_with_smiles/'+ out +'.csv')"
            ]
        },
        {
            "cell_type": "code",
            "execution_count": 32,
            "metadata": {},
            "outputs": [
                {
                    "data": {
                        "application/vnd.jupyter.widget-view+json": {
                            "model_id": "77b1cd6483b5403183fa4b341663b410",
                            "version_major": 2,
                            "version_minor": 0
                        },
                        "text/plain": [
                            "HBox(children=(IntProgress(value=0, max=131), HTML(value='')))"
                        ]
                    },
                    "metadata": {},
                    "output_type": "display_data"
                },
                {
                    "name": "stdout",
                    "output_type": "stream",
                    "text": [
                        "\n"
                    ]
                }
            ],
            "source": [
                "a = []\n",
                "for csv in tqdm_notebook(glob('../dataset/transformer/data_with_smiles/*csv')):\n",
                "    df = pd.read_csv(csv, index_col=0)\n",
                "    for j in range(len(df)):\n",
                "        \n",
                "#         if ',' in df['drug_type'][j]:\n",
                "        a.append(df['drug_type'][j])"
            ]
        },
        {
            "cell_type": "code",
            "execution_count": 34,
            "metadata": {},
            "outputs": [
                {
                    "data": {
                        "text/plain": [
                            "{'Inducer', 'Inhibitor', 'Substrate'}"
                        ]
                    },
                    "execution_count": 34,
                    "metadata": {},
                    "output_type": "execute_result"
                }
            ],
            "source": [
                "set(a)"
            ]
        },
        {
            "cell_type": "code",
            "execution_count": 15,
            "metadata": {},
            "outputs": [
                {
                    "data": {
                        "text/plain": [
                            "['../dataset/transformer/data_without_smiles/2D6.csv',\n",
                            " '../dataset/transformer/data_without_smiles/2C9.csv',\n",
                            " '../dataset/transformer/data_without_smiles/2C9.csv',\n",
                            " '../dataset/transformer/data_without_smiles/2C8.csv',\n",
                            " '../dataset/transformer/data_without_smiles/3A4.csv',\n",
                            " '../dataset/transformer/data_without_smiles/S_mephenytoin_4_hydroxylase.csv']"
                        ]
                    },
                    "execution_count": 15,
                    "metadata": {},
                    "output_type": "execute_result"
                }
            ],
            "source": [
                "csv_check_again"
            ]
        },
        {
            "cell_type": "code",
            "execution_count": null,
            "metadata": {},
            "outputs": [],
            "source": []
        },
        {
            "cell_type": "code",
            "execution_count": 460,
            "metadata": {},
            "outputs": [],
            "source": [
                "missing_smi_drug_name = []\n",
                "for i in range(len(df_deduplicated)):\n",
                "    if df_deduplicated['smiles'][i] == '-':\n",
                "        missing_smi_drug_name.append(df_deduplicated['drug_name'][i])\n",
                "        "
            ]
        },
        {
            "cell_type": "code",
            "execution_count": 461,
            "metadata": {},
            "outputs": [
                {
                    "data": {
                        "text/plain": [
                            "55"
                        ]
                    },
                    "execution_count": 461,
                    "metadata": {},
                    "output_type": "execute_result"
                }
            ],
            "source": [
                "len(missing_smi_drug_name)"
            ]
        },
        {
            "cell_type": "code",
            "execution_count": 494,
            "metadata": {},
            "outputs": [
                {
                    "data": {
                        "application/vnd.jupyter.widget-view+json": {
                            "model_id": "294d6e4ecd2a47fe9716848d467cce13",
                            "version_major": 2,
                            "version_minor": 0
                        },
                        "text/plain": [
                            "HBox(children=(IntProgress(value=0, max=55), HTML(value='')))"
                        ]
                    },
                    "metadata": {},
                    "output_type": "display_data"
                }
            ],
            "source": [
                "get_missing_smi_from_drugBank = []\n",
                "error_dr = []\n",
                "for i in tqdm_notebook(range(len(missing_smi_drug_name))):\n",
                "    \n",
                "    if missing_smi_drug_name[i] == 'Selenium Compounds' or missing_smi_drug_name[i] == 'Simvastatin And Ezetimibe' or missing_smi_drug_name[i] == 'Thiamine (vit B1)' or missing_smi_drug_name[i] == 'Sulfamethoxazole And Trimethoprim':\n",
                "        get_missing_smi_from_drugBank.append('check_again')\n",
                "        continue\n",
                "        \n",
                "    else:\n",
                "        try:\n",
                "            url = 'https://www.drugbank.ca/unearth/q?utf8=%E2%9C%93&query='+ missing_smi_drug_name[i] + '&searcher=drugs'\n",
                "            result = requests.get(url)\n",
                "            c = result.content\n",
                "            soup = BeautifulSoup(c)\n",
                "            soup_string = str(soup)\n",
                "            get_missing_smi_from_drugBank.append(soup_string[soup_string.find('>SMILES</dt>')+61:soup_string.find('</div>', soup_string.find('>SMILES</dt>')+40)])\n",
                "\n",
                "        except:\n",
                "            error_dr.append(missing_smi_drug_name[i])\n",
                "            get_missing_smi_from_drugBank.append('-')\n",
                "            pass\n",
                "# str5 = soup_string[soup_string.find('>Protein binding<')+55:soup_string.find('>Metabolism<')-39]\n"
            ]
        },
        {
            "cell_type": "code",
            "execution_count": 496,
            "metadata": {},
            "outputs": [],
            "source": [
                "dr_check_again = []\n",
                "for i in range(len(get_missing_smi_from_drugBank)):\n",
                "    if 'href' in get_missing_smi_from_drugBank[i] or '</span>' in get_missing_smi_from_drugBank[i]:\n",
                "        get_missing_smi_from_drugBank[i] = 'garbage'\n",
                "        dr_check_again.append(missing_smi_drug_name[i])"
            ]
        },
        {
            "cell_type": "code",
            "execution_count": 501,
            "metadata": {},
            "outputs": [],
            "source": [
                "for i in range(len(get_missing_smi_from_drugBank)):\n",
                "    if get_missing_smi_from_drugBank[i] == 'garbage':\n",
                "        get_missing_smi_from_drugBank[i] = 'neither_in_drugbank_nor_in_supercyp'"
            ]
        },
        {
            "cell_type": "code",
            "execution_count": 503,
            "metadata": {},
            "outputs": [],
            "source": [
                "#thiamine_smi = 'CC1=NC(N)=C(C[N+]2=CSC(CCO)=C2C)C=N1'\n",
                "for i in range(len(missing_smi_drug_name)):\n",
                "    if missing_smi_drug_name[i] == 'Thiamine (vit B1)':\n",
                "        get_missing_smi_from_drugBank[i] = 'CC1=NC(N)=C(C[N+]2=CSC(CCO)=C2C)C=N1'"
            ]
        },
        {
            "cell_type": "code",
            "execution_count": 505,
            "metadata": {},
            "outputs": [],
            "source": [
                "# get_missing_smi_from_drugBank"
            ]
        },
        {
            "cell_type": "code",
            "execution_count": 506,
            "metadata": {},
            "outputs": [],
            "source": [
                "# missing_smi_drug_name"
            ]
        },
        {
            "cell_type": "code",
            "execution_count": 507,
            "metadata": {},
            "outputs": [],
            "source": [
                "labels = ['missing_drug_name']\n",
                "d = pd.DataFrame(missing_smi_drug_name, columns=labels)\n",
                "d['smi_from_drugbank'] = get_missing_smi_from_drugBank\n",
                "d.to_csv('../dataset/transformer/smi_from_drugbank.csv')"
            ]
        },
        {
            "cell_type": "code",
            "execution_count": 511,
            "metadata": {},
            "outputs": [
                {
                    "data": {
                        "application/vnd.jupyter.widget-view+json": {
                            "model_id": "d32ae9a46a1a4f84bf978a592ee75992",
                            "version_major": 2,
                            "version_minor": 0
                        },
                        "text/plain": [
                            "HBox(children=(IntProgress(value=0, max=1031), HTML(value='')))"
                        ]
                    },
                    "metadata": {},
                    "output_type": "display_data"
                }
            ],
            "source": [
                "d_index = d.set_index('missing_drug_name')\n",
                "for i in tqdm_notebook(range(len(df_deduplicated))):\n",
                "    try:\n",
                "        smi = d_index.loc[df_deduplicated['drug_name'][i]]['smi_from_drugbank']\n",
                "        df_deduplicated['smiles'][i] = smi\n",
                "    except:\n",
                "        pass"
            ]
        },
        {
            "cell_type": "code",
            "execution_count": 512,
            "metadata": {},
            "outputs": [
                {
                    "data": {
                        "text/html": [
                            "<div>\n",
                            "<style scoped>\n",
                            "    .dataframe tbody tr th:only-of-type {\n",
                            "        vertical-align: middle;\n",
                            "    }\n",
                            "\n",
                            "    .dataframe tbody tr th {\n",
                            "        vertical-align: top;\n",
                            "    }\n",
                            "\n",
                            "    .dataframe thead th {\n",
                            "        text-align: right;\n",
                            "    }\n",
                            "</style>\n",
                            "<table border=\"1\" class=\"dataframe\">\n",
                            "  <thead>\n",
                            "    <tr style=\"text-align: right;\">\n",
                            "      <th></th>\n",
                            "      <th>drug_name</th>\n",
                            "      <th>drug_type</th>\n",
                            "      <th>smiles</th>\n",
                            "    </tr>\n",
                            "  </thead>\n",
                            "  <tbody>\n",
                            "    <tr>\n",
                            "      <th>617</th>\n",
                            "      <td>Thiamine (vit B1)</td>\n",
                            "      <td>Inducer</td>\n",
                            "      <td>CC1=NC(N)=C(C[N+]2=CSC(CCO)=C2C)C=N1</td>\n",
                            "    </tr>\n",
                            "  </tbody>\n",
                            "</table>\n",
                            "</div>"
                        ],
                        "text/plain": [
                            "             drug_name drug_type                                smiles\n",
                            "617  Thiamine (vit B1)   Inducer  CC1=NC(N)=C(C[N+]2=CSC(CCO)=C2C)C=N1"
                        ]
                    },
                    "execution_count": 512,
                    "metadata": {},
                    "output_type": "execute_result"
                }
            ],
            "source": [
                "df_deduplicated[df_deduplicated.drug_name == 'Thiamine (vit B1)']"
            ]
        },
        {
            "cell_type": "code",
            "execution_count": 513,
            "metadata": {},
            "outputs": [],
            "source": [
                "df_deduplicated.to_csv('../dataset/transformer/from_drugbank_and_transformer_cleaned_v1.csv')"
            ]
        },
        {
            "cell_type": "code",
            "execution_count": 516,
            "metadata": {},
            "outputs": [],
            "source": [
                "#below_three_from_pubchem\n",
                "selenium_smi = '[Se]'\n",
                "glucagon_smi = 'CC(C)CC(C(=O)NC(CCSC)C(=O)NC(CC(=O)N)C(=O)NC(C(C)O)C(=O)O)NC(=O)C(CC1=CNC2=CC=CC=C21)NC(=O)C(CCC(=O)N)NC(=O)C(C(C)C)NC(=O)C(CC3=CC=CC=C3)NC(=O)C(CC(=O)O)NC(=O)C(CCC(=O)N)NC(=O)C(C)NC(=O)C(CCCNC(=N)N)NC(=O)C(CCCNC(=N)N)NC(=O)C(CO)NC(=O)C(CC(=O)O)NC(=O)C(CC(C)C)NC(=O)C(CC4=CC=C(C=C4)O)NC(=O)C(CCCCN)NC(=O)C(CO)NC(=O)C(CC5=CC=C(C=C5)O)NC(=O)C(CC(=O)O)NC(=O)C(CO)NC(=O)C(C(C)O)NC(=O)C(CC6=CC=CC=C6)NC(=O)C(C(C)O)NC(=O)CNC(=O)C(CCC(=O)N)NC(=O)C(CO)NC(=O)C(CC7=CN=CN7)N'\n",
                "bemiparin_smi = 'C1=CC=C(C=C1)C=CC(=O)O'\n",
                "#below_two_from_chembl\n",
                "teicoplanin_smi = 'CC(=O)N[C@H]1[C@@H](O)[C@H](O)[C@H](CO)O[C@H]1O[C@H]2[C@@H]3NC(=O)[C@H](NC(=O)[C@@H]4NC(=O)[C@H]5NC(=O)[C@@H](Cc6ccc(Oc7cc4cc(Oc8ccc2cc8Cl)c7O[C@@H]9O[C@@H](CO)[C@@H](O)[C@H](O)[C@@H]9NC(=O)C)c(Cl)c6)NC(=O)[C@H](N)c%10ccc(O)c(Oc%11cc(O)cc5c%11)c%10)c%12ccc(O)c(c%12)c%13c(O[C@H]%14O[C@H](CO)[C@@H](O)[C@@H](O)[C@@H]%14O)cc(O)cc%13[C@H](NC3=O)C(=O)O'\n",
                "acriflavimium_chloride_smi = 'Cl.[Cl-].C[n+]1c2cc(N)ccc2cc3ccc(N)cc13.Nc4ccc5cc6ccc(N)cc6nc5c4'"
            ]
        },
        {
            "cell_type": "code",
            "execution_count": 517,
            "metadata": {},
            "outputs": [
                {
                    "data": {
                        "application/vnd.jupyter.widget-view+json": {
                            "model_id": "9f8d29249f1e4fa1ad6ac73d1b216b6f",
                            "version_major": 2,
                            "version_minor": 0
                        },
                        "text/plain": [
                            "HBox(children=(IntProgress(value=0, max=1031), HTML(value='')))"
                        ]
                    },
                    "metadata": {},
                    "output_type": "display_data"
                }
            ],
            "source": [
                "c = 0\n",
                "for i in tqdm_notebook(range(len(df_deduplicated))):\n",
                "    \n",
                "    if df_deduplicated['drug_name'][i] == 'Selenium Compounds':\n",
                "        df_deduplicated['smiles'][i] = selenium_smi\n",
                "        continue\n",
                "        \n",
                "    elif df_deduplicated['drug_name'][i] == 'Glucagon':\n",
                "        df_deduplicated['smiles'][i] = glucagon_smi\n",
                "        continue\n",
                "        \n",
                "    elif df_deduplicated['drug_name'][i] == 'Bemiparin':\n",
                "        df_deduplicated['smiles'][i] = bemiparin_smi\n",
                "        continue\n",
                "        \n",
                "    elif df_deduplicated['drug_name'][i] == 'Teicoplanin':\n",
                "        df_deduplicated['smiles'][i] = teicoplanin_smi\n",
                "        continue\n",
                "        \n",
                "    elif df_deduplicated['drug_name'][i] == 'Acriflavinium Chloride':\n",
                "        df_deduplicated['smiles'][i] = acriflavimium_chloride_smi\n",
                "        continue\n",
                "        \n",
                "    elif df_deduplicated['smiles'][i] == 'check_again':\n",
                "        c = c + 1\n",
                "        continue\n",
                "\n",
                "    else:\n",
                "        continue"
            ]
        },
        {
            "cell_type": "code",
            "execution_count": 518,
            "metadata": {},
            "outputs": [
                {
                    "data": {
                        "text/plain": [
                            "2"
                        ]
                    },
                    "execution_count": 518,
                    "metadata": {},
                    "output_type": "execute_result"
                }
            ],
            "source": [
                "c"
            ]
        },
        {
            "cell_type": "code",
            "execution_count": 519,
            "metadata": {},
            "outputs": [],
            "source": [
                "df_deduplicated.to_csv('../dataset/transformer/from_drugbank_and_chembl_and_transformer_cleaned_v2.csv')"
            ]
        },
        {
            "cell_type": "code",
            "execution_count": null,
            "metadata": {},
            "outputs": [],
            "source": []
        }
    ],
    "metadata": {
        "kernelspec": {
            "display_name": "Python [conda env:seqcomhol]",
            "language": "python",
            "name": "conda-env-seqcomhol-py"
        },
        "language_info": {
            "codemirror_mode": {
                "name": "ipython",
                "version": 3
            },
            "file_extension": ".py",
            "mimetype": "text/x-python",
            "name": "python",
            "nbconvert_exporter": "python",
            "pygments_lexer": "ipython3",
            "version": "3.6.5"
        }
    },
    "nbformat": 4,
    "nbformat_minor": 2
}