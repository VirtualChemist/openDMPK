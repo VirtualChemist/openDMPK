{
    "cells": [
        {
            "cell_type": "code",
            "execution_count": null,
            "metadata": {},
            "outputs": [],
            "source": [
                "#######################################################################################\n",
                "# Author: Srijan Verma                                                              #\n",
                "# School of Pharmacy                                                                #\n",
                "# Sirimulla Research Group [http://www.sirimullaresearchgroup.com/]                 #\n",
                "# The University of Texas at El Paso, TX, USA                                       #\n",
                "# Last modified: 19/12/2019                                                         #\n",
                "# Copyright (c) 2019 Srijan Verma and Sirimulla Research Group, under MIT license   #\n",
                "#######################################################################################"
            ]
        },
        {
            "cell_type": "code",
            "execution_count": 1,
            "metadata": {},
            "outputs": [],
            "source": [
                "import mysql.connector\n",
                "import json\n",
                "import pandas as pd"
            ]
        },
        {
            "cell_type": "code",
            "execution_count": 4,
            "metadata": {},
            "outputs": [],
            "source": [
                "USER = 'tcrd'\n",
                "HOST = '129.108.3.163'\n",
                "PASS = 'tcrd'\n",
                "DB = 'chembl25'\n",
                "\n",
                "conn = mysql.connector.connect (user=USER, password=PASS,\n",
                "                               host=HOST,database=DB,buffered=True)\n",
                "cursor = conn.cursor()\n",
                "\n",
                "sql = \"show tables\"\n",
                "df = pd.read_sql(sql, conn)\n",
                "df.to_csv('/home/exxact/Desktop/srijan_thesis/dataset/chembl25_data_in_csv/chembl25_all_data/tables_in_chembl25.csv')"
            ]
        },
        {
            "cell_type": "code",
            "execution_count": 5,
            "metadata": {},
            "outputs": [],
            "source": [
                "chembl_tables = []"
            ]
        },
        {
            "cell_type": "code",
            "execution_count": 6,
            "metadata": {},
            "outputs": [],
            "source": [
                "chembl_tables = df['Tables_in_chembl25'].tolist()"
            ]
        },
        {
            "cell_type": "code",
            "execution_count": 7,
            "metadata": {},
            "outputs": [],
            "source": [
                "from tqdm import tqdm"
            ]
        },
        {
            "cell_type": "code",
            "execution_count": 7,
            "metadata": {},
            "outputs": [],
            "source": [
                "def convert_chembl25_all_sql_to_csv():\n",
                "    for i in tqdm(range(len(chembl_tables))):\n",
                "        sql = 'select * from ' + chembl_tables[i] \n",
                "        df = pd.read_sql(sql, conn)\n",
                "        df.to_csv('/home/exxact/Desktop/srijan_thesis/dataset/chembl25_data_in_csv/chembl25_all_data/' + chembl_tables[i] + '.csv')"
            ]
        },
        {
            "cell_type": "code",
            "execution_count": 8,
            "metadata": {},
            "outputs": [
                {
                    "name": "stderr",
                    "output_type": "stream",
                    "text": [
                        "100%|\u2588\u2588\u2588\u2588\u2588\u2588\u2588\u2588\u2588\u2588| 77/77 [18:05<00:00, 14.10s/it]  \n"
                    ]
                }
            ],
            "source": [
                "convert_chembl25_all_sql_to_csv()"
            ]
        },
        {
            "cell_type": "markdown",
            "metadata": {},
            "source": [
                "## For saving first 10 rows of all tables (cells below)"
            ]
        },
        {
            "cell_type": "code",
            "execution_count": 2,
            "metadata": {},
            "outputs": [],
            "source": [
                "USER = 'tcrd'\n",
                "HOST = '129.108.3.163'\n",
                "PASS = 'tcrd'\n",
                "DB = 'chembl25'\n",
                "\n",
                "conn = mysql.connector.connect (user=USER, password=PASS,\n",
                "                               host=HOST,database=DB,buffered=True)\n",
                "cursor = conn.cursor()"
            ]
        },
        {
            "cell_type": "code",
            "execution_count": 8,
            "metadata": {},
            "outputs": [],
            "source": [
                "def convert_chembl25_first_ten_sql_to_csv():\n",
                "    for i in tqdm(range(len(chembl_tables))):\n",
                "        sql = 'select * from ' + chembl_tables[i] + ' limit 10'\n",
                "        df = pd.read_sql(sql, conn)\n",
                "        df.to_csv('/home/exxact/Desktop/srijan_thesis/dataset/chembl25_data_in_csv/chembl25_all_data_first_ten_rows/' + chembl_tables[i] + '.csv')"
            ]
        },
        {
            "cell_type": "code",
            "execution_count": 10,
            "metadata": {},
            "outputs": [
                {
                    "name": "stderr",
                    "output_type": "stream",
                    "text": [
                        "100%|\u2588\u2588\u2588\u2588\u2588\u2588\u2588\u2588\u2588\u2588| 77/77 [00:00<00:00, 81.76it/s]"
                    ]
                },
                {
                    "name": "stdout",
                    "output_type": "stream",
                    "text": [
                        "CPU times: user 316 ms, sys: 17.2 ms, total: 333 ms\n",
                        "Wall time: 946 ms\n"
                    ]
                },
                {
                    "name": "stderr",
                    "output_type": "stream",
                    "text": [
                        "\n"
                    ]
                }
            ],
            "source": [
                "%%time\n",
                "convert_chembl25_first_ten_sql_to_csv()"
            ]
        },
        {
            "cell_type": "code",
            "execution_count": null,
            "metadata": {},
            "outputs": [],
            "source": []
        }
    ],
    "metadata": {
        "kernelspec": {
            "display_name": "Python [conda env:thesis]",
            "language": "python",
            "name": "conda-env-thesis-py"
        },
        "language_info": {
            "codemirror_mode": {
                "name": "ipython",
                "version": 3
            },
            "file_extension": ".py",
            "mimetype": "text/x-python",
            "name": "python",
            "nbconvert_exporter": "python",
            "pygments_lexer": "ipython3",
            "version": "3.6.9"
        }
    },
    "nbformat": 4,
    "nbformat_minor": 2
}