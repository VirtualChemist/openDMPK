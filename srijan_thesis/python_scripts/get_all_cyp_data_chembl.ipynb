{
    "cells": [
        {
            "cell_type": "code",
            "execution_count": null,
            "metadata": {},
            "outputs": [],
            "source": [
                "#######################################################################################\n",
                "# Author: Srijan Verma                                                              #\n",
                "# School of Pharmacy                                                                #\n",
                "# Sirimulla Research Group [http://www.sirimullaresearchgroup.com/]                 #\n",
                "# The University of Texas at El Paso, TX, USA                                       #\n",
                "# Last modified: 19/12/2019                                                         #\n",
                "# Copyright (c) 2019 Srijan Verma and Sirimulla Research Group, under MIT license   #\n",
                "#######################################################################################"
            ]
        },
        {
            "cell_type": "code",
            "execution_count": null,
            "metadata": {},
            "outputs": [],
            "source": [
                "SELECT\n",
                "md.chembl_id as compound_id,\n",
                "ass.chembl_id as assay_id,\n",
                "md.molregno as compound_molregno,\n",
                "td.pref_name,\n",
                "ass.assay_organism,\n",
                "td.organism as td_organism,\n",
                "ass.relationship_type,\n",
                "act.standard_relation,\n",
                "act.standard_value,\n",
                "act.standard_units,\n",
                "act.standard_type,\n",
                "act.activity_comment,\n",
                "act.doc_id,\n",
                "td.tid,\n",
                "tt.parent_type,\n",
                "tt.target_type,\n",
                "ass.confidence_score,\n",
                "cs.canonical_smiles as smiles\n",
                "FROM target_dictionary td\n",
                "JOIN target_type tt ON tt.target_type = td.target_type\n",
                "JOIN assays ass ON td.tid = ass.tid\n",
                "JOIN activities act ON ass.assay_id = act.assay_id\n",
                "JOIN molecule_dictionary md ON act.molregno = md.molregno\n",
                "JOIN compound_structures cs ON md.molregno = cs.molregno\n",
                "WHERE td.organism = 'Homo sapiens' AND td.pref_name = 'Cytochrome P450 3A4' AND ass.relationship_type = 'D'"
            ]
        },
        {
            "cell_type": "code",
            "execution_count": 1,
            "metadata": {},
            "outputs": [],
            "source": [
                "import mysql.connector\n",
                "import json\n",
                "import pandas as pd"
            ]
        },
        {
            "cell_type": "code",
            "execution_count": 2,
            "metadata": {},
            "outputs": [],
            "source": [
                "USER = 'tcrd'\n",
                "HOST = '129.108.3.163'\n",
                "PASS = 'tcrd'\n",
                "DB = 'chembl25'\n",
                "\n",
                "conn = mysql.connector.connect (user=USER, password=PASS,\n",
                "                               host=HOST,database=DB,buffered=True)\n",
                "cursor = conn.cursor()"
            ]
        },
        {
            "cell_type": "code",
            "execution_count": 3,
            "metadata": {},
            "outputs": [],
            "source": [
                "sql = 'Select * from target_dictionary'\n",
                "df_td = pd.read_sql(sql, conn)"
            ]
        },
        {
            "cell_type": "code",
            "execution_count": 4,
            "metadata": {},
            "outputs": [
                {
                    "data": {
                        "text/html": [
                            "<div>\n",
                            "<style scoped>\n",
                            "    .dataframe tbody tr th:only-of-type {\n",
                            "        vertical-align: middle;\n",
                            "    }\n",
                            "\n",
                            "    .dataframe tbody tr th {\n",
                            "        vertical-align: top;\n",
                            "    }\n",
                            "\n",
                            "    .dataframe thead th {\n",
                            "        text-align: right;\n",
                            "    }\n",
                            "</style>\n",
                            "<table border=\"1\" class=\"dataframe\">\n",
                            "  <thead>\n",
                            "    <tr style=\"text-align: right;\">\n",
                            "      <th></th>\n",
                            "      <th>tid</th>\n",
                            "      <th>target_type</th>\n",
                            "      <th>pref_name</th>\n",
                            "      <th>tax_id</th>\n",
                            "      <th>organism</th>\n",
                            "      <th>chembl_id</th>\n",
                            "      <th>species_group_flag</th>\n",
                            "    </tr>\n",
                            "  </thead>\n",
                            "  <tbody>\n",
                            "    <tr>\n",
                            "      <td>0</td>\n",
                            "      <td>1</td>\n",
                            "      <td>SINGLE PROTEIN</td>\n",
                            "      <td>Maltase-glucoamylase</td>\n",
                            "      <td>9606.0</td>\n",
                            "      <td>Homo sapiens</td>\n",
                            "      <td>CHEMBL2074</td>\n",
                            "      <td>0</td>\n",
                            "    </tr>\n",
                            "    <tr>\n",
                            "      <td>1</td>\n",
                            "      <td>2</td>\n",
                            "      <td>SINGLE PROTEIN</td>\n",
                            "      <td>Sulfonylurea receptor 2</td>\n",
                            "      <td>9606.0</td>\n",
                            "      <td>Homo sapiens</td>\n",
                            "      <td>CHEMBL1971</td>\n",
                            "      <td>0</td>\n",
                            "    </tr>\n",
                            "    <tr>\n",
                            "      <td>2</td>\n",
                            "      <td>3</td>\n",
                            "      <td>SINGLE PROTEIN</td>\n",
                            "      <td>Phosphodiesterase 5A</td>\n",
                            "      <td>9606.0</td>\n",
                            "      <td>Homo sapiens</td>\n",
                            "      <td>CHEMBL1827</td>\n",
                            "      <td>0</td>\n",
                            "    </tr>\n",
                            "    <tr>\n",
                            "      <td>3</td>\n",
                            "      <td>4</td>\n",
                            "      <td>SINGLE PROTEIN</td>\n",
                            "      <td>Voltage-gated T-type calcium channel alpha-1H ...</td>\n",
                            "      <td>9606.0</td>\n",
                            "      <td>Homo sapiens</td>\n",
                            "      <td>CHEMBL1859</td>\n",
                            "      <td>0</td>\n",
                            "    </tr>\n",
                            "    <tr>\n",
                            "      <td>4</td>\n",
                            "      <td>5</td>\n",
                            "      <td>SINGLE PROTEIN</td>\n",
                            "      <td>Nicotinic acetylcholine receptor alpha subunit</td>\n",
                            "      <td>6253.0</td>\n",
                            "      <td>Ascaris suum</td>\n",
                            "      <td>CHEMBL1884</td>\n",
                            "      <td>0</td>\n",
                            "    </tr>\n",
                            "  </tbody>\n",
                            "</table>\n",
                            "</div>"
                        ],
                        "text/plain": [
                            "   tid     target_type                                          pref_name  \\\n",
                            "0    1  SINGLE PROTEIN                               Maltase-glucoamylase   \n",
                            "1    2  SINGLE PROTEIN                            Sulfonylurea receptor 2   \n",
                            "2    3  SINGLE PROTEIN                               Phosphodiesterase 5A   \n",
                            "3    4  SINGLE PROTEIN  Voltage-gated T-type calcium channel alpha-1H ...   \n",
                            "4    5  SINGLE PROTEIN     Nicotinic acetylcholine receptor alpha subunit   \n",
                            "\n",
                            "   tax_id      organism   chembl_id  species_group_flag  \n",
                            "0  9606.0  Homo sapiens  CHEMBL2074                   0  \n",
                            "1  9606.0  Homo sapiens  CHEMBL1971                   0  \n",
                            "2  9606.0  Homo sapiens  CHEMBL1827                   0  \n",
                            "3  9606.0  Homo sapiens  CHEMBL1859                   0  \n",
                            "4  6253.0  Ascaris suum  CHEMBL1884                   0  "
                        ]
                    },
                    "execution_count": 4,
                    "metadata": {},
                    "output_type": "execute_result"
                }
            ],
            "source": [
                "df_td.head()\n"
            ]
        },
        {
            "cell_type": "code",
            "execution_count": 5,
            "metadata": {},
            "outputs": [
                {
                    "data": {
                        "text/plain": [
                            "array(['Homo sapiens', 'Ascaris suum', 'Escherichia coli K-12', ...,\n",
                            "       'Staphylococcus aureus (strain USA300)',\n",
                            "       'Staphylococcus aureus (strain Mu50 / ATCC 700699)',\n",
                            "       'Pseudomonas putida (strain ATCC 47054 / DSM 6125 / NCIMB 11950 /KT2440)'],\n",
                            "      dtype=object)"
                        ]
                    },
                    "execution_count": 5,
                    "metadata": {},
                    "output_type": "execute_result"
                }
            ],
            "source": [
                "df_td['organism'].unique()"
            ]
        },
        {
            "cell_type": "code",
            "execution_count": 6,
            "metadata": {},
            "outputs": [
                {
                    "data": {
                        "text/plain": [
                            "2494"
                        ]
                    },
                    "execution_count": 6,
                    "metadata": {},
                    "output_type": "execute_result"
                }
            ],
            "source": [
                "len(df_td['organism'].unique())"
            ]
        },
        {
            "cell_type": "code",
            "execution_count": 7,
            "metadata": {},
            "outputs": [
                {
                    "data": {
                        "text/plain": [
                            "9882"
                        ]
                    },
                    "execution_count": 7,
                    "metadata": {},
                    "output_type": "execute_result"
                }
            ],
            "source": [
                "len(df_td['pref_name'].unique())"
            ]
        },
        {
            "cell_type": "code",
            "execution_count": 8,
            "metadata": {},
            "outputs": [],
            "source": [
                "drop_index = []\n",
                "for i in range(len(df_td)):\n",
                "    if df_td['organism'][i] == 'Homo sapiens':\n",
                "        continue\n",
                "    else:\n",
                "        drop_index.append(i)"
            ]
        },
        {
            "cell_type": "code",
            "execution_count": 9,
            "metadata": {},
            "outputs": [],
            "source": [
                "#drop_index"
            ]
        },
        {
            "cell_type": "code",
            "execution_count": 10,
            "metadata": {},
            "outputs": [],
            "source": [
                "df_td.drop(drop_index,axis=0,inplace=True)"
            ]
        },
        {
            "cell_type": "code",
            "execution_count": 11,
            "metadata": {},
            "outputs": [],
            "source": [
                "df_td.reset_index(drop=True,inplace=True)"
            ]
        },
        {
            "cell_type": "code",
            "execution_count": 12,
            "metadata": {},
            "outputs": [
                {
                    "data": {
                        "text/plain": [
                            "1"
                        ]
                    },
                    "execution_count": 12,
                    "metadata": {},
                    "output_type": "execute_result"
                }
            ],
            "source": [
                "len(df_td['organism'].unique())"
            ]
        },
        {
            "cell_type": "code",
            "execution_count": 13,
            "metadata": {},
            "outputs": [
                {
                    "data": {
                        "text/plain": [
                            "5066"
                        ]
                    },
                    "execution_count": 13,
                    "metadata": {},
                    "output_type": "execute_result"
                }
            ],
            "source": [
                "len(df_td['pref_name'].unique())"
            ]
        },
        {
            "cell_type": "code",
            "execution_count": 14,
            "metadata": {},
            "outputs": [],
            "source": [
                "drop_index = []\n",
                "for i in range(len(df_td)):\n",
                "    if 'Cytochrome' in df_td['pref_name'][i] or 'cytochrome' in df_td['pref_name'][i]:\n",
                "        continue\n",
                "    else:\n",
                "        drop_index.append(i)"
            ]
        },
        {
            "cell_type": "code",
            "execution_count": 15,
            "metadata": {},
            "outputs": [],
            "source": [
                "df_td.drop(drop_index,axis=0,inplace=True)\n",
                "\n",
                "df_td.reset_index(drop=True,inplace=True)"
            ]
        },
        {
            "cell_type": "code",
            "execution_count": 16,
            "metadata": {},
            "outputs": [
                {
                    "data": {
                        "text/plain": [
                            "47"
                        ]
                    },
                    "execution_count": 16,
                    "metadata": {},
                    "output_type": "execute_result"
                }
            ],
            "source": [
                "len(df_td['pref_name'].unique())"
            ]
        },
        {
            "cell_type": "code",
            "execution_count": 17,
            "metadata": {},
            "outputs": [],
            "source": [
                "homo_cyt_list = list(df_td['pref_name'].unique())"
            ]
        },
        {
            "cell_type": "code",
            "execution_count": 18,
            "metadata": {},
            "outputs": [],
            "source": [
                "from tqdm import tqdm_notebook"
            ]
        },
        {
            "cell_type": "code",
            "execution_count": 19,
            "metadata": {},
            "outputs": [
                {
                    "data": {
                        "application/vnd.jupyter.widget-view+json": {
                            "model_id": "e6bc6887331642868d4df6165e7e39be",
                            "version_major": 2,
                            "version_minor": 0
                        },
                        "text/plain": [
                            "HBox(children=(IntProgress(value=0, max=47), HTML(value='')))"
                        ]
                    },
                    "metadata": {},
                    "output_type": "display_data"
                },
                {
                    "name": "stdout",
                    "output_type": "stream",
                    "text": [
                        "\n"
                    ]
                }
            ],
            "source": [
                "for i in tqdm_notebook(range(len(homo_cyt_list))):\n",
                "    sql = (\"\"\"\\\n",
                "        SELECT md.chembl_id as compound_id,\n",
                "        ass.chembl_id as assay_id,\n",
                "        md.molregno as compound_molregno,\n",
                "        td.pref_name,\n",
                "        ass.assay_organism,\n",
                "        td.organism as td_organism,\n",
                "        ass.relationship_type,\n",
                "        act.standard_relation,\n",
                "        act.standard_value,\n",
                "        act.standard_units,\n",
                "        act.standard_type,\n",
                "        act.activity_comment,\n",
                "        act.doc_id,\n",
                "        td.tid,\n",
                "        tt.parent_type,\n",
                "        tt.target_type,\n",
                "        ass.confidence_score,\n",
                "        cs.canonical_smiles as smiles\n",
                "        FROM target_dictionary td\n",
                "        JOIN target_type tt ON tt.target_type = td.target_type\n",
                "        JOIN assays ass ON td.tid = ass.tid\n",
                "        JOIN activities act ON ass.assay_id = act.assay_id\n",
                "        JOIN molecule_dictionary md ON act.molregno = md.molregno\n",
                "        JOIN compound_structures cs ON md.molregno = cs.molregno\n",
                "        WHERE td.organism = 'Homo sapiens' AND td.pref_name = '%s'\"\"\" % homo_cyt_list[i]\n",
                "          )\n",
                "    conn = mysql.connector.connect (user=USER, password=PASS,\n",
                "                                   host=HOST,database=DB,buffered=True)\n",
                "    cursor = conn.cursor()\n",
                "    \n",
                "    df = pd.read_sql_query(sql, conn)\n",
                "  \n",
                "    homo_cyt_list[i] = homo_cyt_list[i].replace(',', '_')\n",
                "    homo_cyt_list[i] = homo_cyt_list[i].replace('/', '_')\n",
                "    homo_cyt_list[i] = homo_cyt_list[i].replace(' ', '_')\n",
                "    homo_cyt_list[i] = homo_cyt_list[i].replace(')', '_')\n",
                "    homo_cyt_list[i] = homo_cyt_list[i].replace('(', '_')\n",
                "    homo_cyt_list[i] = homo_cyt_list[i].replace('-', '_')\n",
                "    df.to_csv('../dataset/cyt_homo_data/sql_data/all_relation/'+homo_cyt_list[i]+'.csv')"
            ]
        },
        {
            "cell_type": "code",
            "execution_count": null,
            "metadata": {},
            "outputs": [],
            "source": [
                "  homo_cyt_list[i] = homo_cyt_list[i].replace(',', '_')\n",
                "    homo_cyt_list[i] = homo_cyt_list[i].replace('/', '_')\n",
                "    homo_cyt_list[i] = homo_cyt_list[i].replace(' ', '_')\n",
                "    homo_cyt_list[i] = homo_cyt_list[i].replace(')', '_')\n",
                "    homo_cyt_list[i] = homo_cyt_list[i].replace('(', '_')\n",
                "    homo_cyt_list[i] = homo_cyt_list[i].replace('-', '_')"
            ]
        },
        {
            "cell_type": "code",
            "execution_count": 86,
            "metadata": {},
            "outputs": [
                {
                    "data": {
                        "text/plain": [
                            "'Cytochrome P450 2D6'"
                        ]
                    },
                    "execution_count": 86,
                    "metadata": {},
                    "output_type": "execute_result"
                }
            ],
            "source": [
                "homo_cyt_list[i].replace('/', '_')"
            ]
        },
        {
            "cell_type": "code",
            "execution_count": 84,
            "metadata": {},
            "outputs": [
                {
                    "data": {
                        "text/plain": [
                            "'Cytochrome P450 3A4/3A5'"
                        ]
                    },
                    "execution_count": 84,
                    "metadata": {},
                    "output_type": "execute_result"
                }
            ],
            "source": [
                "homo_cyt_list[i]"
            ]
        },
        {
            "cell_type": "code",
            "execution_count": 90,
            "metadata": {},
            "outputs": [],
            "source": [
                "from glob import glob"
            ]
        },
        {
            "cell_type": "code",
            "execution_count": 91,
            "metadata": {},
            "outputs": [
                {
                    "name": "stdout",
                    "output_type": "stream",
                    "text": [
                        "../dataset/cyt_homo_data/sql_data/Cytochrome_P450_21.csv\n",
                        "../dataset/cyt_homo_data/sql_data/Cytochrome_P450_51.csv\n",
                        "../dataset/cyt_homo_data/sql_data/Cytochrome_P450_1A1.csv\n",
                        "../dataset/cyt_homo_data/sql_data/Cytochrome_P450_2A6.csv\n",
                        "../dataset/cyt_homo_data/sql_data/NADH_cytochrome_b5_reductase.csv\n",
                        "../dataset/cyt_homo_data/sql_data/NADPH__cytochrome_P450_reductase.csv\n",
                        "../dataset/cyt_homo_data/sql_data/Cytochrome_P450_11B1.csv\n",
                        "../dataset/cyt_homo_data/sql_data/Cytochrome_b_245_heavy_chain.csv\n",
                        "../dataset/cyt_homo_data/sql_data/Cytochrome_P450_4A11.csv\n",
                        "../dataset/cyt_homo_data/sql_data/Cytochrome_c_oxidase_subunit_1.csv\n",
                        "../dataset/cyt_homo_data/sql_data/Cytochrome_P450_26B1.csv\n",
                        "../dataset/cyt_homo_data/sql_data/Cytochrome_P450_3A43.csv\n",
                        "../dataset/cyt_homo_data/sql_data/Cytochrome_P450_2A13.csv\n",
                        "../dataset/cyt_homo_data/sql_data/Cytochrome_P450_2J2.csv\n",
                        "../dataset/cyt_homo_data/sql_data/Cytochrome_P450_4F12.csv\n",
                        "../dataset/cyt_homo_data/sql_data/Cytochrome_b_c1_complex_subunit_7.csv\n",
                        "../dataset/cyt_homo_data/sql_data/Cytochrome_c_oxidase_subunit_2.csv\n",
                        "../dataset/cyt_homo_data/sql_data/Cytochrome_P450_1B1.csv\n",
                        "../dataset/cyt_homo_data/sql_data/Cytochrome_P450_11A1.csv\n",
                        "../dataset/cyt_homo_data/sql_data/Cytochrome_P450_1A.csv\n",
                        "../dataset/cyt_homo_data/sql_data/Cytochrome_c1,_heme_protein,_mitochondrial.csv\n",
                        "../dataset/cyt_homo_data/sql_data/Cytochrome_P450_2W1.csv\n",
                        "../dataset/cyt_homo_data/sql_data/Cytochrome_P450_3A5.csv\n",
                        "../dataset/cyt_homo_data/sql_data/Ubiquinol_cytochrome_C_reductase_complex_7.2_kDa_protein.csv\n",
                        "../dataset/cyt_homo_data/sql_data/Cytochrome_P450_2C19.csv\n",
                        "../dataset/cyt_homo_data/sql_data/Cytochrome_P450_2B6.csv\n",
                        "../dataset/cyt_homo_data/sql_data/Cytochrome_P450_2E1.csv\n",
                        "../dataset/cyt_homo_data/sql_data/Cytochrome_P450_11B2.csv\n",
                        "../dataset/cyt_homo_data/sql_data/Cytochrome_P450_1A2.csv\n",
                        "../dataset/cyt_homo_data/sql_data/Cytochrome_P450_3A.csv\n",
                        "../dataset/cyt_homo_data/sql_data/Cytochrome_P450_3A4.csv\n",
                        "../dataset/cyt_homo_data/sql_data/Apoptotic_protease_activating_factor_1_Caspase_3_Caspase_9_Cytochrome_c.csv\n",
                        "../dataset/cyt_homo_data/sql_data/Cytochrome_P450_19A1.csv\n",
                        "../dataset/cyt_homo_data/sql_data/Cytochrome_c.csv\n",
                        "../dataset/cyt_homo_data/sql_data/Cytochrome_P450_17A1.csv\n",
                        "../dataset/cyt_homo_data/sql_data/Cytochrome_P450_3A7.csv\n",
                        "../dataset/cyt_homo_data/sql_data/Cytochrome_P450_26A1.csv\n",
                        "../dataset/cyt_homo_data/sql_data/Cytochrome_P450_2C18.csv\n",
                        "../dataset/cyt_homo_data/sql_data/Cytochrome_P450_4F2.csv\n",
                        "../dataset/cyt_homo_data/sql_data/Cytochrome_b5.csv\n",
                        "../dataset/cyt_homo_data/sql_data/Cytochrome_P450_3A4_3A5.csv\n",
                        "../dataset/cyt_homo_data/sql_data/Cytochrome_P450_2C8.csv\n",
                        "../dataset/cyt_homo_data/sql_data/Cytochrome_P450_2D6.csv\n",
                        "../dataset/cyt_homo_data/sql_data/Cytochrome_P450_24A1.csv\n",
                        "../dataset/cyt_homo_data/sql_data/Cytochrome_P450,_family_4,_subfamily_X,_polypeptide_1,_isoform_CRA_c.csv\n",
                        "../dataset/cyt_homo_data/sql_data/Putative_cytochrome_P450_2D7.csv\n",
                        "../dataset/cyt_homo_data/sql_data/Cytochrome_P450_2C9.csv\n"
                    ]
                }
            ],
            "source": [
                "for i in glob('../dataset/cyt_homo_data/sql_data/*csv'):\n",
                "    print(i)"
            ]
        },
        {
            "cell_type": "code",
            "execution_count": null,
            "metadata": {},
            "outputs": [],
            "source": []
        }
    ],
    "metadata": {
        "kernelspec": {
            "display_name": "Python [conda env:seqcomhol]",
            "language": "python",
            "name": "conda-env-seqcomhol-py"
        },
        "language_info": {
            "codemirror_mode": {
                "name": "ipython",
                "version": 3
            },
            "file_extension": ".py",
            "mimetype": "text/x-python",
            "name": "python",
            "nbconvert_exporter": "python",
            "pygments_lexer": "ipython3",
            "version": "3.6.5"
        }
    },
    "nbformat": 4,
    "nbformat_minor": 2
}