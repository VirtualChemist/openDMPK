{
    "cells": [
        {
            "cell_type": "code",
            "execution_count": null,
            "metadata": {},
            "outputs": [],
            "source": [
                "#######################################################################################\n",
                "# Author: Srijan Verma                                                              #\n",
                "# School of Pharmacy                                                                #\n",
                "# Sirimulla Research Group [http://www.sirimullaresearchgroup.com/]                 #\n",
                "# The University of Texas at El Paso, TX, USA                                       #\n",
                "# Last modified: 19/12/2019                                                         #\n",
                "# Copyright (c) 2019 Srijan Verma and Sirimulla Research Group, under MIT license   #\n",
                "#######################################################################################"
            ]
        },
        {
            "cell_type": "code",
            "execution_count": 184,
            "metadata": {},
            "outputs": [],
            "source": [
                "import pandas as pd\n",
                "import sys\n",
                "# sys.path.append(\"../../LigandNet/scripts\")\n",
                "sys.path.append(\"../utilities/\")\n",
                "from utility import FeatureGenerator\n",
                "import os\n",
                "import pandas as pd\n",
                "from pandas import DataFrame,Series\n",
                "from sklearn import tree\n",
                "import matplotlib\n",
                "import numpy as np\n",
                "import matplotlib.pyplot as plt\n",
                "from sklearn import svm\n",
                "from sklearn.preprocessing import StandardScaler\n",
                "# import statsmodels.formula.api as smf\n",
                "# import statsmodels.api as sm\n",
                "from mpl_toolkits.mplot3d import Axes3D\n",
                "import seaborn as sns\n",
                "from sklearn import neighbors\n",
                "from sklearn import linear_model\n",
                "%matplotlib inline"
            ]
        },
        {
            "cell_type": "code",
            "execution_count": 91,
            "metadata": {},
            "outputs": [],
            "source": [
                "from rdkit import Chem\n",
                "from rdkit.Chem import AllChem"
            ]
        },
        {
            "cell_type": "code",
            "execution_count": 92,
            "metadata": {},
            "outputs": [],
            "source": [
                "def get_ecfp(smiles):\n",
                "    mol = Chem.MolFromSmiles(smiles)\n",
                "    ecfp = AllChem.GetMorganFingerprintAsBitVect(mol, 3).ToBitString()\n",
                "    return [int(s) for s in ecfp]"
            ]
        },
        {
            "cell_type": "code",
            "execution_count": 187,
            "metadata": {},
            "outputs": [],
            "source": [
                "nbits = 1024\n",
                "longbits = 16384\n",
                "class FeatureTypeNotSupported(Exception):\n",
                "    \"\"\" Raised when the provided feature type is not supported\"\"\"\n",
                "    pass\n",
                "\n",
                "class Dataset:\n",
                "    # Supported feature types\n",
                "    _feature_types = [\"ecfp-6\"]\n",
                "    X = None\n",
                "    y = None\n",
                "    _df = pd.DataFrame()\n",
                "    _smiles_field = None\n",
                "    _target_field = None\n",
                "    _bits = None\n",
                "    smiles = None\n",
                "    targets = None\n",
                "    \n",
                "    def __init__(self, df, smiles_field, target_field,bits):\n",
                "        # clean the dataset\n",
                "        self._df = df if len(df)>0 else None\n",
                "        self._smiles_field = smiles_field\n",
                "        self._target_field = target_field\n",
                "        self._bits = bits\n",
                "        \n",
                "        # Clean the data\n",
                "        self._clean_data()\n",
                "        \n",
                "        # Populate the smiles and target list\n",
                "        self._get_smiles_targets()\n",
                "    \n",
                "    def _get_smiles_targets(self):\n",
                "        self.smiles = self._df[self._smiles_field].values.tolist()\n",
                "        self.targets = self._df[self._target_field].values.tolist()\n",
                "        \n",
                "    def _clean_data(self):\n",
                "        if self._df is None: return\n",
                "        # Drop Nan values\n",
                "        # self._df = df.dropna(axis=0)\n",
                "        # Check the target field\n",
                "        self._df = self._df[np.isfinite(self._df[self._target_field])]\n",
                "        \n",
                "    def _get_ecfp6(self, smiles, bits):\n",
                "        mol = Chem.MolFromSmiles(smiles)\n",
                "        ecfp = AllChem.GetMorganFingerprintAsBitVect(mol, 3,nBits=bits).ToBitString()\n",
                "        return [int(s) for s in ecfp]\n",
                "    \n",
                "    def create_dataset(self,bits,feature_type=\"ecfp-6\"):\n",
                "        if feature_type not in self._feature_types:\n",
                "            raise FeatureTypeNotSupported(\"Feature type is not supported.\")\n",
                "        self.X = np.array([self._get_ecfp6(s,bits) for s in self.smiles], dtype=np.float32)\n",
                "        self.y = np.array(self.targets, dtype=np.float32)"
            ]
        },
        {
            "cell_type": "code",
            "execution_count": 188,
            "metadata": {},
            "outputs": [
                {
                    "data": {
                        "text/html": [
                            "<div>\n",
                            "<style scoped>\n",
                            "    .dataframe tbody tr th:only-of-type {\n",
                            "        vertical-align: middle;\n",
                            "    }\n",
                            "\n",
                            "    .dataframe tbody tr th {\n",
                            "        vertical-align: top;\n",
                            "    }\n",
                            "\n",
                            "    .dataframe thead th {\n",
                            "        text-align: right;\n",
                            "    }\n",
                            "</style>\n",
                            "<table border=\"1\" class=\"dataframe\">\n",
                            "  <thead>\n",
                            "    <tr style=\"text-align: right;\">\n",
                            "      <th></th>\n",
                            "      <th>CMPD_CHEMBLID</th>\n",
                            "      <th>COMPOUND_KEY</th>\n",
                            "      <th>MOLWEIGHT</th>\n",
                            "      <th>ALOGP</th>\n",
                            "      <th>PSA</th>\n",
                            "      <th>CANONICAL_SMILES</th>\n",
                            "      <th>Km</th>\n",
                            "      <th>Vmax</th>\n",
                            "      <th>pKm</th>\n",
                            "    </tr>\n",
                            "  </thead>\n",
                            "  <tbody>\n",
                            "    <tr>\n",
                            "      <th>0</th>\n",
                            "      <td>CHEMBL300797</td>\n",
                            "      <td>L-tyrosine methyl ester</td>\n",
                            "      <td>195.22</td>\n",
                            "      <td>0.43</td>\n",
                            "      <td>72.55</td>\n",
                            "      <td>COC(=O)[C@@H](N)Cc1ccc(O)cc1</td>\n",
                            "      <td>4000000.0</td>\n",
                            "      <td>350.0</td>\n",
                            "      <td>-15.201805</td>\n",
                            "    </tr>\n",
                            "    <tr>\n",
                            "      <th>1</th>\n",
                            "      <td>CHEMBL1288</td>\n",
                            "      <td>1-Naphthalenemethanol</td>\n",
                            "      <td>158.20</td>\n",
                            "      <td>2.33</td>\n",
                            "      <td>20.23</td>\n",
                            "      <td>OCc1cccc2ccccc12</td>\n",
                            "      <td>30000.0</td>\n",
                            "      <td>26.0</td>\n",
                            "      <td>-10.308953</td>\n",
                            "    </tr>\n",
                            "    <tr>\n",
                            "      <th>2</th>\n",
                            "      <td>CHEMBL14060</td>\n",
                            "      <td>Phenol</td>\n",
                            "      <td>94.11</td>\n",
                            "      <td>1.39</td>\n",
                            "      <td>20.23</td>\n",
                            "      <td>Oc1ccccc1</td>\n",
                            "      <td>19000.0</td>\n",
                            "      <td>350.0</td>\n",
                            "      <td>-9.852194</td>\n",
                            "    </tr>\n",
                            "    <tr>\n",
                            "      <th>3</th>\n",
                            "      <td>CHEMBL14126</td>\n",
                            "      <td>2-naphthol</td>\n",
                            "      <td>144.17</td>\n",
                            "      <td>2.55</td>\n",
                            "      <td>20.23</td>\n",
                            "      <td>Oc1ccc2ccccc2c1</td>\n",
                            "      <td>8000.0</td>\n",
                            "      <td>1130.0</td>\n",
                            "      <td>-8.987197</td>\n",
                            "    </tr>\n",
                            "    <tr>\n",
                            "      <th>4</th>\n",
                            "      <td>CHEMBL3085280</td>\n",
                            "      <td>4-ethylbenzyl alcohol</td>\n",
                            "      <td>488.55</td>\n",
                            "      <td>0.27</td>\n",
                            "      <td>163.53</td>\n",
                            "      <td>N[C@@H](C(=O)NC1C2SCC(=C(N2C1=O)C(=O)O)CSc3c[n...</td>\n",
                            "      <td>60000.0</td>\n",
                            "      <td>182.0</td>\n",
                            "      <td>-11.002100</td>\n",
                            "    </tr>\n",
                            "  </tbody>\n",
                            "</table>\n",
                            "</div>"
                        ],
                        "text/plain": [
                            "   CMPD_CHEMBLID             COMPOUND_KEY  MOLWEIGHT  ALOGP     PSA  \\\n",
                            "0   CHEMBL300797  L-tyrosine methyl ester     195.22   0.43   72.55   \n",
                            "1     CHEMBL1288    1-Naphthalenemethanol     158.20   2.33   20.23   \n",
                            "2    CHEMBL14060                   Phenol      94.11   1.39   20.23   \n",
                            "3    CHEMBL14126               2-naphthol     144.17   2.55   20.23   \n",
                            "4  CHEMBL3085280    4-ethylbenzyl alcohol     488.55   0.27  163.53   \n",
                            "\n",
                            "                                    CANONICAL_SMILES         Km    Vmax  \\\n",
                            "0                       COC(=O)[C@@H](N)Cc1ccc(O)cc1  4000000.0   350.0   \n",
                            "1                                   OCc1cccc2ccccc12    30000.0    26.0   \n",
                            "2                                          Oc1ccccc1    19000.0   350.0   \n",
                            "3                                    Oc1ccc2ccccc2c1     8000.0  1130.0   \n",
                            "4  N[C@@H](C(=O)NC1C2SCC(=C(N2C1=O)C(=O)O)CSc3c[n...    60000.0   182.0   \n",
                            "\n",
                            "         pKm  \n",
                            "0 -15.201805  \n",
                            "1 -10.308953  \n",
                            "2  -9.852194  \n",
                            "3  -8.987197  \n",
                            "4 -11.002100  "
                        ]
                    },
                    "execution_count": 188,
                    "metadata": {},
                    "output_type": "execute_result"
                }
            ],
            "source": [
                "data_df = pd.read_csv(\"data/curated_data.csv\")\n",
                "data_df.head()"
            ]
        },
        {
            "cell_type": "code",
            "execution_count": 189,
            "metadata": {},
            "outputs": [
                {
                    "data": {
                        "text/plain": [
                            "167"
                        ]
                    },
                    "execution_count": 189,
                    "metadata": {},
                    "output_type": "execute_result"
                }
            ],
            "source": [
                "len(data_df)"
            ]
        },
        {
            "cell_type": "code",
            "execution_count": 190,
            "metadata": {},
            "outputs": [],
            "source": [
                "# # Extract features\n",
                "# def get_features(SMILES):\n",
                "#     try:\n",
                "#         feat_gen = FeatureGenerator(SMILES)\n",
                "#         return feat_gen.toTPATF()\n",
                "#     except Exception as e:\n",
                "#         print(str(e))\n",
                "#         return float('NaN')"
            ]
        },
        {
            "cell_type": "markdown",
            "metadata": {},
            "source": [
                "### Model for Km"
            ]
        },
        {
            "cell_type": "code",
            "execution_count": 191,
            "metadata": {},
            "outputs": [],
            "source": [
                "import numpy as np\n",
                "from sklearn.model_selection import train_test_split\n",
                "from sklearn.ensemble import RandomForestRegressor\n",
                "from sklearn.model_selection import GridSearchCV\n",
                "from sklearn.metrics import r2_score\n",
                "from sklearn.externals import joblib\n",
                "import matplotlib.pyplot as plt\n",
                "from sklearn.neural_network import MLPClassifier\n",
                "from sklearn import linear_model\n",
                "%matplotlib inline"
            ]
        },
        {
            "cell_type": "code",
            "execution_count": 180,
            "metadata": {},
            "outputs": [],
            "source": [
                "random_state = 1"
            ]
        },
        {
            "cell_type": "code",
            "execution_count": 237,
            "metadata": {
                "scrolled": true
            },
            "outputs": [
                {
                    "name": "stdout",
                    "output_type": "stream",
                    "text": [
                        "(42, 1024) (42,) (11, 1024) (11,)\n"
                    ]
                }
            ],
            "source": [
                "dataset = Dataset(data_df,bits=1024, smiles_field=\"CANONICAL_SMILES\", target_field=\"Vmax\")\n",
                "dataset.create_dataset(1024)\n",
                "train_x, test_x, train_y, test_y = train_test_split(dataset.X, dataset.y, test_size=0.2, random_state = random_state)\n",
                "print(train_x.shape, train_y.shape, test_x.shape, test_y.shape)"
            ]
        },
        {
            "cell_type": "code",
            "execution_count": 225,
            "metadata": {},
            "outputs": [
                {
                    "data": {
                        "text/plain": [
                            "-13.3847275"
                        ]
                    },
                    "execution_count": 225,
                    "metadata": {},
                    "output_type": "execute_result"
                }
            ],
            "source": [
                "train_y[0]"
            ]
        },
        {
            "cell_type": "code",
            "execution_count": 238,
            "metadata": {},
            "outputs": [
                {
                    "data": {
                        "text/plain": [
                            "BayesianRidge(alpha_1=1e-06, alpha_2=1e-06, compute_score=False, copy_X=True,\n",
                            "              fit_intercept=True, lambda_1=1e-06, lambda_2=1e-06, n_iter=300,\n",
                            "              normalize=False, tol=0.001, verbose=False)"
                        ]
                    },
                    "execution_count": 238,
                    "metadata": {},
                    "output_type": "execute_result"
                }
            ],
            "source": [
                "params = {\"n_estimators\": [i for i in range(10, 101, 10)], \n",
                "          \"oob_score\": [True, False], \n",
                "          \"n_jobs\": [-1], \n",
                "          \"random_state\": [random_state]}\n",
                "rf_clf = RandomForestRegressor()\n",
                "rf_clf = linear_model.Ridge()\n",
                "rf_clf = linear_model.BayesianRidge()\n",
                "grid_clf = GridSearchCV(rf_clf, param_grid=params)\n",
                "# grid_clf.fit(train_x, train_y)\n",
                "rf_clf.fit(train_x, train_y)"
            ]
        },
        {
            "cell_type": "code",
            "execution_count": 217,
            "metadata": {},
            "outputs": [],
            "source": [
                "n_neighbors=5\n",
                "knn=neighbors.KNeighborsRegressor(n_neighbors,weights='uniform')\n",
                "ridge = linear_model.Ridge()\n",
                "reg = linear_model.BayesianRidge()\n",
                "dec = tree.DecisionTreeRegressor(max_depth=1)\n",
                "svm_reg=svm.SVR()\n",
                "models = [knn,ridge,reg,dec,svm_reg]"
            ]
        },
        {
            "cell_type": "code",
            "execution_count": 236,
            "metadata": {},
            "outputs": [
                {
                    "data": {
                        "application/vnd.jupyter.widget-view+json": {
                            "model_id": "5022c22ab4114ccaa4f0150c8f61b986",
                            "version_major": 2,
                            "version_minor": 0
                        },
                        "text/plain": [
                            "HBox(children=(IntProgress(value=0, max=5), HTML(value='')))"
                        ]
                    },
                    "metadata": {},
                    "output_type": "display_data"
                },
                {
                    "name": "stdout",
                    "output_type": "stream",
                    "text": [
                        "KNeighborsRegressor 0.41714386185655217 0.17815455038820616 1024\n",
                        "KNeighborsRegressor 0.3713306646681188 0.16170803246369847 2048\n",
                        "KNeighborsRegressor 0.3383306604662295 -0.05579401654517957 16384\n",
                        "Ridge 0.9816828889682258 0.7046692619124004 1024\n",
                        "Ridge 0.9813651286446791 0.7032786157857941 2048\n",
                        "Ridge 0.9814012259826846 0.6662674062269602 16384\n",
                        "BayesianRidge 0.9821884056277422 0.7060551093702054 1024\n",
                        "BayesianRidge 0.9810841437729921 0.7025768455256929 2048\n",
                        "BayesianRidge 0.9806892670208223 0.6651462294075767 16384\n",
                        "DecisionTreeRegressor 0.6004916840177262 -0.014861400939806702 1024\n",
                        "DecisionTreeRegressor 0.6004916840177262 -0.014861400939806702 2048\n",
                        "DecisionTreeRegressor 0.6004916840177262 -0.014861400939806702 16384\n",
                        "SVR -0.07331814431936179 -0.09672846853768213 1024\n",
                        "SVR -0.07327558646600751 -0.09678507448979135 2048\n"
                    ]
                },
                {
                    "name": "stderr",
                    "output_type": "stream",
                    "text": [
                        "/Users/pankajverma/anaconda3/envs/seqcomhol/lib/python3.6/site-packages/sklearn/svm/base.py:193: FutureWarning: The default value of gamma will change from 'auto' to 'scale' in version 0.22 to account better for unscaled features. Set gamma explicitly to 'auto' or 'scale' to avoid this warning.\n",
                        "  \"avoid this warning.\", FutureWarning)\n",
                        "/Users/pankajverma/anaconda3/envs/seqcomhol/lib/python3.6/site-packages/sklearn/svm/base.py:193: FutureWarning: The default value of gamma will change from 'auto' to 'scale' in version 0.22 to account better for unscaled features. Set gamma explicitly to 'auto' or 'scale' to avoid this warning.\n",
                        "  \"avoid this warning.\", FutureWarning)\n"
                    ]
                },
                {
                    "name": "stdout",
                    "output_type": "stream",
                    "text": [
                        "SVR -0.07320308699080158 -0.09680193400566894 16384\n",
                        "\n"
                    ]
                },
                {
                    "name": "stderr",
                    "output_type": "stream",
                    "text": [
                        "/Users/pankajverma/anaconda3/envs/seqcomhol/lib/python3.6/site-packages/sklearn/svm/base.py:193: FutureWarning: The default value of gamma will change from 'auto' to 'scale' in version 0.22 to account better for unscaled features. Set gamma explicitly to 'auto' or 'scale' to avoid this warning.\n",
                        "  \"avoid this warning.\", FutureWarning)\n"
                    ]
                }
            ],
            "source": [
                "from tqdm import tqdm_notebook\n",
                "for clf in tqdm_notebook(models):\n",
                "    for b in (1024,2048,16384):\n",
                "        \n",
                "        dataset = Dataset(data_df,bits=b, smiles_field=\"CANONICAL_SMILES\", target_field=\"Vmax\")\n",
                "        dataset.create_dataset(b)\n",
                "        train_x, test_x, train_y, test_y = train_test_split(dataset.X, dataset.y, test_size=0.2, random_state = random_state)\n",
                "        clf.fit(train_x, train_y)\n",
                "        train_pred = clf.predict(train_x)\n",
                "        train_r2 = r2_score(y_pred=train_pred, y_true=train_y)\n",
                "        test_pred = clf.predict(test_x)\n",
                "        test_r2 = r2_score(y_pred=test_pred, y_true=test_y)\n",
                "        print(clf.__class__.__name__,train_r2, test_r2, b)"
            ]
        },
        {
            "cell_type": "code",
            "execution_count": 239,
            "metadata": {},
            "outputs": [],
            "source": [
                "# clf = grid_clf.best_estimator_\n",
                "clf = rf_clf"
            ]
        },
        {
            "cell_type": "code",
            "execution_count": 130,
            "metadata": {},
            "outputs": [
                {
                    "ename": "AttributeError",
                    "evalue": "'GridSearchCV' object has no attribute 'best_estimator_'",
                    "output_type": "error",
                    "traceback": [
                        "\u001b[0;31m---------------------------------------------------------------------------\u001b[0m",
                        "\u001b[0;31mAttributeError\u001b[0m                            Traceback (most recent call last)",
                        "\u001b[0;32m<ipython-input-130-3c2056101419>\u001b[0m in \u001b[0;36m<module>\u001b[0;34m\u001b[0m\n\u001b[0;32m----> 1\u001b[0;31m \u001b[0mclf\u001b[0m \u001b[0;34m=\u001b[0m \u001b[0mgrid_clf\u001b[0m\u001b[0;34m.\u001b[0m\u001b[0mbest_estimator_\u001b[0m\u001b[0;34m\u001b[0m\u001b[0m\n\u001b[0m\u001b[1;32m      2\u001b[0m \u001b[0mclf\u001b[0m\u001b[0;34m\u001b[0m\u001b[0m\n",
                        "\u001b[0;31mAttributeError\u001b[0m: 'GridSearchCV' object has no attribute 'best_estimator_'"
                    ]
                }
            ],
            "source": [
                "clf = grid_clf.best_estimator_\n",
                "clf"
            ]
        },
        {
            "cell_type": "code",
            "execution_count": 240,
            "metadata": {},
            "outputs": [
                {
                    "name": "stdout",
                    "output_type": "stream",
                    "text": [
                        "0.9821884056277422 0.7060551093702054\n"
                    ]
                }
            ],
            "source": [
                "train_pred = clf.predict(train_x)\n",
                "train_r2 = r2_score(y_pred=train_pred, y_true=train_y)\n",
                "test_pred = clf.predict(test_x)\n",
                "test_r2 = r2_score(y_pred=test_pred, y_true=test_y)\n",
                "print(train_r2, test_r2)"
            ]
        },
        {
            "cell_type": "code",
            "execution_count": 241,
            "metadata": {},
            "outputs": [
                {
                    "name": "stdout",
                    "output_type": "stream",
                    "text": [
                        "0.9821884056277422 0.7060551093702054\n"
                    ]
                }
            ],
            "source": [
                "train_pred = clf.predict(train_x)\n",
                "train_r2 = r2_score(y_pred=train_pred, y_true=train_y)\n",
                "test_pred = clf.predict(test_x)\n",
                "test_r2 = r2_score(y_pred=test_pred, y_true=test_y)\n",
                "print(train_r2, test_r2)"
            ]
        },
        {
            "cell_type": "code",
            "execution_count": 242,
            "metadata": {},
            "outputs": [
                {
                    "name": "stdout",
                    "output_type": "stream",
                    "text": [
                        "0.9821884056277422 0.7060551093702054\n"
                    ]
                }
            ],
            "source": [
                "train_pred = clf.predict(train_x)\n",
                "train_r2 = r2_score(y_pred=train_pred, y_true=train_y)\n",
                "test_pred = clf.predict(test_x)\n",
                "test_r2 = r2_score(y_pred=test_pred, y_true=test_y)\n",
                "print(train_r2, test_r2)"
            ]
        },
        {
            "cell_type": "code",
            "execution_count": 243,
            "metadata": {},
            "outputs": [
                {
                    "data": {
                        "image/png": "[encoded data removed]",
                        "text/plain": [
                            "<Figure size 432x288 with 1 Axes>"
                        ]
                    },
                    "metadata": {
                        "needs_background": "light"
                    },
                    "output_type": "display_data"
                }
            ],
            "source": [
                "plt.figure()\n",
                "plt.scatter(test_y, test_pred)\n",
                "plt.title(\"Test performance\")\n",
                "plt.xlabel(\"True values\")\n",
                "plt.ylabel(\"Predicted values\")\n",
                "plt.show()"
            ]
        },
        {
            "cell_type": "code",
            "execution_count": 248,
            "metadata": {},
            "outputs": [
                {
                    "data": {
                        "image/png": "[encoded data removed]",
                        "text/plain": [
                            "<Figure size 432x288 with 1 Axes>"
                        ]
                    },
                    "metadata": {
                        "needs_background": "light"
                    },
                    "output_type": "display_data"
                }
            ],
            "source": [
                "plt.figure()\n",
                "plt.scatter(test_y, test_pred)\n",
                "plt.title(\"Test performance\")\n",
                "plt.xlabel(\"True values\")\n",
                "plt.ylabel(\"Predicted values\")\n",
                "plt.savefig('vmax_test.png',dpi=1200)\n",
                "plt.show()\n"
            ]
        },
        {
            "cell_type": "code",
            "execution_count": 247,
            "metadata": {},
            "outputs": [
                {
                    "data": {
                        "image/png": "[encoded data removed]",
                        "text/plain": [
                            "<Figure size 432x288 with 1 Axes>"
                        ]
                    },
                    "metadata": {
                        "needs_background": "light"
                    },
                    "output_type": "display_data"
                }
            ],
            "source": [
                "plt.figure()\n",
                "plt.scatter(train_y, train_pred)\n",
                "plt.title(\"Training performance\")\n",
                "plt.xlabel(\"True values\")\n",
                "plt.ylabel(\"Predicted values\")\n",
                "plt.savefig('vmax_train.png',dpi=1200)\n",
                "plt.show()"
            ]
        },
        {
            "cell_type": "code",
            "execution_count": 246,
            "metadata": {},
            "outputs": [
                {
                    "data": {
                        "image/png": "[encoded data removed]",
                        "text/plain": [
                            "<Figure size 432x288 with 1 Axes>"
                        ]
                    },
                    "metadata": {
                        "needs_background": "light"
                    },
                    "output_type": "display_data"
                }
            ],
            "source": [
                "plt.figure()\n",
                "plt.scatter(train_y, train_pred)\n",
                "plt.title(\"Training performance\")\n",
                "plt.xlabel(\"True values\")\n",
                "plt.ylabel(\"Predicted values\")\n",
                "plt.show()"
            ]
        },
        {
            "cell_type": "code",
            "execution_count": 82,
            "metadata": {},
            "outputs": [
                {
                    "data": {
                        "text/plain": [
                            "['Km_model.clf']"
                        ]
                    },
                    "execution_count": 82,
                    "metadata": {},
                    "output_type": "execute_result"
                }
            ],
            "source": [
                "joblib.dump(clf, \"Km_model.clf\")"
            ]
        },
        {
            "cell_type": "markdown",
            "metadata": {},
            "source": [
                "### Vmax Model"
            ]
        },
        {
            "cell_type": "code",
            "execution_count": 83,
            "metadata": {
                "scrolled": true
            },
            "outputs": [
                {
                    "name": "stdout",
                    "output_type": "stream",
                    "text": [
                        "(42, 16384) (42,) (11, 16384) (11,)\n"
                    ]
                }
            ],
            "source": [
                "dataset = Dataset(data_df, smiles_field=\"CANONICAL_SMILES\", target_field=\"Vmax\")\n",
                "dataset.create_dataset()\n",
                "train_x, test_x, train_y, test_y = train_test_split(dataset.X, dataset.y, test_size=0.2)\n",
                "print(train_x.shape, train_y.shape, test_x.shape, test_y.shape)"
            ]
        },
        {
            "cell_type": "code",
            "execution_count": 84,
            "metadata": {},
            "outputs": [
                {
                    "name": "stderr",
                    "output_type": "stream",
                    "text": [
                        "/Users/pankajverma/anaconda3/envs/seqcomhol/lib/python3.6/site-packages/sklearn/model_selection/_split.py:1978: FutureWarning: The default value of cv will change from 3 to 5 in version 0.22. Specify it explicitly to silence this warning.\n",
                        "  warnings.warn(CV_WARNING, FutureWarning)\n",
                        "[Parallel(n_jobs=-1)]: Using backend LokyBackend with 4 concurrent workers.\n",
                        "[Parallel(n_jobs=-1)]: Done   3 out of  10 | elapsed:    0.1s remaining:    0.1s\n",
                        "[Parallel(n_jobs=-1)]: Done  10 out of  10 | elapsed:    0.2s finished\n",
                        "/Users/pankajverma/anaconda3/envs/seqcomhol/lib/python3.6/site-packages/sklearn/ensemble/forest.py:737: UserWarning: Some inputs do not have OOB scores. This probably means too few trees were used to compute any reliable oob estimates.\n",
                        "  warn(\"Some inputs do not have OOB scores. \"\n",
                        "[Parallel(n_jobs=4)]: Using backend ThreadingBackend with 4 concurrent workers.\n",
                        "[Parallel(n_jobs=4)]: Done  10 out of  10 | elapsed:    0.0s finished\n",
                        "[Parallel(n_jobs=-1)]: Using backend LokyBackend with 4 concurrent workers.\n",
                        "[Parallel(n_jobs=-1)]: Done   3 out of  10 | elapsed:    0.0s remaining:    0.1s\n",
                        "[Parallel(n_jobs=-1)]: Done  10 out of  10 | elapsed:    0.1s finished\n",
                        "/Users/pankajverma/anaconda3/envs/seqcomhol/lib/python3.6/site-packages/sklearn/ensemble/forest.py:737: UserWarning: Some inputs do not have OOB scores. This probably means too few trees were used to compute any reliable oob estimates.\n",
                        "  warn(\"Some inputs do not have OOB scores. \"\n",
                        "[Parallel(n_jobs=4)]: Using backend ThreadingBackend with 4 concurrent workers.\n",
                        "[Parallel(n_jobs=4)]: Done  10 out of  10 | elapsed:    0.0s finished\n",
                        "[Parallel(n_jobs=-1)]: Using backend LokyBackend with 4 concurrent workers.\n",
                        "[Parallel(n_jobs=-1)]: Done   3 out of  10 | elapsed:    0.1s remaining:    0.1s\n",
                        "[Parallel(n_jobs=-1)]: Done  10 out of  10 | elapsed:    0.1s finished\n",
                        "/Users/pankajverma/anaconda3/envs/seqcomhol/lib/python3.6/site-packages/sklearn/ensemble/forest.py:737: UserWarning: Some inputs do not have OOB scores. This probably means too few trees were used to compute any reliable oob estimates.\n",
                        "  warn(\"Some inputs do not have OOB scores. \"\n",
                        "[Parallel(n_jobs=4)]: Using backend ThreadingBackend with 4 concurrent workers.\n",
                        "[Parallel(n_jobs=4)]: Done  10 out of  10 | elapsed:    0.0s finished\n",
                        "[Parallel(n_jobs=-1)]: Using backend LokyBackend with 4 concurrent workers.\n",
                        "[Parallel(n_jobs=-1)]: Done   3 out of  10 | elapsed:    0.0s remaining:    0.1s\n",
                        "[Parallel(n_jobs=-1)]: Done  10 out of  10 | elapsed:    0.1s finished\n",
                        "[Parallel(n_jobs=4)]: Using backend ThreadingBackend with 4 concurrent workers.\n",
                        "[Parallel(n_jobs=4)]: Done  10 out of  10 | elapsed:    0.0s finished\n",
                        "[Parallel(n_jobs=-1)]: Using backend LokyBackend with 4 concurrent workers.\n",
                        "[Parallel(n_jobs=-1)]: Done   3 out of  10 | elapsed:    0.1s remaining:    0.1s\n",
                        "[Parallel(n_jobs=-1)]: Done  10 out of  10 | elapsed:    0.2s finished\n",
                        "[Parallel(n_jobs=4)]: Using backend ThreadingBackend with 4 concurrent workers.\n",
                        "[Parallel(n_jobs=4)]: Done  10 out of  10 | elapsed:    0.0s finished\n",
                        "[Parallel(n_jobs=-1)]: Using backend LokyBackend with 4 concurrent workers.\n",
                        "[Parallel(n_jobs=-1)]: Done   3 out of  10 | elapsed:    0.0s remaining:    0.1s\n",
                        "[Parallel(n_jobs=-1)]: Done  10 out of  10 | elapsed:    0.1s finished\n",
                        "[Parallel(n_jobs=4)]: Using backend ThreadingBackend with 4 concurrent workers.\n",
                        "[Parallel(n_jobs=4)]: Done  10 out of  10 | elapsed:    0.0s finished\n",
                        "[Parallel(n_jobs=-1)]: Using backend LokyBackend with 4 concurrent workers.\n",
                        "[Parallel(n_jobs=-1)]: Done  20 out of  20 | elapsed:    0.2s finished\n",
                        "[Parallel(n_jobs=4)]: Using backend ThreadingBackend with 4 concurrent workers.\n",
                        "[Parallel(n_jobs=4)]: Done  20 out of  20 | elapsed:    0.0s finished\n",
                        "[Parallel(n_jobs=-1)]: Using backend LokyBackend with 4 concurrent workers.\n",
                        "[Parallel(n_jobs=-1)]: Done  20 out of  20 | elapsed:    0.2s finished\n",
                        "[Parallel(n_jobs=4)]: Using backend ThreadingBackend with 4 concurrent workers.\n",
                        "[Parallel(n_jobs=4)]: Done  20 out of  20 | elapsed:    0.0s finished\n",
                        "[Parallel(n_jobs=-1)]: Using backend LokyBackend with 4 concurrent workers.\n",
                        "[Parallel(n_jobs=-1)]: Done  20 out of  20 | elapsed:    0.2s finished\n",
                        "[Parallel(n_jobs=4)]: Using backend ThreadingBackend with 4 concurrent workers.\n",
                        "[Parallel(n_jobs=4)]: Done  20 out of  20 | elapsed:    0.0s finished\n",
                        "[Parallel(n_jobs=-1)]: Using backend LokyBackend with 4 concurrent workers.\n",
                        "[Parallel(n_jobs=-1)]: Done  20 out of  20 | elapsed:    0.2s finished\n",
                        "[Parallel(n_jobs=4)]: Using backend ThreadingBackend with 4 concurrent workers.\n",
                        "[Parallel(n_jobs=4)]: Done  20 out of  20 | elapsed:    0.0s finished\n",
                        "[Parallel(n_jobs=-1)]: Using backend LokyBackend with 4 concurrent workers.\n",
                        "[Parallel(n_jobs=-1)]: Done  20 out of  20 | elapsed:    0.2s finished\n",
                        "[Parallel(n_jobs=4)]: Using backend ThreadingBackend with 4 concurrent workers.\n",
                        "[Parallel(n_jobs=4)]: Done  20 out of  20 | elapsed:    0.0s finished\n",
                        "[Parallel(n_jobs=-1)]: Using backend LokyBackend with 4 concurrent workers.\n",
                        "[Parallel(n_jobs=-1)]: Done  20 out of  20 | elapsed:    0.3s finished\n",
                        "[Parallel(n_jobs=4)]: Using backend ThreadingBackend with 4 concurrent workers.\n",
                        "[Parallel(n_jobs=4)]: Done  20 out of  20 | elapsed:    0.0s finished\n",
                        "[Parallel(n_jobs=-1)]: Using backend LokyBackend with 4 concurrent workers.\n",
                        "[Parallel(n_jobs=-1)]: Done  30 out of  30 | elapsed:    0.2s finished\n",
                        "[Parallel(n_jobs=4)]: Using backend ThreadingBackend with 4 concurrent workers.\n",
                        "[Parallel(n_jobs=4)]: Done  30 out of  30 | elapsed:    0.0s finished\n",
                        "[Parallel(n_jobs=-1)]: Using backend LokyBackend with 4 concurrent workers.\n",
                        "[Parallel(n_jobs=-1)]: Done  30 out of  30 | elapsed:    0.2s finished\n",
                        "[Parallel(n_jobs=4)]: Using backend ThreadingBackend with 4 concurrent workers.\n",
                        "[Parallel(n_jobs=4)]: Done  30 out of  30 | elapsed:    0.0s finished\n",
                        "[Parallel(n_jobs=-1)]: Using backend LokyBackend with 4 concurrent workers.\n",
                        "[Parallel(n_jobs=-1)]: Done  30 out of  30 | elapsed:    0.4s finished\n",
                        "[Parallel(n_jobs=4)]: Using backend ThreadingBackend with 4 concurrent workers.\n",
                        "[Parallel(n_jobs=4)]: Done  30 out of  30 | elapsed:    0.0s finished\n",
                        "[Parallel(n_jobs=-1)]: Using backend LokyBackend with 4 concurrent workers.\n",
                        "[Parallel(n_jobs=-1)]: Done  30 out of  30 | elapsed:    0.2s finished\n",
                        "[Parallel(n_jobs=4)]: Using backend ThreadingBackend with 4 concurrent workers.\n",
                        "[Parallel(n_jobs=4)]: Done  30 out of  30 | elapsed:    0.0s finished\n",
                        "[Parallel(n_jobs=-1)]: Using backend LokyBackend with 4 concurrent workers.\n",
                        "[Parallel(n_jobs=-1)]: Done  30 out of  30 | elapsed:    0.2s finished\n",
                        "[Parallel(n_jobs=4)]: Using backend ThreadingBackend with 4 concurrent workers.\n",
                        "[Parallel(n_jobs=4)]: Done  30 out of  30 | elapsed:    0.0s finished\n",
                        "[Parallel(n_jobs=-1)]: Using backend LokyBackend with 4 concurrent workers.\n",
                        "[Parallel(n_jobs=-1)]: Done  30 out of  30 | elapsed:    0.4s finished\n",
                        "[Parallel(n_jobs=4)]: Using backend ThreadingBackend with 4 concurrent workers.\n",
                        "[Parallel(n_jobs=4)]: Done  30 out of  30 | elapsed:    0.0s finished\n",
                        "[Parallel(n_jobs=-1)]: Using backend LokyBackend with 4 concurrent workers.\n",
                        "[Parallel(n_jobs=-1)]: Done  40 out of  40 | elapsed:    0.2s finished\n",
                        "[Parallel(n_jobs=4)]: Using backend ThreadingBackend with 4 concurrent workers.\n",
                        "[Parallel(n_jobs=4)]: Done  40 out of  40 | elapsed:    0.0s finished\n",
                        "[Parallel(n_jobs=-1)]: Using backend LokyBackend with 4 concurrent workers.\n",
                        "[Parallel(n_jobs=-1)]: Done  40 out of  40 | elapsed:    0.2s finished\n",
                        "[Parallel(n_jobs=4)]: Using backend ThreadingBackend with 4 concurrent workers.\n",
                        "[Parallel(n_jobs=4)]: Done  40 out of  40 | elapsed:    0.0s finished\n",
                        "[Parallel(n_jobs=-1)]: Using backend LokyBackend with 4 concurrent workers.\n",
                        "[Parallel(n_jobs=-1)]: Done  40 out of  40 | elapsed:    0.3s finished\n",
                        "[Parallel(n_jobs=4)]: Using backend ThreadingBackend with 4 concurrent workers.\n",
                        "[Parallel(n_jobs=4)]: Done  40 out of  40 | elapsed:    0.0s finished\n",
                        "[Parallel(n_jobs=-1)]: Using backend LokyBackend with 4 concurrent workers.\n",
                        "[Parallel(n_jobs=-1)]: Done  40 out of  40 | elapsed:    0.2s finished\n",
                        "[Parallel(n_jobs=4)]: Using backend ThreadingBackend with 4 concurrent workers.\n",
                        "[Parallel(n_jobs=4)]: Done  40 out of  40 | elapsed:    0.0s finished\n",
                        "[Parallel(n_jobs=-1)]: Using backend LokyBackend with 4 concurrent workers.\n"
                    ]
                },
                {
                    "name": "stderr",
                    "output_type": "stream",
                    "text": [
                        "[Parallel(n_jobs=-1)]: Done  40 out of  40 | elapsed:    0.3s finished\n",
                        "[Parallel(n_jobs=4)]: Using backend ThreadingBackend with 4 concurrent workers.\n",
                        "[Parallel(n_jobs=4)]: Done  40 out of  40 | elapsed:    0.0s finished\n",
                        "[Parallel(n_jobs=-1)]: Using backend LokyBackend with 4 concurrent workers.\n",
                        "[Parallel(n_jobs=-1)]: Done  40 out of  40 | elapsed:    0.3s finished\n",
                        "[Parallel(n_jobs=4)]: Using backend ThreadingBackend with 4 concurrent workers.\n",
                        "[Parallel(n_jobs=4)]: Done  40 out of  40 | elapsed:    0.0s finished\n",
                        "[Parallel(n_jobs=-1)]: Using backend LokyBackend with 4 concurrent workers.\n",
                        "[Parallel(n_jobs=-1)]: Done  50 out of  50 | elapsed:    0.3s finished\n",
                        "[Parallel(n_jobs=4)]: Using backend ThreadingBackend with 4 concurrent workers.\n",
                        "[Parallel(n_jobs=4)]: Done  42 tasks      | elapsed:    0.0s\n",
                        "[Parallel(n_jobs=4)]: Done  50 out of  50 | elapsed:    0.0s finished\n",
                        "[Parallel(n_jobs=-1)]: Using backend LokyBackend with 4 concurrent workers.\n",
                        "[Parallel(n_jobs=-1)]: Done  50 out of  50 | elapsed:    0.3s finished\n",
                        "[Parallel(n_jobs=4)]: Using backend ThreadingBackend with 4 concurrent workers.\n",
                        "[Parallel(n_jobs=4)]: Done  42 tasks      | elapsed:    0.0s\n",
                        "[Parallel(n_jobs=4)]: Done  50 out of  50 | elapsed:    0.0s finished\n",
                        "[Parallel(n_jobs=-1)]: Using backend LokyBackend with 4 concurrent workers.\n",
                        "[Parallel(n_jobs=-1)]: Done  50 out of  50 | elapsed:    0.3s finished\n",
                        "[Parallel(n_jobs=4)]: Using backend ThreadingBackend with 4 concurrent workers.\n",
                        "[Parallel(n_jobs=4)]: Done  42 tasks      | elapsed:    0.0s\n",
                        "[Parallel(n_jobs=4)]: Done  50 out of  50 | elapsed:    0.0s finished\n",
                        "[Parallel(n_jobs=-1)]: Using backend LokyBackend with 4 concurrent workers.\n",
                        "[Parallel(n_jobs=-1)]: Done  50 out of  50 | elapsed:    0.3s finished\n",
                        "[Parallel(n_jobs=4)]: Using backend ThreadingBackend with 4 concurrent workers.\n",
                        "[Parallel(n_jobs=4)]: Done  42 tasks      | elapsed:    0.0s\n",
                        "[Parallel(n_jobs=4)]: Done  50 out of  50 | elapsed:    0.0s finished\n",
                        "[Parallel(n_jobs=-1)]: Using backend LokyBackend with 4 concurrent workers.\n",
                        "[Parallel(n_jobs=-1)]: Done  50 out of  50 | elapsed:    0.3s finished\n",
                        "[Parallel(n_jobs=4)]: Using backend ThreadingBackend with 4 concurrent workers.\n",
                        "[Parallel(n_jobs=4)]: Done  42 tasks      | elapsed:    0.0s\n",
                        "[Parallel(n_jobs=4)]: Done  50 out of  50 | elapsed:    0.0s finished\n",
                        "[Parallel(n_jobs=-1)]: Using backend LokyBackend with 4 concurrent workers.\n",
                        "[Parallel(n_jobs=-1)]: Done  50 out of  50 | elapsed:    0.4s finished\n",
                        "[Parallel(n_jobs=4)]: Using backend ThreadingBackend with 4 concurrent workers.\n",
                        "[Parallel(n_jobs=4)]: Done  42 tasks      | elapsed:    0.0s\n",
                        "[Parallel(n_jobs=4)]: Done  50 out of  50 | elapsed:    0.0s finished\n",
                        "[Parallel(n_jobs=-1)]: Using backend LokyBackend with 4 concurrent workers.\n",
                        "[Parallel(n_jobs=-1)]: Done  60 out of  60 | elapsed:    0.4s finished\n",
                        "[Parallel(n_jobs=4)]: Using backend ThreadingBackend with 4 concurrent workers.\n",
                        "[Parallel(n_jobs=4)]: Done  42 tasks      | elapsed:    0.0s\n",
                        "[Parallel(n_jobs=4)]: Done  60 out of  60 | elapsed:    0.0s finished\n",
                        "[Parallel(n_jobs=-1)]: Using backend LokyBackend with 4 concurrent workers.\n",
                        "[Parallel(n_jobs=-1)]: Done  60 out of  60 | elapsed:    0.4s finished\n",
                        "[Parallel(n_jobs=4)]: Using backend ThreadingBackend with 4 concurrent workers.\n",
                        "[Parallel(n_jobs=4)]: Done  42 tasks      | elapsed:    0.0s\n",
                        "[Parallel(n_jobs=4)]: Done  60 out of  60 | elapsed:    0.0s finished\n",
                        "[Parallel(n_jobs=-1)]: Using backend LokyBackend with 4 concurrent workers.\n",
                        "[Parallel(n_jobs=-1)]: Done  60 out of  60 | elapsed:    0.3s finished\n",
                        "[Parallel(n_jobs=4)]: Using backend ThreadingBackend with 4 concurrent workers.\n",
                        "[Parallel(n_jobs=4)]: Done  42 tasks      | elapsed:    0.0s\n",
                        "[Parallel(n_jobs=4)]: Done  60 out of  60 | elapsed:    0.0s finished\n",
                        "[Parallel(n_jobs=-1)]: Using backend LokyBackend with 4 concurrent workers.\n",
                        "[Parallel(n_jobs=-1)]: Done  60 out of  60 | elapsed:    0.4s finished\n",
                        "[Parallel(n_jobs=4)]: Using backend ThreadingBackend with 4 concurrent workers.\n",
                        "[Parallel(n_jobs=4)]: Done  42 tasks      | elapsed:    0.0s\n",
                        "[Parallel(n_jobs=4)]: Done  60 out of  60 | elapsed:    0.0s finished\n",
                        "[Parallel(n_jobs=-1)]: Using backend LokyBackend with 4 concurrent workers.\n",
                        "[Parallel(n_jobs=-1)]: Done  60 out of  60 | elapsed:    0.4s finished\n",
                        "[Parallel(n_jobs=4)]: Using backend ThreadingBackend with 4 concurrent workers.\n",
                        "[Parallel(n_jobs=4)]: Done  42 tasks      | elapsed:    0.0s\n",
                        "[Parallel(n_jobs=4)]: Done  60 out of  60 | elapsed:    0.0s finished\n",
                        "[Parallel(n_jobs=-1)]: Using backend LokyBackend with 4 concurrent workers.\n",
                        "[Parallel(n_jobs=-1)]: Done  60 out of  60 | elapsed:    0.3s finished\n",
                        "[Parallel(n_jobs=4)]: Using backend ThreadingBackend with 4 concurrent workers.\n",
                        "[Parallel(n_jobs=4)]: Done  42 tasks      | elapsed:    0.0s\n",
                        "[Parallel(n_jobs=4)]: Done  60 out of  60 | elapsed:    0.0s finished\n",
                        "[Parallel(n_jobs=-1)]: Using backend LokyBackend with 4 concurrent workers.\n",
                        "[Parallel(n_jobs=-1)]: Done  70 out of  70 | elapsed:    0.4s finished\n",
                        "[Parallel(n_jobs=4)]: Using backend ThreadingBackend with 4 concurrent workers.\n",
                        "[Parallel(n_jobs=4)]: Done  42 tasks      | elapsed:    0.0s\n",
                        "[Parallel(n_jobs=4)]: Done  70 out of  70 | elapsed:    0.0s finished\n",
                        "[Parallel(n_jobs=-1)]: Using backend LokyBackend with 4 concurrent workers.\n",
                        "[Parallel(n_jobs=-1)]: Done  70 out of  70 | elapsed:    0.4s finished\n",
                        "[Parallel(n_jobs=4)]: Using backend ThreadingBackend with 4 concurrent workers.\n",
                        "[Parallel(n_jobs=4)]: Done  42 tasks      | elapsed:    0.0s\n",
                        "[Parallel(n_jobs=4)]: Done  70 out of  70 | elapsed:    0.0s finished\n",
                        "[Parallel(n_jobs=-1)]: Using backend LokyBackend with 4 concurrent workers.\n",
                        "[Parallel(n_jobs=-1)]: Done  70 out of  70 | elapsed:    0.4s finished\n",
                        "[Parallel(n_jobs=4)]: Using backend ThreadingBackend with 4 concurrent workers.\n",
                        "[Parallel(n_jobs=4)]: Done  42 tasks      | elapsed:    0.0s\n",
                        "[Parallel(n_jobs=4)]: Done  70 out of  70 | elapsed:    0.0s finished\n",
                        "[Parallel(n_jobs=-1)]: Using backend LokyBackend with 4 concurrent workers.\n",
                        "[Parallel(n_jobs=-1)]: Done  70 out of  70 | elapsed:    0.4s finished\n",
                        "[Parallel(n_jobs=4)]: Using backend ThreadingBackend with 4 concurrent workers.\n",
                        "[Parallel(n_jobs=4)]: Done  42 tasks      | elapsed:    0.0s\n",
                        "[Parallel(n_jobs=4)]: Done  70 out of  70 | elapsed:    0.0s finished\n",
                        "[Parallel(n_jobs=-1)]: Using backend LokyBackend with 4 concurrent workers.\n",
                        "[Parallel(n_jobs=-1)]: Done  70 out of  70 | elapsed:    0.4s finished\n",
                        "[Parallel(n_jobs=4)]: Using backend ThreadingBackend with 4 concurrent workers.\n",
                        "[Parallel(n_jobs=4)]: Done  42 tasks      | elapsed:    0.0s\n",
                        "[Parallel(n_jobs=4)]: Done  70 out of  70 | elapsed:    0.0s finished\n",
                        "[Parallel(n_jobs=-1)]: Using backend LokyBackend with 4 concurrent workers.\n",
                        "[Parallel(n_jobs=-1)]: Done  70 out of  70 | elapsed:    0.4s finished\n",
                        "[Parallel(n_jobs=4)]: Using backend ThreadingBackend with 4 concurrent workers.\n",
                        "[Parallel(n_jobs=4)]: Done  42 tasks      | elapsed:    0.0s\n",
                        "[Parallel(n_jobs=4)]: Done  70 out of  70 | elapsed:    0.0s finished\n",
                        "[Parallel(n_jobs=-1)]: Using backend LokyBackend with 4 concurrent workers.\n",
                        "[Parallel(n_jobs=-1)]: Done  80 out of  80 | elapsed:    0.4s finished\n",
                        "[Parallel(n_jobs=4)]: Using backend ThreadingBackend with 4 concurrent workers.\n",
                        "[Parallel(n_jobs=4)]: Done  42 tasks      | elapsed:    0.0s\n",
                        "[Parallel(n_jobs=4)]: Done  80 out of  80 | elapsed:    0.0s finished\n",
                        "[Parallel(n_jobs=-1)]: Using backend LokyBackend with 4 concurrent workers.\n",
                        "[Parallel(n_jobs=-1)]: Done  80 out of  80 | elapsed:    0.4s finished\n",
                        "[Parallel(n_jobs=4)]: Using backend ThreadingBackend with 4 concurrent workers.\n",
                        "[Parallel(n_jobs=4)]: Done  42 tasks      | elapsed:    0.0s\n",
                        "[Parallel(n_jobs=4)]: Done  80 out of  80 | elapsed:    0.0s finished\n",
                        "[Parallel(n_jobs=-1)]: Using backend LokyBackend with 4 concurrent workers.\n",
                        "[Parallel(n_jobs=-1)]: Done  80 out of  80 | elapsed:    0.4s finished\n",
                        "[Parallel(n_jobs=4)]: Using backend ThreadingBackend with 4 concurrent workers.\n",
                        "[Parallel(n_jobs=4)]: Done  42 tasks      | elapsed:    0.0s\n",
                        "[Parallel(n_jobs=4)]: Done  80 out of  80 | elapsed:    0.0s finished\n",
                        "[Parallel(n_jobs=-1)]: Using backend LokyBackend with 4 concurrent workers.\n",
                        "[Parallel(n_jobs=-1)]: Done  80 out of  80 | elapsed:    0.6s finished\n",
                        "[Parallel(n_jobs=4)]: Using backend ThreadingBackend with 4 concurrent workers.\n",
                        "[Parallel(n_jobs=4)]: Done  42 tasks      | elapsed:    0.0s\n",
                        "[Parallel(n_jobs=4)]: Done  80 out of  80 | elapsed:    0.0s finished\n",
                        "[Parallel(n_jobs=-1)]: Using backend LokyBackend with 4 concurrent workers.\n"
                    ]
                },
                {
                    "name": "stderr",
                    "output_type": "stream",
                    "text": [
                        "[Parallel(n_jobs=-1)]: Done  80 out of  80 | elapsed:    0.5s finished\n",
                        "[Parallel(n_jobs=4)]: Using backend ThreadingBackend with 4 concurrent workers.\n",
                        "[Parallel(n_jobs=4)]: Done  42 tasks      | elapsed:    0.0s\n",
                        "[Parallel(n_jobs=4)]: Done  80 out of  80 | elapsed:    0.0s finished\n",
                        "[Parallel(n_jobs=-1)]: Using backend LokyBackend with 4 concurrent workers.\n",
                        "[Parallel(n_jobs=-1)]: Done  80 out of  80 | elapsed:    0.6s finished\n",
                        "[Parallel(n_jobs=4)]: Using backend ThreadingBackend with 4 concurrent workers.\n",
                        "[Parallel(n_jobs=4)]: Done  42 tasks      | elapsed:    0.0s\n",
                        "[Parallel(n_jobs=4)]: Done  80 out of  80 | elapsed:    0.0s finished\n",
                        "[Parallel(n_jobs=-1)]: Using backend LokyBackend with 4 concurrent workers.\n",
                        "[Parallel(n_jobs=-1)]: Done  90 out of  90 | elapsed:    0.4s finished\n",
                        "[Parallel(n_jobs=4)]: Using backend ThreadingBackend with 4 concurrent workers.\n",
                        "[Parallel(n_jobs=4)]: Done  42 tasks      | elapsed:    0.0s\n",
                        "[Parallel(n_jobs=4)]: Done  90 out of  90 | elapsed:    0.0s finished\n",
                        "[Parallel(n_jobs=-1)]: Using backend LokyBackend with 4 concurrent workers.\n",
                        "[Parallel(n_jobs=-1)]: Done  90 out of  90 | elapsed:    0.8s finished\n",
                        "[Parallel(n_jobs=4)]: Using backend ThreadingBackend with 4 concurrent workers.\n",
                        "[Parallel(n_jobs=4)]: Done  42 tasks      | elapsed:    0.0s\n",
                        "[Parallel(n_jobs=4)]: Done  90 out of  90 | elapsed:    0.0s finished\n",
                        "[Parallel(n_jobs=-1)]: Using backend LokyBackend with 4 concurrent workers.\n",
                        "[Parallel(n_jobs=-1)]: Done  90 out of  90 | elapsed:    0.5s finished\n",
                        "[Parallel(n_jobs=4)]: Using backend ThreadingBackend with 4 concurrent workers.\n",
                        "[Parallel(n_jobs=4)]: Done  42 tasks      | elapsed:    0.0s\n",
                        "[Parallel(n_jobs=4)]: Done  90 out of  90 | elapsed:    0.0s finished\n",
                        "[Parallel(n_jobs=-1)]: Using backend LokyBackend with 4 concurrent workers.\n",
                        "[Parallel(n_jobs=-1)]: Done  90 out of  90 | elapsed:    0.5s finished\n",
                        "[Parallel(n_jobs=4)]: Using backend ThreadingBackend with 4 concurrent workers.\n",
                        "[Parallel(n_jobs=4)]: Done  42 tasks      | elapsed:    0.0s\n",
                        "[Parallel(n_jobs=4)]: Done  90 out of  90 | elapsed:    0.0s finished\n",
                        "[Parallel(n_jobs=-1)]: Using backend LokyBackend with 4 concurrent workers.\n",
                        "[Parallel(n_jobs=-1)]: Done  90 out of  90 | elapsed:    0.6s finished\n",
                        "[Parallel(n_jobs=4)]: Using backend ThreadingBackend with 4 concurrent workers.\n",
                        "[Parallel(n_jobs=4)]: Done  42 tasks      | elapsed:    0.0s\n",
                        "[Parallel(n_jobs=4)]: Done  90 out of  90 | elapsed:    0.0s finished\n",
                        "[Parallel(n_jobs=-1)]: Using backend LokyBackend with 4 concurrent workers.\n",
                        "[Parallel(n_jobs=-1)]: Done  90 out of  90 | elapsed:    0.5s finished\n",
                        "[Parallel(n_jobs=4)]: Using backend ThreadingBackend with 4 concurrent workers.\n",
                        "[Parallel(n_jobs=4)]: Done  42 tasks      | elapsed:    0.0s\n",
                        "[Parallel(n_jobs=4)]: Done  90 out of  90 | elapsed:    0.0s finished\n",
                        "[Parallel(n_jobs=-1)]: Using backend LokyBackend with 4 concurrent workers.\n",
                        "[Parallel(n_jobs=-1)]: Done 100 out of 100 | elapsed:    0.6s finished\n",
                        "[Parallel(n_jobs=4)]: Using backend ThreadingBackend with 4 concurrent workers.\n",
                        "[Parallel(n_jobs=4)]: Done  42 tasks      | elapsed:    0.0s\n",
                        "[Parallel(n_jobs=4)]: Done 100 out of 100 | elapsed:    0.0s finished\n",
                        "[Parallel(n_jobs=-1)]: Using backend LokyBackend with 4 concurrent workers.\n",
                        "[Parallel(n_jobs=-1)]: Done 100 out of 100 | elapsed:    0.8s finished\n",
                        "[Parallel(n_jobs=4)]: Using backend ThreadingBackend with 4 concurrent workers.\n",
                        "[Parallel(n_jobs=4)]: Done  42 tasks      | elapsed:    0.0s\n",
                        "[Parallel(n_jobs=4)]: Done 100 out of 100 | elapsed:    0.0s finished\n",
                        "[Parallel(n_jobs=-1)]: Using backend LokyBackend with 4 concurrent workers.\n",
                        "[Parallel(n_jobs=-1)]: Done 100 out of 100 | elapsed:    0.6s finished\n",
                        "[Parallel(n_jobs=4)]: Using backend ThreadingBackend with 4 concurrent workers.\n",
                        "[Parallel(n_jobs=4)]: Done  42 tasks      | elapsed:    0.0s\n",
                        "[Parallel(n_jobs=4)]: Done 100 out of 100 | elapsed:    0.0s finished\n",
                        "[Parallel(n_jobs=-1)]: Using backend LokyBackend with 4 concurrent workers.\n",
                        "[Parallel(n_jobs=-1)]: Done 100 out of 100 | elapsed:    0.7s finished\n",
                        "[Parallel(n_jobs=4)]: Using backend ThreadingBackend with 4 concurrent workers.\n",
                        "[Parallel(n_jobs=4)]: Done  42 tasks      | elapsed:    0.0s\n",
                        "[Parallel(n_jobs=4)]: Done 100 out of 100 | elapsed:    0.0s finished\n",
                        "[Parallel(n_jobs=-1)]: Using backend LokyBackend with 4 concurrent workers.\n",
                        "[Parallel(n_jobs=-1)]: Done 100 out of 100 | elapsed:    0.5s finished\n",
                        "[Parallel(n_jobs=4)]: Using backend ThreadingBackend with 4 concurrent workers.\n",
                        "[Parallel(n_jobs=4)]: Done  42 tasks      | elapsed:    0.0s\n",
                        "[Parallel(n_jobs=4)]: Done 100 out of 100 | elapsed:    0.0s finished\n",
                        "[Parallel(n_jobs=-1)]: Using backend LokyBackend with 4 concurrent workers.\n",
                        "[Parallel(n_jobs=-1)]: Done 100 out of 100 | elapsed:    0.6s finished\n",
                        "[Parallel(n_jobs=4)]: Using backend ThreadingBackend with 4 concurrent workers.\n",
                        "[Parallel(n_jobs=4)]: Done  42 tasks      | elapsed:    0.0s\n",
                        "[Parallel(n_jobs=4)]: Done 100 out of 100 | elapsed:    0.0s finished\n",
                        "[Parallel(n_jobs=-1)]: Using backend ThreadingBackend with 4 concurrent workers.\n",
                        "[Parallel(n_jobs=-1)]: Done  30 out of  30 | elapsed:    0.2s finished\n"
                    ]
                },
                {
                    "data": {
                        "text/plain": [
                            "GridSearchCV(cv='warn', error_score='raise-deprecating',\n",
                            "             estimator=RandomForestRegressor(bootstrap=True, criterion='mse',\n",
                            "                                             max_depth=None,\n",
                            "                                             max_features='auto',\n",
                            "                                             max_leaf_nodes=None,\n",
                            "                                             min_impurity_decrease=0.0,\n",
                            "                                             min_impurity_split=None,\n",
                            "                                             min_samples_leaf=1,\n",
                            "                                             min_samples_split=2,\n",
                            "                                             min_weight_fraction_leaf=0.0,\n",
                            "                                             n_estimators='warn', n_jobs=None,\n",
                            "                                             oob_score=False, random_state=None,\n",
                            "                                             verbose=True, warm_start=False),\n",
                            "             iid='warn', n_jobs=None,\n",
                            "             param_grid={'n_estimators': [10, 20, 30, 40, 50, 60, 70, 80, 90,\n",
                            "                                          100],\n",
                            "                         'n_jobs': [-1], 'oob_score': [True, False],\n",
                            "                         'random_state': [1]},\n",
                            "             pre_dispatch='2*n_jobs', refit=True, return_train_score=False,\n",
                            "             scoring=None, verbose=0)"
                        ]
                    },
                    "execution_count": 84,
                    "metadata": {},
                    "output_type": "execute_result"
                }
            ],
            "source": [
                "params = {\"n_estimators\": [i for i in range(10, 101, 10)], \"oob_score\": [True, False], \"n_jobs\": [-1], \"random_state\": [1]}\n",
                "rf_clf = RandomForestRegressor(verbose=True)\n",
                "grid_clf = GridSearchCV(rf_clf, param_grid=params)\n",
                "grid_clf.fit(train_x, train_y)"
            ]
        },
        {
            "cell_type": "code",
            "execution_count": 85,
            "metadata": {},
            "outputs": [
                {
                    "data": {
                        "text/plain": [
                            "RandomForestRegressor(bootstrap=True, criterion='mse', max_depth=None,\n",
                            "                      max_features='auto', max_leaf_nodes=None,\n",
                            "                      min_impurity_decrease=0.0, min_impurity_split=None,\n",
                            "                      min_samples_leaf=1, min_samples_split=2,\n",
                            "                      min_weight_fraction_leaf=0.0, n_estimators=30, n_jobs=-1,\n",
                            "                      oob_score=True, random_state=1, verbose=True,\n",
                            "                      warm_start=False)"
                        ]
                    },
                    "execution_count": 85,
                    "metadata": {},
                    "output_type": "execute_result"
                }
            ],
            "source": [
                "clf = grid_clf.best_estimator_\n",
                "clf"
            ]
        },
        {
            "cell_type": "code",
            "execution_count": 87,
            "metadata": {},
            "outputs": [
                {
                    "name": "stderr",
                    "output_type": "stream",
                    "text": [
                        "[Parallel(n_jobs=4)]: Using backend ThreadingBackend with 4 concurrent workers.\n",
                        "[Parallel(n_jobs=4)]: Done  30 out of  30 | elapsed:    0.0s finished\n",
                        "[Parallel(n_jobs=4)]: Using backend ThreadingBackend with 4 concurrent workers.\n",
                        "[Parallel(n_jobs=4)]: Done  30 out of  30 | elapsed:    0.0s finished\n"
                    ]
                },
                {
                    "name": "stdout",
                    "output_type": "stream",
                    "text": [
                        "0.9360824493402954 -0.6757400202687252\n"
                    ]
                }
            ],
            "source": [
                "train_pred = clf.predict(train_x)\n",
                "train_r2 = r2_score(y_pred=train_pred, y_true=train_y)\n",
                "test_pred = clf.predict(test_x)\n",
                "test_r2 = r2_score(y_pred=test_pred, y_true=test_y)\n",
                "print(train_r2, test_r2)"
            ]
        },
        {
            "cell_type": "code",
            "execution_count": 88,
            "metadata": {},
            "outputs": [
                {
                    "data": {
                        "image/png": "[encoded data removed]",
                        "text/plain": [
                            "<Figure size 432x288 with 1 Axes>"
                        ]
                    },
                    "metadata": {
                        "needs_background": "light"
                    },
                    "output_type": "display_data"
                }
            ],
            "source": [
                "plt.figure()\n",
                "plt.scatter(test_y, test_pred)\n",
                "plt.title(\"Test performance\")\n",
                "plt.xlabel(\"True values\")\n",
                "plt.ylabel(\"Predicted values\")\n",
                "plt.show()"
            ]
        },
        {
            "cell_type": "code",
            "execution_count": 89,
            "metadata": {},
            "outputs": [
                {
                    "data": {
                        "image/png": "[encoded data removed]",
                        "text/plain": [
                            "<Figure size 432x288 with 1 Axes>"
                        ]
                    },
                    "metadata": {
                        "needs_background": "light"
                    },
                    "output_type": "display_data"
                }
            ],
            "source": [
                "plt.figure()\n",
                "plt.scatter(train_y, train_pred)\n",
                "plt.title(\"Training performance\")\n",
                "plt.xlabel(\"True values\")\n",
                "plt.ylabel(\"Predicted values\")\n",
                "plt.show()"
            ]
        },
        {
            "cell_type": "code",
            "execution_count": 201,
            "metadata": {},
            "outputs": [
                {
                    "data": {
                        "text/plain": [
                            "['vmax_model.clf']"
                        ]
                    },
                    "execution_count": 201,
                    "metadata": {},
                    "output_type": "execute_result"
                }
            ],
            "source": [
                "joblib.dump(clf, \"vmax_model.clf\")"
            ]
        },
        {
            "cell_type": "code",
            "execution_count": null,
            "metadata": {},
            "outputs": [],
            "source": []
        }
    ],
    "metadata": {
        "kernelspec": {
            "display_name": "Python [conda env:seqcomhol]",
            "language": "python",
            "name": "conda-env-seqcomhol-py"
        },
        "language_info": {
            "codemirror_mode": {
                "name": "ipython",
                "version": 3
            },
            "file_extension": ".py",
            "mimetype": "text/x-python",
            "name": "python",
            "nbconvert_exporter": "python",
            "pygments_lexer": "ipython3",
            "version": "3.6.5"
        }
    },
    "nbformat": 4,
    "nbformat_minor": 2
}